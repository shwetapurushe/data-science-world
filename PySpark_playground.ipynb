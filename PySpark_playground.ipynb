{
 "cells": [
  {
   "cell_type": "code",
   "execution_count": 19,
   "metadata": {},
   "outputs": [],
   "source": [
    "import findspark\n",
    "findspark.init()\n",
    "\n",
    "import pyspark;\n",
    "from pyspark.ml import Pipeline\n",
    "from pyspark.ml.classification import GBTClassifier, DecisionTreeClassifier\n",
    "from pyspark.ml.feature import StringIndexer, VectorIndexer, VectorAssembler, IndexToString\n",
    "from pyspark.ml.evaluation import MulticlassClassificationEvaluator\n",
    "\n",
    "\n",
    "from pyspark import SparkConf, SparkContext\n",
    "from pyspark.sql import SQLContext, SparkSession\n",
    "from pyspark.sql.types import *\n",
    "from pyspark import SparkConf, SparkContext "
   ]
  },
  {
   "cell_type": "code",
   "execution_count": 2,
   "metadata": {},
   "outputs": [
    {
     "data": {
      "text/plain": [
       "<pyspark.sql.session.SparkSession.Builder at 0x107aa6d30>"
      ]
     },
     "execution_count": 2,
     "metadata": {},
     "output_type": "execute_result"
    }
   ],
   "source": [
    "spark = SparkSession.builder.master('local').appName('playground').config('spark.driver.memory', '5G').getOrCreate()\n",
    "spark.builder.config('spark.executor.memory', '16G')\n",
    "spark.builder.config(\"spark.executor.cores\", \"4\")"
   ]
  },
  {
   "cell_type": "code",
   "execution_count": 3,
   "metadata": {},
   "outputs": [
    {
     "data": {
      "text/plain": [
       "[Row(Id=1, SepalLength=5.1, SepalWidth=3.5, PetalLength=1.4, PetalWidth=0.2, Species='setosa'),\n",
       " Row(Id=2, SepalLength=4.9, SepalWidth=3.0, PetalLength=1.4, PetalWidth=0.2, Species='setosa'),\n",
       " Row(Id=3, SepalLength=4.7, SepalWidth=3.2, PetalLength=1.3, PetalWidth=0.2, Species='setosa'),\n",
       " Row(Id=4, SepalLength=4.6, SepalWidth=3.1, PetalLength=1.5, PetalWidth=0.2, Species='setosa'),\n",
       " Row(Id=5, SepalLength=5.0, SepalWidth=3.6, PetalLength=1.4, PetalWidth=0.2, Species='setosa')]"
      ]
     },
     "execution_count": 3,
     "metadata": {},
     "output_type": "execute_result"
    }
   ],
   "source": [
    "#Importing Data \n",
    "df = spark.read.csv('/Users/spurushe/Downloads/iris.csv', header='true', inferSchema='true')\n",
    "df.head(5)"
   ]
  },
  {
   "cell_type": "code",
   "execution_count": 4,
   "metadata": {},
   "outputs": [
    {
     "data": {
      "text/plain": [
       "pyspark.sql.dataframe.DataFrame"
      ]
     },
     "execution_count": 4,
     "metadata": {},
     "output_type": "execute_result"
    }
   ],
   "source": [
    "type(df)"
   ]
  },
  {
   "cell_type": "code",
   "execution_count": 5,
   "metadata": {},
   "outputs": [],
   "source": [
    "#StringIndexer () is an Estimator which returns a Transformer (labelIndexer)\n",
    "# Converts label String classes to indices --- for e.g. 'good', 'bad', 'ugly' to 0,1,2\n",
    "labelIndexer = StringIndexer(inputCol=\"Species\", outputCol=\"indexedLabel\").fit(df)"
   ]
  },
  {
   "cell_type": "code",
   "execution_count": 6,
   "metadata": {},
   "outputs": [],
   "source": [
    "featureAssembler = VectorAssembler(inputCols= [x for x in df.columns if x != 'Species'], outputCol=\"features\")\n",
    "\n",
    "featureIndexer =VectorIndexer(inputCol=\"features\", outputCol=\"indexedFeatures\", maxCategories=4)"
   ]
  },
  {
   "cell_type": "code",
   "execution_count": 7,
   "metadata": {},
   "outputs": [],
   "source": [
    "#*******************************************\n",
    "# SINGLE TRAIN TEST SPLIT\n",
    "#*******************************************.\n",
    "(trainingData, testData) = df.randomSplit([0.7, 0.3])"
   ]
  },
  {
   "cell_type": "code",
   "execution_count": 8,
   "metadata": {},
   "outputs": [],
   "source": [
    "#*******************************************\n",
    "# TRAINING THE MODEL\n",
    "#*******************************************.\n",
    "dec_t = DecisionTreeClassifier(labelCol=\"indexedLabel\", featuresCol=\"indexedFeatures\")"
   ]
  },
  {
   "cell_type": "code",
   "execution_count": 9,
   "metadata": {},
   "outputs": [],
   "source": [
    "# Chain indexers and Decision tree in a Pipeline\n",
    "pipeline = Pipeline(stages=[labelIndexer, featureAssembler, featureIndexer, dec_t])"
   ]
  },
  {
   "cell_type": "code",
   "execution_count": 10,
   "metadata": {},
   "outputs": [
    {
     "data": {
      "text/plain": [
       "[StringIndexer_40519d887ce0b9f43ba3,\n",
       " VectorAssembler_45298c653e44d17f956f,\n",
       " VectorIndexer_43c6ad263a0207b7b6cb,\n",
       " DecisionTreeClassifier_4fb2a7260266e65ef7cf]"
      ]
     },
     "execution_count": 10,
     "metadata": {},
     "output_type": "execute_result"
    }
   ],
   "source": [
    "pipeline.getStages()"
   ]
  },
  {
   "cell_type": "code",
   "execution_count": 11,
   "metadata": {},
   "outputs": [],
   "source": [
    "# Train model.  This also runs the indexers.\n",
    "# Estimators' .fit() returns a Transformer (model)\n",
    "model = pipeline.fit(trainingData)\n"
   ]
  },
  {
   "cell_type": "code",
   "execution_count": 14,
   "metadata": {},
   "outputs": [],
   "source": [
    "#*******************************************\n",
    "# PREDICTION\n",
    "#*******************************************\n",
    "predictions = model.transform(testData)"
   ]
  },
  {
   "cell_type": "code",
   "execution_count": 18,
   "metadata": {},
   "outputs": [
    {
     "data": {
      "text/plain": [
       "[Row(indexedLabel=2.0, prediction=2.0),\n",
       " Row(indexedLabel=2.0, prediction=2.0),\n",
       " Row(indexedLabel=2.0, prediction=2.0),\n",
       " Row(indexedLabel=2.0, prediction=2.0),\n",
       " Row(indexedLabel=2.0, prediction=2.0)]"
      ]
     },
     "execution_count": 18,
     "metadata": {},
     "output_type": "execute_result"
    }
   ],
   "source": [
    "# Quick view at columns of interest\n",
    "predictions.select('indexedLabel', 'prediction').head(5)"
   ]
  },
  {
   "cell_type": "code",
   "execution_count": 20,
   "metadata": {},
   "outputs": [
    {
     "data": {
      "text/plain": [
       "['Id',\n",
       " 'SepalLength',\n",
       " 'SepalWidth',\n",
       " 'PetalLength',\n",
       " 'PetalWidth',\n",
       " 'Species',\n",
       " 'indexedLabel',\n",
       " 'features',\n",
       " 'indexedFeatures',\n",
       " 'rawPrediction',\n",
       " 'probability',\n",
       " 'prediction']"
      ]
     },
     "execution_count": 20,
     "metadata": {},
     "output_type": "execute_result"
    }
   ],
   "source": [
    "predictions.columns"
   ]
  },
  {
   "cell_type": "code",
   "execution_count": 27,
   "metadata": {},
   "outputs": [
    {
     "data": {
      "text/plain": [
       "[Row(Species='setosa', indexedLabel=2.0, Predicted_label='setosa'),\n",
       " Row(Species='setosa', indexedLabel=2.0, Predicted_label='setosa'),\n",
       " Row(Species='setosa', indexedLabel=2.0, Predicted_label='setosa'),\n",
       " Row(Species='setosa', indexedLabel=2.0, Predicted_label='setosa'),\n",
       " Row(Species='setosa', indexedLabel=2.0, Predicted_label='setosa'),\n",
       " Row(Species='setosa', indexedLabel=2.0, Predicted_label='setosa'),\n",
       " Row(Species='setosa', indexedLabel=2.0, Predicted_label='setosa'),\n",
       " Row(Species='setosa', indexedLabel=2.0, Predicted_label='setosa'),\n",
       " Row(Species='setosa', indexedLabel=2.0, Predicted_label='setosa'),\n",
       " Row(Species='setosa', indexedLabel=2.0, Predicted_label='setosa'),\n",
       " Row(Species='setosa', indexedLabel=2.0, Predicted_label='setosa'),\n",
       " Row(Species='setosa', indexedLabel=2.0, Predicted_label='setosa'),\n",
       " Row(Species='setosa', indexedLabel=2.0, Predicted_label='setosa'),\n",
       " Row(Species='setosa', indexedLabel=2.0, Predicted_label='setosa'),\n",
       " Row(Species='versicolor', indexedLabel=0.0, Predicted_label='versicolor'),\n",
       " Row(Species='versicolor', indexedLabel=0.0, Predicted_label='versicolor'),\n",
       " Row(Species='versicolor', indexedLabel=0.0, Predicted_label='versicolor'),\n",
       " Row(Species='versicolor', indexedLabel=0.0, Predicted_label='versicolor'),\n",
       " Row(Species='versicolor', indexedLabel=0.0, Predicted_label='versicolor'),\n",
       " Row(Species='versicolor', indexedLabel=0.0, Predicted_label='versicolor'),\n",
       " Row(Species='versicolor', indexedLabel=0.0, Predicted_label='versicolor'),\n",
       " Row(Species='versicolor', indexedLabel=0.0, Predicted_label='versicolor'),\n",
       " Row(Species='versicolor', indexedLabel=0.0, Predicted_label='versicolor'),\n",
       " Row(Species='versicolor', indexedLabel=0.0, Predicted_label='versicolor'),\n",
       " Row(Species='versicolor', indexedLabel=0.0, Predicted_label='versicolor'),\n",
       " Row(Species='versicolor', indexedLabel=0.0, Predicted_label='versicolor'),\n",
       " Row(Species='versicolor', indexedLabel=0.0, Predicted_label='versicolor'),\n",
       " Row(Species='virginica', indexedLabel=1.0, Predicted_label='virginica'),\n",
       " Row(Species='virginica', indexedLabel=1.0, Predicted_label='virginica'),\n",
       " Row(Species='virginica', indexedLabel=1.0, Predicted_label='virginica')]"
      ]
     },
     "execution_count": 27,
     "metadata": {},
     "output_type": "execute_result"
    }
   ],
   "source": [
    "# Convert indices back to labels\n",
    "in_to_label = IndexToString(inputCol='indexedLabel', outputCol='Predicted_label').transform(predictions)\n",
    "in_to_label.select('Species','indexedLabel', 'Predicted_label').head(30)"
   ]
  },
  {
   "cell_type": "code",
   "execution_count": 29,
   "metadata": {},
   "outputs": [
    {
     "name": "stdout",
     "output_type": "stream",
     "text": [
      "Accuracy of our DT model in predicting flowers is  1.0\n"
     ]
    }
   ],
   "source": [
    "#*******************************************\n",
    "# EVALUATION\n",
    "#\n",
    "# evaluating the performance of our ML model\n",
    "#*******************************************\n",
    "\n",
    "eva = MulticlassClassificationEvaluator(labelCol='indexedLabel', predictionCol='prediction', metricName='accuracy')\n",
    "\n",
    "accuracy = eva.evaluate(predictions)\n",
    "print(\"Accuracy of our DT model in predicting flowers is \", accuracy)"
   ]
  },
  {
   "cell_type": "code",
   "execution_count": 33,
   "metadata": {},
   "outputs": [
    {
     "name": "stdout",
     "output_type": "stream",
     "text": [
      "DecisionTreeClassificationModel (uid=DecisionTreeClassifier_4fb2a7260266e65ef7cf) of depth 3 with 7 nodes\n",
      "  If (feature 3 <= 2.45)\n",
      "   Predict: 2.0\n",
      "  Else (feature 3 > 2.45)\n",
      "   If (feature 0 <= 99.5)\n",
      "    Predict: 0.0\n",
      "   Else (feature 0 > 99.5)\n",
      "    If (feature 3 <= 4.25)\n",
      "     Predict: 0.0\n",
      "    Else (feature 3 > 4.25)\n",
      "     Predict: 1.0\n",
      "\n"
     ]
    }
   ],
   "source": [
    "## Getting the entire Decision Tree rules.\n",
    "\n",
    "print(model.stages[3].toDebugString)"
   ]
  },
  {
   "cell_type": "code",
   "execution_count": null,
   "metadata": {},
   "outputs": [],
   "source": []
  }
 ],
 "metadata": {
  "kernelspec": {
   "display_name": "Python 3",
   "language": "python",
   "name": "python3"
  },
  "language_info": {
   "codemirror_mode": {
    "name": "ipython",
    "version": 3
   },
   "file_extension": ".py",
   "mimetype": "text/x-python",
   "name": "python",
   "nbconvert_exporter": "python",
   "pygments_lexer": "ipython3",
   "version": "3.6.1"
  }
 },
 "nbformat": 4,
 "nbformat_minor": 2
}
