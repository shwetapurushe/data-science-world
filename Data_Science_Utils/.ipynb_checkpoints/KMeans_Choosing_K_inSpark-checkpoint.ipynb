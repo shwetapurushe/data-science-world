{
 "cells": [
  {
   "cell_type": "markdown",
   "metadata": {},
   "source": [
    "# Goal\n",
    "Methods to select the right number of 'k' for KMeans clustering.  \n",
    "  \n",
    "These methods although visual, are more feasible for larger datasets because the amount of data rendered in a plot in not very much. Scatterplots where every raw data point is rendered to see the visual spread of a cluster (relative to the centroid and relative to other clusters) involves rendering all the raw data points which is not \n",
    "practical for big data.\n",
    "\n",
    "1. Visual Elbow Criterion method\n",
    "2. Silhouette Analysis method"
   ]
  },
  {
   "cell_type": "code",
   "execution_count": 1,
   "metadata": {},
   "outputs": [],
   "source": [
    "# PYTHON MODULES\n",
    "\n",
    "import pandas as pd\n",
    "import matplotlib.pyplot as plt\n",
    "import seaborn as sns\n",
    "import numpy as np"
   ]
  },
  {
   "cell_type": "code",
   "execution_count": 2,
   "metadata": {},
   "outputs": [],
   "source": [
    "import findspark\n",
    "findspark.init()\n",
    "\n",
    "import pyspark;\n",
    "import os;"
   ]
  },
  {
   "cell_type": "code",
   "execution_count": 16,
   "metadata": {},
   "outputs": [],
   "source": [
    "# PYSPARK MODULES\n",
    "\n",
    "from pyspark import SparkConf, SparkContext\n",
    "from pyspark.sql import SQLContext, SparkSession\n",
    "from pyspark.sql.types import *\n",
    "import pyspark.sql.functions as f\n",
    "\n",
    "from pyspark.ml.feature import StandardScaler, VectorAssembler\n",
    "from pyspark.ml import Pipeline, PipelineModel\n",
    "from pyspark.ml.clustering import KMeans, KMeansModel\n",
    "from pyspark.ml.evaluation import ClusteringEvaluator"
   ]
  },
  {
   "cell_type": "code",
   "execution_count": 4,
   "metadata": {},
   "outputs": [],
   "source": [
    "spark = SparkSession.builder.master('local').appName('kmeans').config('spark.driver.memory', '5G').getOrCreate()"
   ]
  },
  {
   "cell_type": "code",
   "execution_count": 5,
   "metadata": {},
   "outputs": [
    {
     "data": {
      "text/plain": [
       "<pyspark.sql.session.SparkSession.Builder at 0x116413ba8>"
      ]
     },
     "execution_count": 5,
     "metadata": {},
     "output_type": "execute_result"
    }
   ],
   "source": [
    "spark.builder.config('spark.executor.memory', '16G')\n",
    "spark.builder.config(\"spark.executor.cores\", \"4\")"
   ]
  },
  {
   "cell_type": "markdown",
   "metadata": {},
   "source": [
    "### Data\n",
    "The iris dataset is only to make sure the reader's focus is on the technique and not the data.  \n",
    "**Note: When using your data, please make sure you have transformed and assembled (Vector assembler) the data so that the assumptions of KMeans have been considered.**"
   ]
  },
  {
   "cell_type": "code",
   "execution_count": 8,
   "metadata": {},
   "outputs": [
    {
     "name": "stdout",
     "output_type": "stream",
     "text": [
      "+---+-----------+----------+-----------+----------+-------+\n",
      "| Id|SepalLength|SepalWidth|PetalLength|PetalWidth|Species|\n",
      "+---+-----------+----------+-----------+----------+-------+\n",
      "|  1|        5.1|       3.5|        1.4|       0.2| setosa|\n",
      "|  2|        4.9|       3.0|        1.4|       0.2| setosa|\n",
      "|  3|        4.7|       3.2|        1.3|       0.2| setosa|\n",
      "|  4|        4.6|       3.1|        1.5|       0.2| setosa|\n",
      "|  5|        5.0|       3.6|        1.4|       0.2| setosa|\n",
      "+---+-----------+----------+-----------+----------+-------+\n",
      "only showing top 5 rows\n",
      "\n"
     ]
    }
   ],
   "source": [
    "df = spark.read.csv(\"../input_data/iris.csv\", header=True, inferSchema=True)\n",
    "df.show(5)"
   ]
  },
  {
   "cell_type": "code",
   "execution_count": 12,
   "metadata": {},
   "outputs": [
    {
     "name": "stdout",
     "output_type": "stream",
     "text": [
      "+-------+------------------+------------------+-------------------+------------------+------------------+---------+\n",
      "|summary|                Id|       SepalLength|         SepalWidth|       PetalLength|        PetalWidth|  Species|\n",
      "+-------+------------------+------------------+-------------------+------------------+------------------+---------+\n",
      "|  count|               150|               150|                150|               150|               150|      150|\n",
      "|   mean|              75.5| 5.843333333333335|  3.057333333333334|3.7580000000000027| 1.199333333333334|     null|\n",
      "| stddev|43.445367992456916|0.8280661279778637|0.43586628493669793|1.7652982332594662|0.7622376689603467|     null|\n",
      "|    min|                 1|               4.3|                2.0|               1.0|               0.1|   setosa|\n",
      "|    max|               150|               7.9|                4.4|               6.9|               2.5|virginica|\n",
      "+-------+------------------+------------------+-------------------+------------------+------------------+---------+\n",
      "\n"
     ]
    }
   ],
   "source": [
    "df.describe().show()"
   ]
  },
  {
   "cell_type": "markdown",
   "metadata": {},
   "source": [
    "#### Log transformations"
   ]
  },
  {
   "cell_type": "code",
   "execution_count": 17,
   "metadata": {},
   "outputs": [],
   "source": [
    "num_columns = [col[0] for col in df.dtypes if col[1] != 'string']\n",
    "log_transformed_df = df.select([ f.log10 \n",
    "                                    (\n",
    "                                        f.col(colm) + 1\n",
    "                                    ).name(colm)    \n",
    "                                for colm in num_columns ])"
   ]
  },
  {
   "cell_type": "markdown",
   "metadata": {},
   "source": [
    "#### Assembling and scaling"
   ]
  },
  {
   "cell_type": "code",
   "execution_count": 18,
   "metadata": {},
   "outputs": [],
   "source": [
    "# The columns need to be assembled into a single feature column before standard scaling them \n",
    "assembler = VectorAssembler( inputCols = log_transformed_df.columns, outputCol = 'unscaled_features' )\n",
    "\n",
    "scaler = StandardScaler( inputCol = 'unscaled_features', outputCol = 'features', withMean = True, withStd = True )\n",
    "\n",
    "sca_pipeline = Pipeline(stages= [assembler, scaler])"
   ]
  },
  {
   "cell_type": "code",
   "execution_count": 19,
   "metadata": {},
   "outputs": [],
   "source": [
    "scaled_df = sca_pipeline.fit(log_transformed_df).transform(log_transformed_df)"
   ]
  },
  {
   "cell_type": "markdown",
   "metadata": {},
   "source": [
    "#### 1. The Elbow criterion"
   ]
  },
  {
   "cell_type": "code",
   "execution_count": 24,
   "metadata": {},
   "outputs": [],
   "source": [
    "max_k = 8"
   ]
  },
  {
   "cell_type": "code",
   "execution_count": 25,
   "metadata": {},
   "outputs": [
    {
     "name": "stdout",
     "output_type": "stream",
     "text": [
      "Completed Kmeans with 2 clusters\n",
      "Completed Kmeans with 3 clusters\n",
      "Completed Kmeans with 4 clusters\n",
      "Completed Kmeans with 5 clusters\n",
      "Completed Kmeans with 6 clusters\n",
      "Completed Kmeans with 7 clusters\n",
      "Completed Kmeans with 8 clusters\n"
     ]
    }
   ],
   "source": [
    "ss = {} # this python dict will store the sum of sqares of each KMeans run\n",
    "for k in range(2, max_k+1, 1):\n",
    "    kmeans = KMeans(k= k, seed=1, featuresCol='features', predictionCol='prediction') # these need to be the column names or else PySpark Barks!!\n",
    "    k_model = kmeans.fit(scaled_df)\n",
    "    \n",
    "    ss[k] = k_model.computeCost(scaled_df)\n",
    "    print('Completed Kmeans with {} clusters'.format(k))"
   ]
  },
  {
   "cell_type": "markdown",
   "metadata": {},
   "source": [
    "Lets visualize this using a pointplot and look for the cluster number where the decrease is steep. The idea is to use this as an estimate and experiment with some k values above and below this. "
   ]
  },
  {
   "cell_type": "code",
   "execution_count": 34,
   "metadata": {},
   "outputs": [
    {
     "data": {
      "text/plain": [
       "Text(0, 0.5, 'Sum of Squared Distance')"
      ]
     },
     "execution_count": 34,
     "metadata": {},
     "output_type": "execute_result"
    },
    {
     "data": {
      "image/png": "[encoded data removed]",
      "text/plain": [
       "<Figure size 720x288 with 1 Axes>"
      ]
     },
     "metadata": {
      "needs_background": "light"
     },
     "output_type": "display_data"
    }
   ],
   "source": [
    "plt.figure(figsize=(10, 4))\n",
    "\n",
    "sns.pointplot(x=list(ss.keys()), y=list(ss.values()))\n",
    "plt.title('Choosing the right k value using the elbow criterion method ')\n",
    "plt.xlabel('Number of clusters')\n",
    "plt.ylabel('Sum of Squared Distance')"
   ]
  },
  {
   "cell_type": "code",
   "execution_count": null,
   "metadata": {},
   "outputs": [],
   "source": []
  },
  {
   "cell_type": "code",
   "execution_count": null,
   "metadata": {},
   "outputs": [],
   "source": []
  },
  {
   "cell_type": "code",
   "execution_count": null,
   "metadata": {},
   "outputs": [],
   "source": []
  },
  {
   "cell_type": "markdown",
   "metadata": {},
   "source": [
    "#### 2. Silhouette Score criterion"
   ]
  },
  {
   "cell_type": "code",
   "execution_count": 31,
   "metadata": {},
   "outputs": [
    {
     "name": "stdout",
     "output_type": "stream",
     "text": [
      "Completed KMeans with 2 clusters\n",
      "Completed KMeans with 3 clusters\n",
      "Completed KMeans with 4 clusters\n",
      "Completed KMeans with 5 clusters\n",
      "Completed KMeans with 6 clusters\n",
      "Completed KMeans with 7 clusters\n",
      "Completed KMeans with 8 clusters\n"
     ]
    }
   ],
   "source": [
    "sil_sc = {}\n",
    "for i in range(2, max_k+1, 1):\n",
    "    kmeans = KMeans(k=i, seed=1, featuresCol='features', predictionCol='prediction' )\n",
    "    k_pred = kmeans.fit(scaled_df).transform(scaled_df)\n",
    "    \n",
    "    ev = ClusteringEvaluator()\n",
    "    sil_sc[i] = ev.evaluate(k_pred)\n",
    "    print(\"Completed KMeans with {} clusters\".format(i))"
   ]
  },
  {
   "cell_type": "code",
   "execution_count": 32,
   "metadata": {},
   "outputs": [
    {
     "data": {
      "text/plain": [
       "{2: 0.8136440608004682,\n",
       " 3: 0.659587091910402,\n",
       " 4: 0.5611508789301319,\n",
       " 5: 0.5031851153209905,\n",
       " 6: 0.4025703638375273,\n",
       " 7: 0.46512469202751733,\n",
       " 8: 0.4748332659176899}"
      ]
     },
     "execution_count": 32,
     "metadata": {},
     "output_type": "execute_result"
    }
   ],
   "source": [
    "sil_sc"
   ]
  },
  {
   "cell_type": "code",
   "execution_count": 35,
   "metadata": {},
   "outputs": [],
   "source": [
    "spark.stop()"
   ]
  },
  {
   "cell_type": "code",
   "execution_count": null,
   "metadata": {},
   "outputs": [],
   "source": []
  }
 ],
 "metadata": {
  "kernelspec": {
   "display_name": "Python 3",
   "language": "python",
   "name": "python3"
  },
  "language_info": {
   "codemirror_mode": {
    "name": "ipython",
    "version": 3
   },
   "file_extension": ".py",
   "mimetype": "text/x-python",
   "name": "python",
   "nbconvert_exporter": "python",
   "pygments_lexer": "ipython3",
   "version": "3.6.1"
  }
 },
 "nbformat": 4,
 "nbformat_minor": 2
}
