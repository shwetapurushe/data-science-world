{
 "cells": [
  {
   "cell_type": "markdown",
   "metadata": {},
   "source": [
    "# Goal\n",
    "\n",
    "To extract feature importances from PCA components"
   ]
  },
  {
   "cell_type": "markdown",
   "metadata": {},
   "source": [
    "### In Python"
   ]
  },
  {
   "cell_type": "code",
   "execution_count": 3,
   "metadata": {},
   "outputs": [],
   "source": [
    "import numpy as np\n",
    "import matplotlib.pyplot as plt \n",
    "import pandas as pd"
   ]
  },
  {
   "cell_type": "code",
   "execution_count": 78,
   "metadata": {},
   "outputs": [],
   "source": [
    "df = pd.read_csv(\"/Users/spurushe/Documents/data-science-world/input_data/iris.csv\", header=0)"
   ]
  },
  {
   "cell_type": "code",
   "execution_count": 79,
   "metadata": {},
   "outputs": [],
   "source": [
    "df = df.drop(columns=\"Id\", axis = 1)\n",
    "df.Species = pd.Categorical(df.Species)"
   ]
  },
  {
   "cell_type": "code",
   "execution_count": 7,
   "metadata": {},
   "outputs": [],
   "source": [
    "from sklearn.model_selection import train_test_split\n",
    "from sklearn.preprocessing import StandardScaler"
   ]
  },
  {
   "cell_type": "code",
   "execution_count": 80,
   "metadata": {},
   "outputs": [],
   "source": [
    "X = df.drop(columns=[\"Species\"], axis=1)\n",
    "y = df.Species"
   ]
  },
  {
   "cell_type": "code",
   "execution_count": 81,
   "metadata": {},
   "outputs": [],
   "source": [
    "sc = StandardScaler()\n",
    "\n",
    "train_sc = sc.fit(X).transform(X)"
   ]
  },
  {
   "cell_type": "code",
   "execution_count": 70,
   "metadata": {},
   "outputs": [],
   "source": [
    "from sklearn.decomposition import PCA"
   ]
  },
  {
   "cell_type": "code",
   "execution_count": 82,
   "metadata": {},
   "outputs": [],
   "source": [
    "pca = PCA()\n",
    "\n",
    "pca_features = pca.fit(train_sc).transform(train_sc)"
   ]
  },
  {
   "cell_type": "code",
   "execution_count": 83,
   "metadata": {},
   "outputs": [
    {
     "data": {
      "text/plain": [
       "array([0.72962445, 0.22850762, 0.03668922, 0.00517871])"
      ]
     },
     "execution_count": 83,
     "metadata": {},
     "output_type": "execute_result"
    }
   ],
   "source": [
    "pca.explained_variance_ratio_"
   ]
  },
  {
   "cell_type": "code",
   "execution_count": 84,
   "metadata": {},
   "outputs": [
    {
     "data": {
      "text/plain": [
       "array([[0.52106591, 0.26934744, 0.5804131 , 0.56485654],\n",
       "       [0.37741762, 0.92329566, 0.02449161, 0.06694199],\n",
       "       [0.71956635, 0.24438178, 0.14212637, 0.63427274],\n",
       "       [0.26128628, 0.12350962, 0.80144925, 0.52359713]])"
      ]
     },
     "execution_count": 84,
     "metadata": {},
     "output_type": "execute_result"
    }
   ],
   "source": [
    "abs(pca.components_)"
   ]
  },
  {
   "cell_type": "code",
   "execution_count": 85,
   "metadata": {},
   "outputs": [
    {
     "data": {
      "text/plain": [
       "array([[1.93568299],\n",
       "       [1.39214687],\n",
       "       [1.74034724],\n",
       "       [1.70984228]])"
      ]
     },
     "execution_count": 85,
     "metadata": {},
     "output_type": "execute_result"
    }
   ],
   "source": [
    "col_sums = np.sum(abs(pca.components_), axis=1)\n",
    "col_sums.reshape(-1,1)"
   ]
  },
  {
   "cell_type": "code",
   "execution_count": 86,
   "metadata": {},
   "outputs": [],
   "source": [
    "rel_importance = abs(pca.components_)/col_sums.reshape(-1,1)"
   ]
  },
  {
   "cell_type": "code",
   "execution_count": 87,
   "metadata": {},
   "outputs": [
    {
     "data": {
      "text/html": [
       "<div>\n",
       "<style scoped>\n",
       "    .dataframe tbody tr th:only-of-type {\n",
       "        vertical-align: middle;\n",
       "    }\n",
       "\n",
       "    .dataframe tbody tr th {\n",
       "        vertical-align: top;\n",
       "    }\n",
       "\n",
       "    .dataframe thead th {\n",
       "        text-align: right;\n",
       "    }\n",
       "</style>\n",
       "<table border=\"1\" class=\"dataframe\">\n",
       "  <thead>\n",
       "    <tr style=\"text-align: right;\">\n",
       "      <th></th>\n",
       "      <th>SepalLength</th>\n",
       "      <th>SepalWidth</th>\n",
       "      <th>PetalLength</th>\n",
       "      <th>PetalWidth</th>\n",
       "    </tr>\n",
       "  </thead>\n",
       "  <tbody>\n",
       "    <tr>\n",
       "      <th>0</th>\n",
       "      <td>0.269190</td>\n",
       "      <td>0.139149</td>\n",
       "      <td>0.299849</td>\n",
       "      <td>0.291813</td>\n",
       "    </tr>\n",
       "    <tr>\n",
       "      <th>1</th>\n",
       "      <td>0.271105</td>\n",
       "      <td>0.663217</td>\n",
       "      <td>0.017593</td>\n",
       "      <td>0.048085</td>\n",
       "    </tr>\n",
       "    <tr>\n",
       "      <th>2</th>\n",
       "      <td>0.413461</td>\n",
       "      <td>0.140421</td>\n",
       "      <td>0.081666</td>\n",
       "      <td>0.364452</td>\n",
       "    </tr>\n",
       "    <tr>\n",
       "      <th>3</th>\n",
       "      <td>0.152813</td>\n",
       "      <td>0.072235</td>\n",
       "      <td>0.468727</td>\n",
       "      <td>0.306225</td>\n",
       "    </tr>\n",
       "  </tbody>\n",
       "</table>\n",
       "</div>"
      ],
      "text/plain": [
       "   SepalLength  SepalWidth  PetalLength  PetalWidth\n",
       "0     0.269190    0.139149     0.299849    0.291813\n",
       "1     0.271105    0.663217     0.017593    0.048085\n",
       "2     0.413461    0.140421     0.081666    0.364452\n",
       "3     0.152813    0.072235     0.468727    0.306225"
      ]
     },
     "execution_count": 87,
     "metadata": {},
     "output_type": "execute_result"
    }
   ],
   "source": [
    "pd.DataFrame(rel_importance, columns= X.columns)"
   ]
  },
  {
   "cell_type": "code",
   "execution_count": 89,
   "metadata": {},
   "outputs": [
    {
     "data": {
      "image/png": "[encoded data removed]",
      "text/plain": [
       "<Figure size 432x288 with 1 Axes>"
      ]
     },
     "metadata": {
      "needs_background": "light"
     },
     "output_type": "display_data"
    }
   ],
   "source": [
    "def myplot(score,coeff,labels=None):\n",
    "    xs = score[:,0]\n",
    "    ys = score[:,1]\n",
    "    n = coeff.shape[0]\n",
    "    scalex = 1.0/(xs.max() - xs.min())\n",
    "    scaley = 1.0/(ys.max() - ys.min())\n",
    "    plt.scatter(xs * scalex,ys * scaley, c=y.cat.codes)\n",
    "    for i in range(n):\n",
    "        plt.arrow(0, 0, coeff[i,0], coeff[i,1],color = 'r',alpha = 0.5)\n",
    "        if labels is None:\n",
    "            plt.text(coeff[i,0]* 1.15, coeff[i,1] * 1.15, \"Var\"+str(i+1), color = 'g', ha = 'center', va = 'center')\n",
    "        else:\n",
    "            plt.text(coeff[i,0]* 1.15, coeff[i,1] * 1.15, labels[i], color = 'g', ha = 'center', va = 'center')\n",
    "plt.xlim(-1,1)\n",
    "plt.ylim(-1,1)\n",
    "plt.xlabel(\"PC{}\".format(1))\n",
    "plt.ylabel(\"PC{}\".format(2))\n",
    "plt.grid()\n",
    "\n",
    "#Call the function. Use only the 2 PCs.\n",
    "myplot(pca_features[:,0:2],np.transpose(pca.components_[0:2, :]))\n",
    "plt.show()"
   ]
  },
  {
   "cell_type": "markdown",
   "metadata": {},
   "source": [
    "<br/>\n",
    "<br/>\n",
    "<br/>\n",
    "<br/>\n",
    "\n",
    "\n",
    "### In SPARK"
   ]
  },
  {
   "cell_type": "code",
   "execution_count": 90,
   "metadata": {},
   "outputs": [],
   "source": [
    "import findspark\n",
    "findspark.init()"
   ]
  },
  {
   "cell_type": "code",
   "execution_count": 91,
   "metadata": {},
   "outputs": [],
   "source": [
    "from pyspark import SparkConf\n",
    "from pyspark.sql import SparkSession\n",
    "from pyspark.sql import functions as pyf\n",
    "from pyspark.sql.types import *\n",
    "import functools\n",
    "\n",
    "from pyspark.ml import Pipeline\n",
    "from pyspark.ml.feature import RobustScaler, VectorAssembler, Imputer, StringIndexer,OneHotEncoder, PCA\n",
    "\n",
    "\n",
    "from pyspark.ml.classification import LogisticRegression\n",
    "from pyspark.ml.evaluation import BinaryClassificationEvaluator\n",
    "\n",
    "import matplotlib.pyplot as plt\n",
    "import seaborn as sns \n",
    "\n",
    "from pyspark.ml.tuning import CrossValidator, ParamGridBuilder"
   ]
  },
  {
   "cell_type": "code",
   "execution_count": 92,
   "metadata": {},
   "outputs": [],
   "source": [
    "spark = SparkSession\\\n",
    "        .builder\\\n",
    "        .master(\"local[4]\") \\\n",
    "        .appName(\"churn_pred\")\\\n",
    "        .config('spark.driver.memory', '5G')\\\n",
    "        .config('spark.executor.memory', '7G')\\\n",
    "        .getOrCreate()"
   ]
  },
  {
   "cell_type": "code",
   "execution_count": 94,
   "metadata": {},
   "outputs": [],
   "source": [
    "sp_df = spark.read.format(\"csv\").load(\"/Users/spurushe/Documents/data-science-world/input_data/iris.csv\", inferSchema =\"true\", header=\"true\")"
   ]
  },
  {
   "cell_type": "code",
   "execution_count": 96,
   "metadata": {},
   "outputs": [
    {
     "name": "stdout",
     "output_type": "stream",
     "text": [
      "+---+-----------+----------+-----------+----------+-------+\n",
      "| Id|SepalLength|SepalWidth|PetalLength|PetalWidth|Species|\n",
      "+---+-----------+----------+-----------+----------+-------+\n",
      "|  1|        5.1|       3.5|        1.4|       0.2| setosa|\n",
      "|  2|        4.9|       3.0|        1.4|       0.2| setosa|\n",
      "|  3|        4.7|       3.2|        1.3|       0.2| setosa|\n",
      "|  4|        4.6|       3.1|        1.5|       0.2| setosa|\n",
      "|  5|        5.0|       3.6|        1.4|       0.2| setosa|\n",
      "+---+-----------+----------+-----------+----------+-------+\n",
      "only showing top 5 rows\n",
      "\n"
     ]
    }
   ],
   "source": [
    "sp_df.show(5)"
   ]
  },
  {
   "cell_type": "code",
   "execution_count": 100,
   "metadata": {},
   "outputs": [],
   "source": [
    "X = sp_df.select('SepalLength', 'SepalWidth', 'PetalLength', 'PetalWidth')\n",
    "y = sp_df.select('Species')"
   ]
  },
  {
   "cell_type": "code",
   "execution_count": 102,
   "metadata": {},
   "outputs": [],
   "source": [
    "num_cols = ['SepalLength', 'SepalWidth', 'PetalLength', 'PetalWidth']"
   ]
  },
  {
   "cell_type": "code",
   "execution_count": 104,
   "metadata": {},
   "outputs": [
    {
     "name": "stdout",
     "output_type": "stream",
     "text": [
      "+-----------+----------+-----------+----------+------------------+\n",
      "|SepalLength|SepalWidth|PetalLength|PetalWidth|assembled_features|\n",
      "+-----------+----------+-----------+----------+------------------+\n",
      "|        5.1|       3.5|        1.4|       0.2| [5.1,3.5,1.4,0.2]|\n",
      "|        4.9|       3.0|        1.4|       0.2| [4.9,3.0,1.4,0.2]|\n",
      "|        4.7|       3.2|        1.3|       0.2| [4.7,3.2,1.3,0.2]|\n",
      "|        4.6|       3.1|        1.5|       0.2| [4.6,3.1,1.5,0.2]|\n",
      "+-----------+----------+-----------+----------+------------------+\n",
      "only showing top 4 rows\n",
      "\n"
     ]
    }
   ],
   "source": [
    "va = VectorAssembler(inputCols=num_cols, outputCol='assembled_features')\n",
    "X = va.transform(X)\n",
    "X.show(4)"
   ]
  },
  {
   "cell_type": "code",
   "execution_count": 105,
   "metadata": {},
   "outputs": [
    {
     "name": "stdout",
     "output_type": "stream",
     "text": [
      "+-----------+----------+-----------+----------+------------------+--------------------+\n",
      "|SepalLength|SepalWidth|PetalLength|PetalWidth|assembled_features|     scaled_features|\n",
      "+-----------+----------+-----------+----------+------------------+--------------------+\n",
      "|        5.1|       3.5|        1.4|       0.2| [5.1,3.5,1.4,0.2]|[6.15892840883878...|\n",
      "|        4.9|       3.0|        1.4|       0.2| [4.9,3.0,1.4,0.2]|[5.9174018045706,...|\n",
      "|        4.7|       3.2|        1.3|       0.2| [4.7,3.2,1.3,0.2]|[5.67587520030241...|\n",
      "|        4.6|       3.1|        1.5|       0.2| [4.6,3.1,1.5,0.2]|[5.55511189816831...|\n",
      "+-----------+----------+-----------+----------+------------------+--------------------+\n",
      "only showing top 4 rows\n",
      "\n"
     ]
    }
   ],
   "source": [
    "from pyspark.ml.feature import StandardScaler as sp\n",
    "s = sp(inputCol='assembled_features', outputCol='scaled_features')\n",
    "X_sc = s.fit(X).transform(X)\n",
    "X_sc.show(4)"
   ]
  },
  {
   "cell_type": "code",
   "execution_count": 106,
   "metadata": {},
   "outputs": [],
   "source": [
    "from pyspark.ml.feature import PCA as spark_PCA"
   ]
  },
  {
   "cell_type": "code",
   "execution_count": 108,
   "metadata": {},
   "outputs": [],
   "source": [
    "sp_pca = spark_PCA(inputCol='scaled_features', outputCol='pca_features', k=4)\n",
    "\n",
    "sp_pca_model = sp_pca.fit(X_sc)"
   ]
  },
  {
   "cell_type": "code",
   "execution_count": 110,
   "metadata": {},
   "outputs": [
    {
     "data": {
      "text/plain": [
       "array([[0.52106591, 0.26934744, 0.5804131 , 0.56485654],\n",
       "       [0.37741762, 0.92329566, 0.02449161, 0.06694199],\n",
       "       [0.71956635, 0.24438178, 0.14212637, 0.63427274],\n",
       "       [0.26128628, 0.12350962, 0.80144925, 0.52359713]])"
      ]
     },
     "execution_count": 110,
     "metadata": {},
     "output_type": "execute_result"
    }
   ],
   "source": [
    "#PCA Components from Python\n",
    "abs(pca.components_)"
   ]
  },
  {
   "cell_type": "markdown",
   "metadata": {},
   "source": [
    "<br/>\n",
    "<br/>\n",
    "<br/>\n",
    "<br/>\n",
    "<br/>"
   ]
  },
  {
   "cell_type": "code",
   "execution_count": 109,
   "metadata": {},
   "outputs": [
    {
     "data": {
      "text/plain": [
       "DenseMatrix(4, 4, [-0.5211, 0.2693, -0.5804, -0.5649, -0.3774, -0.9233, -0.0245, -0.0669, 0.7196, -0.2444, -0.1421, -0.6343, 0.2613, -0.1235, -0.8014, 0.5236], 0)"
      ]
     },
     "execution_count": 109,
     "metadata": {},
     "output_type": "execute_result"
    }
   ],
   "source": [
    "sp_pca_model.pc"
   ]
  },
  {
   "cell_type": "markdown",
   "metadata": {},
   "source": [
    "Comparing the above with the pca components from Python\n",
    "\n",
    "Looks similar :)"
   ]
  },
  {
   "cell_type": "code",
   "execution_count": 121,
   "metadata": {},
   "outputs": [
    {
     "data": {
      "text/plain": [
       "array([[0.52106591, 0.26934744, 0.5804131 , 0.56485654],\n",
       "       [0.37741762, 0.92329566, 0.02449161, 0.06694199],\n",
       "       [0.71956635, 0.24438178, 0.14212637, 0.63427274],\n",
       "       [0.26128628, 0.12350962, 0.80144925, 0.52359713]])"
      ]
     },
     "execution_count": 121,
     "metadata": {},
     "output_type": "execute_result"
    }
   ],
   "source": [
    "#PCA components in Spark \n",
    "rows = abs(np.transpose(sp_pca_model.pc.toArray()))\n",
    "rows"
   ]
  },
  {
   "cell_type": "code",
   "execution_count": 122,
   "metadata": {},
   "outputs": [
    {
     "data": {
      "text/plain": [
       "array([[1.93568299],\n",
       "       [1.39214687],\n",
       "       [1.74034724],\n",
       "       [1.70984228]])"
      ]
     },
     "execution_count": 122,
     "metadata": {},
     "output_type": "execute_result"
    }
   ],
   "source": [
    "sp_col_sums = np.sum(rows, axis=1)\n",
    "sp_col_sums.reshape(-1,1)"
   ]
  },
  {
   "cell_type": "code",
   "execution_count": 123,
   "metadata": {},
   "outputs": [],
   "source": [
    "sp_rel_importance = rows/sp_col_sums.reshape(-1,1)"
   ]
  },
  {
   "cell_type": "code",
   "execution_count": 129,
   "metadata": {},
   "outputs": [
    {
     "data": {
      "text/html": [
       "<div>\n",
       "<style scoped>\n",
       "    .dataframe tbody tr th:only-of-type {\n",
       "        vertical-align: middle;\n",
       "    }\n",
       "\n",
       "    .dataframe tbody tr th {\n",
       "        vertical-align: top;\n",
       "    }\n",
       "\n",
       "    .dataframe thead th {\n",
       "        text-align: right;\n",
       "    }\n",
       "</style>\n",
       "<table border=\"1\" class=\"dataframe\">\n",
       "  <thead>\n",
       "    <tr style=\"text-align: right;\">\n",
       "      <th></th>\n",
       "      <th>SepalLength</th>\n",
       "      <th>SepalWidth</th>\n",
       "      <th>PetalLength</th>\n",
       "      <th>PetalWidth</th>\n",
       "    </tr>\n",
       "  </thead>\n",
       "  <tbody>\n",
       "    <tr>\n",
       "      <th>PCA1</th>\n",
       "      <td>0.269190</td>\n",
       "      <td>0.139149</td>\n",
       "      <td>0.299849</td>\n",
       "      <td>0.291813</td>\n",
       "    </tr>\n",
       "    <tr>\n",
       "      <th>PCA2</th>\n",
       "      <td>0.271105</td>\n",
       "      <td>0.663217</td>\n",
       "      <td>0.017593</td>\n",
       "      <td>0.048085</td>\n",
       "    </tr>\n",
       "    <tr>\n",
       "      <th>PCA3</th>\n",
       "      <td>0.413461</td>\n",
       "      <td>0.140421</td>\n",
       "      <td>0.081666</td>\n",
       "      <td>0.364452</td>\n",
       "    </tr>\n",
       "    <tr>\n",
       "      <th>PCA4</th>\n",
       "      <td>0.152813</td>\n",
       "      <td>0.072235</td>\n",
       "      <td>0.468727</td>\n",
       "      <td>0.306225</td>\n",
       "    </tr>\n",
       "  </tbody>\n",
       "</table>\n",
       "</div>"
      ],
      "text/plain": [
       "      SepalLength  SepalWidth  PetalLength  PetalWidth\n",
       "PCA1     0.269190    0.139149     0.299849    0.291813\n",
       "PCA2     0.271105    0.663217     0.017593    0.048085\n",
       "PCA3     0.413461    0.140421     0.081666    0.364452\n",
       "PCA4     0.152813    0.072235     0.468727    0.306225"
      ]
     },
     "execution_count": 129,
     "metadata": {},
     "output_type": "execute_result"
    }
   ],
   "source": [
    "feature_importance = pd.DataFrame(sp_rel_importance, columns=num_cols, index=[\"PCA1\", \"PCA2\", \"PCA3\", \"PCA4\"])\n",
    "feature_importance"
   ]
  },
  {
   "cell_type": "code",
   "execution_count": 128,
   "metadata": {},
   "outputs": [],
   "source": [
    "import seaborn as sns"
   ]
  },
  {
   "cell_type": "code",
   "execution_count": 135,
   "metadata": {},
   "outputs": [
    {
     "data": {
      "text/plain": [
       "<matplotlib.axes._subplots.AxesSubplot at 0x118d82e10>"
      ]
     },
     "execution_count": 135,
     "metadata": {},
     "output_type": "execute_result"
    },
    {
     "data": {
      "image/png": "[encoded data removed]",
      "text/plain": [
       "<Figure size 432x288 with 2 Axes>"
      ]
     },
     "metadata": {
      "needs_background": "light"
     },
     "output_type": "display_data"
    }
   ],
   "source": [
    "feature_importance1 = feature_importance.div(feature_importance.max(axis=1), axis=0)\n",
    "sns.heatmap(feature_importance1, vmin=0, vmax=1, cmap=sns.cm.rocket_r)"
   ]
  },
  {
   "cell_type": "markdown",
   "metadata": {},
   "source": [
    "In PCA1 features SepalLength, PetalLength and PetalWidth are the most important.  \n",
    "in PCA2 feature feature SepalWidth is the most important."
   ]
  },
  {
   "cell_type": "code",
   "execution_count": 136,
   "metadata": {},
   "outputs": [],
   "source": [
    "spark.stop()"
   ]
  },
  {
   "cell_type": "code",
   "execution_count": null,
   "metadata": {},
   "outputs": [],
   "source": []
  }
 ],
 "metadata": {
  "kernelspec": {
   "display_name": "Python 3",
   "language": "python",
   "name": "python3"
  },
  "language_info": {
   "codemirror_mode": {
    "name": "ipython",
    "version": 3
   },
   "file_extension": ".py",
   "mimetype": "text/x-python",
   "name": "python",
   "nbconvert_exporter": "python",
   "pygments_lexer": "ipython3",
   "version": "3.6.1"
  },
  "widgets": {
   "application/vnd.jupyter.widget-state+json": {
    "state": {},
    "version_major": 2,
    "version_minor": 0
   }
  }
 },
 "nbformat": 4,
 "nbformat_minor": 4
}
