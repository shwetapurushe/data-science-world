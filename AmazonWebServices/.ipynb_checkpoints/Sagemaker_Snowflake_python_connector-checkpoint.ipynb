{
 "cells": [
  {
   "cell_type": "code",
   "execution_count": null,
   "metadata": {},
   "outputs": [],
   "source": [
    "%%bash\n",
    "CFFI_VERSION=$(pip list 2>/dev/null | grep cffi )\n",
    "echo $CFFI_VERSION\n",
    "\n",
    "if [[ \"$CFFI_VERSION\" == \"cffi (1.10.0)\" ]]\n",
    "then \n",
    "   pip uninstall --yes cffi\n",
    "fi\n",
    "yum_log=$(sudo yum install -y libffi-devel openssl-devel)\n",
    "pip_log=$(pip install --upgrade snowflake-connector-python)  \n",
    "if [[ \"$CFFI_VERSION\" == \"cffi (1.10.0)\" ]]\n",
    "then \n",
    "   echo \"configuration has changed; restart notebook\"\n",
    "fi"
   ]
  },
  {
   "cell_type": "code",
   "execution_count": 3,
   "metadata": {},
   "outputs": [],
   "source": [
    "import snowflake.connector\n",
    "import pandas as pd"
   ]
  },
  {
   "cell_type": "code",
   "execution_count": 8,
   "metadata": {},
   "outputs": [],
   "source": [
    "# Connecting to Snowflake using the default authenticator\n",
    "ctx = snowflake.connector.connect(\n",
    "    user='shweta.purushe@cengage.com',\n",
    "    password=\"Ilovesnowflake#1985\",\n",
    "    account=\"cengage\",\n",
    "    warehouse=\"analysis\"\n",
    ")"
   ]
  },
  {
   "cell_type": "code",
   "execution_count": 9,
   "metadata": {},
   "outputs": [],
   "source": [
    "cs=ctx.cursor()\n",
    "try: \n",
    "    df = cs.execute('''select * from dev.zsp.test;''')\\\n",
    "    .fetchall()\n",
    "except Exception as e:\n",
    "    print(e)"
   ]
  },
  {
   "cell_type": "code",
   "execution_count": 10,
   "metadata": {},
   "outputs": [],
   "source": [
    "df = pd.DataFrame(df , columns = [\"adoption_key\", \"did_churn_19\", \"instructor_guid\", \"time_in_platform_in_hrs\", \"total_searches\", \"total_student_takes_viewed_in_gb\",\n",
    "                                 \"c_courses\", \"courses_after_search_recorded\", \"courses_after_attempt_view_recorded\"])"
   ]
  },
  {
   "cell_type": "code",
   "execution_count": 12,
   "metadata": {},
   "outputs": [
    {
     "data": {
      "text/html": [
       "<div>\n",
       "<style scoped>\n",
       "    .dataframe tbody tr th:only-of-type {\n",
       "        vertical-align: middle;\n",
       "    }\n",
       "\n",
       "    .dataframe tbody tr th {\n",
       "        vertical-align: top;\n",
       "    }\n",
       "\n",
       "    .dataframe thead th {\n",
       "        text-align: right;\n",
       "    }\n",
       "</style>\n",
       "<table border=\"1\" class=\"dataframe\">\n",
       "  <thead>\n",
       "    <tr style=\"text-align: right;\">\n",
       "      <th></th>\n",
       "      <th>adoption_key</th>\n",
       "      <th>did_churn_19</th>\n",
       "      <th>instructor_guid</th>\n",
       "      <th>time_in_platform_in_hrs</th>\n",
       "      <th>total_searches</th>\n",
       "      <th>total_student_takes_viewed_in_gb</th>\n",
       "      <th>c_courses</th>\n",
       "      <th>courses_after_search_recorded</th>\n",
       "      <th>courses_after_attempt_view_recorded</th>\n",
       "    </tr>\n",
       "  </thead>\n",
       "  <tbody>\n",
       "    <tr>\n",
       "      <th>0</th>\n",
       "      <td>PALO ALTO COLLEGE|TX|College Success|College S...</td>\n",
       "      <td>0</td>\n",
       "      <td>ae88e4180c29c2e8:1b91cf6f:139b06117fd:-2cb9</td>\n",
       "      <td>18.438611</td>\n",
       "      <td>4</td>\n",
       "      <td>6</td>\n",
       "      <td>1</td>\n",
       "      <td>1</td>\n",
       "      <td>1</td>\n",
       "    </tr>\n",
       "    <tr>\n",
       "      <th>1</th>\n",
       "      <td>COLUMBIA COLLEGE|SC|MIS Introduction|MIS</td>\n",
       "      <td>0</td>\n",
       "      <td>bc214f10acf9c7fa:1453ce5f:14772317e2d:-4214</td>\n",
       "      <td>14.165000</td>\n",
       "      <td>4</td>\n",
       "      <td>0</td>\n",
       "      <td>4</td>\n",
       "      <td>4</td>\n",
       "      <td>0</td>\n",
       "    </tr>\n",
       "    <tr>\n",
       "      <th>2</th>\n",
       "      <td>EVERETT CC|WA|Introductory Business|Business</td>\n",
       "      <td>1</td>\n",
       "      <td>e8afd688cbebe897:102a59e:12112e2d4a4:a75</td>\n",
       "      <td>14.204722</td>\n",
       "      <td>8</td>\n",
       "      <td>0</td>\n",
       "      <td>24</td>\n",
       "      <td>14</td>\n",
       "      <td>0</td>\n",
       "    </tr>\n",
       "    <tr>\n",
       "      <th>3</th>\n",
       "      <td>EL PASO CC - RIO GRANDE|TX|Introductory Nutrit...</td>\n",
       "      <td>0</td>\n",
       "      <td>42cc64aa819e3b35:-8502c95:140a905e014:1c59</td>\n",
       "      <td>11.150000</td>\n",
       "      <td>8</td>\n",
       "      <td>1</td>\n",
       "      <td>11</td>\n",
       "      <td>9</td>\n",
       "      <td>9</td>\n",
       "    </tr>\n",
       "    <tr>\n",
       "      <th>4</th>\n",
       "      <td>IVY TECH|IN|Health Science|Basic Health Science</td>\n",
       "      <td>0</td>\n",
       "      <td>ae88e4180c29c2e8:39f349b6:13ed1efc02c:-484d</td>\n",
       "      <td>2.078889</td>\n",
       "      <td>2</td>\n",
       "      <td>1</td>\n",
       "      <td>10</td>\n",
       "      <td>10</td>\n",
       "      <td>10</td>\n",
       "    </tr>\n",
       "  </tbody>\n",
       "</table>\n",
       "</div>"
      ],
      "text/plain": [
       "                                        adoption_key  did_churn_19  \\\n",
       "0  PALO ALTO COLLEGE|TX|College Success|College S...             0   \n",
       "1           COLUMBIA COLLEGE|SC|MIS Introduction|MIS             0   \n",
       "2       EVERETT CC|WA|Introductory Business|Business             1   \n",
       "3  EL PASO CC - RIO GRANDE|TX|Introductory Nutrit...             0   \n",
       "4    IVY TECH|IN|Health Science|Basic Health Science             0   \n",
       "\n",
       "                               instructor_guid time_in_platform_in_hrs  \\\n",
       "0  ae88e4180c29c2e8:1b91cf6f:139b06117fd:-2cb9               18.438611   \n",
       "1  bc214f10acf9c7fa:1453ce5f:14772317e2d:-4214               14.165000   \n",
       "2     e8afd688cbebe897:102a59e:12112e2d4a4:a75               14.204722   \n",
       "3   42cc64aa819e3b35:-8502c95:140a905e014:1c59               11.150000   \n",
       "4  ae88e4180c29c2e8:39f349b6:13ed1efc02c:-484d                2.078889   \n",
       "\n",
       "   total_searches  total_student_takes_viewed_in_gb  c_courses  \\\n",
       "0               4                                 6          1   \n",
       "1               4                                 0          4   \n",
       "2               8                                 0         24   \n",
       "3               8                                 1         11   \n",
       "4               2                                 1         10   \n",
       "\n",
       "   courses_after_search_recorded  courses_after_attempt_view_recorded  \n",
       "0                              1                                    1  \n",
       "1                              4                                    0  \n",
       "2                             14                                    0  \n",
       "3                              9                                    9  \n",
       "4                             10                                   10  "
      ]
     },
     "execution_count": 12,
     "metadata": {},
     "output_type": "execute_result"
    }
   ],
   "source": [
    "df.head()"
   ]
  },
  {
   "cell_type": "code",
   "execution_count": null,
   "metadata": {},
   "outputs": [],
   "source": []
  }
 ],
 "metadata": {
  "kernelspec": {
   "display_name": "conda_python3",
   "language": "python",
   "name": "conda_python3"
  },
  "language_info": {
   "codemirror_mode": {
    "name": "ipython",
    "version": 3
   },
   "file_extension": ".py",
   "mimetype": "text/x-python",
   "name": "python",
   "nbconvert_exporter": "python",
   "pygments_lexer": "ipython3",
   "version": "3.6.5"
  }
 },
 "nbformat": 4,
 "nbformat_minor": 4
}
