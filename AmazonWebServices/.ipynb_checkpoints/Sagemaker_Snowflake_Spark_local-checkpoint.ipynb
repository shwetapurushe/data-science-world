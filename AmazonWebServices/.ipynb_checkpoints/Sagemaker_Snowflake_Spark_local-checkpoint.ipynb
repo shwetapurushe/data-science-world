{
 "cells": [
  {
   "cell_type": "markdown",
   "metadata": {},
   "source": [
    "# GOAL\n",
    "\n",
    "Connect to Snowflake using Spark Connector running Spark on local Sagemaker instance"
   ]
  },
  {
   "cell_type": "code",
   "execution_count": 5,
   "metadata": {},
   "outputs": [],
   "source": [
    "# %%bash\n",
    "# SFC_DIR='/home/ec2-user/snowflake'\n",
    "# [ ! -d \"$SFC_DIR\" ] && mkdir $SFC_DIR \n",
    "# cd $SFC_DIR\n",
    "# PRODUCTS='snowflake-jdbc spark-snowflake_2.11'\n",
    "# for PRODUCT in $PRODUCTS\n",
    "# do\n",
    "#    wget \"https://repo1.maven.org/maven2/net/snowflake/$PRODUCT/maven-metadata.xml\" 2> /dev/null\n",
    "#    VERSION=$(grep latest maven-metadata.xml | awk -F\">\" '{ print $2 }' | awk -F\"<\" '{ print $1 }')\n",
    "#    DRIVER=$PRODUCT-$VERSION.jar\n",
    "#    if [[ ! -e $DRIVER ]]\n",
    "#    then\n",
    "#       rm $PRODUCT* 2>/dev/null\n",
    "#       wget \"https://repo1.maven.org/maven2/net/snowflake/$PRODUCT/$VERSION/$DRIVER\" 2> /dev/null\n",
    "#    fi\n",
    "#    [ -e maven-metadata.xml ] && rm maven-metadata.xml\n",
    "# done"
   ]
  },
  {
   "cell_type": "markdown",
   "metadata": {},
   "source": [
    "Spark 2.3.4\n",
    "kernel : conda-python3\n",
    "look at jar versions below in curl commands\n",
    "\n",
    "The problems with Spark so far were finding the right combination of\n",
    "* Snowflake version\n",
    "* Scala version  and Spark Version\n",
    "* snowflake spark connector version\n",
    "* snowflake jdbc driver version\n",
    "\n",
    "\n",
    "Its not necessary that the latest stable build of all these works.  \n",
    "The Py4J library breaks at different places for different combinations."
   ]
  },
  {
   "cell_type": "code",
   "execution_count": null,
   "metadata": {},
   "outputs": [],
   "source": [
    "%%bash\n",
    "SFC_DIR='/home/ec2-user/snowflake'\n",
    "[ ! -d \"$SFC_DIR\" ] && mkdir $SFC_DIR \n",
    "cd $SFC_DIR\n",
    "\n",
    "curl -L -O https://repo1.maven.org/maven2/net/snowflake/snowflake-jdbc/3.8.0/snowflake-jdbc-3.8.0.jar\n",
    "curl -L -O https://repo1.maven.org/maven2/net/snowflake/spark-snowflake_2.11/2.4.14-spark_2.4/spark-snowflake_2.11-2.4.14-spark_2.4.jar"
   ]
  },
  {
   "cell_type": "code",
   "execution_count": 1,
   "metadata": {},
   "outputs": [],
   "source": [
    "from pyspark import SparkContext, SparkConf\n",
    "from pyspark.sql import SQLContext,SparkSession\n",
    "from pyspark.sql.types import *\n",
    "from sagemaker_pyspark import IAMRole, classpath_jars\n",
    "from sagemaker_pyspark.algorithms import KMeansSageMakerEstimator"
   ]
  },
  {
   "cell_type": "code",
   "execution_count": 2,
   "metadata": {},
   "outputs": [],
   "source": [
    "sfc_jars=!ls -d /home/ec2-user/snowflake/*.jar"
   ]
  },
  {
   "cell_type": "code",
   "execution_count": 3,
   "metadata": {},
   "outputs": [
    {
     "data": {
      "text/plain": [
       "['/home/ec2-user/snowflake/snowflake-jdbc-3.8.0.jar',\n",
       " '/home/ec2-user/snowflake/spark-snowflake_2.11-2.4.14-spark_2.4.jar']"
      ]
     },
     "execution_count": 3,
     "metadata": {},
     "output_type": "execute_result"
    }
   ],
   "source": [
    "sfc_jars"
   ]
  },
  {
   "cell_type": "code",
   "execution_count": 4,
   "metadata": {},
   "outputs": [],
   "source": [
    "conf = (SparkConf()\n",
    "        .set(\"spark.driver.extraClassPath\", (\":\".join(classpath_jars())+\":\"+\":\".join(sfc_jars)))\n",
    "        .setMaster('local')\n",
    "        .setAppName('local-spark-test'))"
   ]
  },
  {
   "cell_type": "code",
   "execution_count": 5,
   "metadata": {},
   "outputs": [
    {
     "data": {
      "text/plain": [
       "<pyspark.conf.SparkConf at 0x7fee633e45c0>"
      ]
     },
     "execution_count": 5,
     "metadata": {},
     "output_type": "execute_result"
    }
   ],
   "source": [
    "conf"
   ]
  },
  {
   "cell_type": "code",
   "execution_count": 6,
   "metadata": {},
   "outputs": [],
   "source": [
    "spark = SparkSession.builder.config(conf=conf).getOrCreate()"
   ]
  },
  {
   "cell_type": "code",
   "execution_count": 7,
   "metadata": {},
   "outputs": [
    {
     "data": {
      "text/html": [
       "\n",
       "            <div>\n",
       "                <p><b>SparkSession - in-memory</b></p>\n",
       "                \n",
       "        <div>\n",
       "            <p><b>SparkContext</b></p>\n",
       "\n",
       "            <p><a href=\"http://ip-172-16-26-106.ec2.internal:4040\">Spark UI</a></p>\n",
       "\n",
       "            <dl>\n",
       "              <dt>Version</dt>\n",
       "                <dd><code>v2.3.4</code></dd>\n",
       "              <dt>Master</dt>\n",
       "                <dd><code>local</code></dd>\n",
       "              <dt>AppName</dt>\n",
       "                <dd><code>local-spark-test</code></dd>\n",
       "            </dl>\n",
       "        </div>\n",
       "        \n",
       "            </div>\n",
       "        "
      ],
      "text/plain": [
       "<pyspark.sql.session.SparkSession at 0x7fee8ed1b128>"
      ]
     },
     "execution_count": 7,
     "metadata": {},
     "output_type": "execute_result"
    }
   ],
   "source": [
    "spark"
   ]
  },
  {
   "cell_type": "code",
   "execution_count": 8,
   "metadata": {},
   "outputs": [],
   "source": [
    "SNOWFLAKE_SOURCE_NAME = \"net.snowflake.spark.snowflake\""
   ]
  },
  {
   "cell_type": "code",
   "execution_count": 9,
   "metadata": {},
   "outputs": [],
   "source": [
    "sfOptions = {\n",
    "  \"sfURL\" : \"*\",\n",
    "  \"sfAccount\" : \"*\",\n",
    "  \"sfUser\" : \"*\",\n",
    "  \"sfPassword\" : \"*\",\n",
    "  \"sfDatabase\" : \"*\",\n",
    "  \"sfSchema\" : \"*\",\n",
    "  \"sfWarehouse\" : \"*\"\n",
    "}"
   ]
  },
  {
   "cell_type": "code",
   "execution_count": 10,
   "metadata": {},
   "outputs": [],
   "source": [
    "df = spark.read.format(SNOWFLAKE_SOURCE_NAME) \\\n",
    "  .options(**sfOptions) \\\n",
    "  .option(\"query\", \"select 1 as my_num union all select 2 as my_num\").load()"
   ]
  },
  {
   "cell_type": "code",
   "execution_count": 11,
   "metadata": {},
   "outputs": [
    {
     "data": {
      "text/plain": [
       "['MY_NUM']"
      ]
     },
     "execution_count": 11,
     "metadata": {},
     "output_type": "execute_result"
    }
   ],
   "source": [
    "df.columns"
   ]
  },
  {
   "cell_type": "code",
   "execution_count": 12,
   "metadata": {},
   "outputs": [
    {
     "name": "stdout",
     "output_type": "stream",
     "text": [
      "root\n",
      " |-- MY_NUM: decimal(1,0) (nullable = false)\n",
      "\n"
     ]
    }
   ],
   "source": [
    "df.printSchema()"
   ]
  },
  {
   "cell_type": "code",
   "execution_count": 13,
   "metadata": {},
   "outputs": [
    {
     "name": "stdout",
     "output_type": "stream",
     "text": [
      "+------+\n",
      "|MY_NUM|\n",
      "+------+\n",
      "|     1|\n",
      "|     2|\n",
      "+------+\n",
      "\n"
     ]
    }
   ],
   "source": [
    "df.show(truncate=3)"
   ]
  },
  {
   "cell_type": "code",
   "execution_count": 14,
   "metadata": {},
   "outputs": [],
   "source": [
    "spark.stop()"
   ]
  },
  {
   "cell_type": "code",
   "execution_count": null,
   "metadata": {},
   "outputs": [],
   "source": []
  }
 ],
 "metadata": {
  "kernelspec": {
   "display_name": "conda_python3",
   "language": "python",
   "name": "conda_python3"
  },
  "language_info": {
   "codemirror_mode": {
    "name": "ipython",
    "version": 3
   },
   "file_extension": ".py",
   "mimetype": "text/x-python",
   "name": "python",
   "nbconvert_exporter": "python",
   "pygments_lexer": "ipython3",
   "version": "3.6.5"
  },
  "widgets": {
   "application/vnd.jupyter.widget-state+json": {
    "state": {},
    "version_major": 2,
    "version_minor": 0
   }
  }
 },
 "nbformat": 4,
 "nbformat_minor": 4
}
