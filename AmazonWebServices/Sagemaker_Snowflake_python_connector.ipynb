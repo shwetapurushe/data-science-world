{
 "cells": [
  {
   "cell_type": "markdown",
   "metadata": {},
   "source": [
    "# GOAL\n",
    "\n",
    "Connect to Snowflake using Snowflake Python Connector"
   ]
  },
  {
   "cell_type": "code",
   "execution_count": null,
   "metadata": {},
   "outputs": [],
   "source": [
    "%%bash\n",
    "CFFI_VERSION=$(pip list 2>/dev/null | grep cffi )\n",
    "echo $CFFI_VERSION\n",
    "\n",
    "if [[ \"$CFFI_VERSION\" == \"cffi (1.10.0)\" ]]\n",
    "then \n",
    "   pip uninstall --yes cffi\n",
    "fi\n",
    "yum_log=$(sudo yum install -y libffi-devel openssl-devel)\n",
    "pip_log=$(pip install --upgrade snowflake-connector-python)  \n",
    "if [[ \"$CFFI_VERSION\" == \"cffi (1.10.0)\" ]]\n",
    "then \n",
    "   echo \"configuration has changed; restart notebook\"\n",
    "fi"
   ]
  },
  {
   "cell_type": "code",
   "execution_count": 3,
   "metadata": {},
   "outputs": [],
   "source": [
    "import snowflake.connector\n",
    "import pandas as pd"
   ]
  },
  {
   "cell_type": "code",
   "execution_count": 8,
   "metadata": {},
   "outputs": [],
   "source": [
    "# Connecting to Snowflake using the default authenticator\n",
    "ctx = snowflake.connector.connect(\n",
    "    user='*',\n",
    "    password=\"*\",\n",
    "    account=\"*\",\n",
    "    warehouse=\"*\"\n",
    ")"
   ]
  },
  {
   "cell_type": "code",
   "execution_count": 9,
   "metadata": {},
   "outputs": [],
   "source": [
    "cs=ctx.cursor()\n",
    "try: \n",
    "    df = cs.execute('''select * from my_table;''')\\\n",
    "    .fetchall()\n",
    "except Exception as e:\n",
    "    print(e)"
   ]
  },
  {
   "cell_type": "code",
   "execution_count": 10,
   "metadata": {},
   "outputs": [],
   "source": [
    "df = pd.DataFrame(df , columns = [\"adoption_key\", \"did_churn_19\", \"instructor_guid\", \"time_in_platform_in_hrs\", \"total_searches\", \"total_student_takes_viewed_in_gb\",\n",
    "                                 \"c_courses\", \"courses_after_search_recorded\", \"courses_after_attempt_view_recorded\"])"
   ]
  },
  {
   "cell_type": "code",
   "execution_count": null,
   "metadata": {},
   "outputs": [],
   "source": [
    "spark.stop()"
   ]
  }
 ],
 "metadata": {
  "kernelspec": {
   "display_name": "conda_python3",
   "language": "python",
   "name": "conda_python3"
  },
  "language_info": {
   "codemirror_mode": {
    "name": "ipython",
    "version": 3
   },
   "file_extension": ".py",
   "mimetype": "text/x-python",
   "name": "python",
   "nbconvert_exporter": "python",
   "pygments_lexer": "ipython3",
   "version": "3.6.5"
  },
  "widgets": {
   "application/vnd.jupyter.widget-state+json": {
    "state": {},
    "version_major": 2,
    "version_minor": 0
   }
  }
 },
 "nbformat": 4,
 "nbformat_minor": 4
}
