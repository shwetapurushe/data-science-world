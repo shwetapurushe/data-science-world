{
 "cells": [
  {
   "cell_type": "markdown",
   "metadata": {},
   "source": [
    "# Goal\n",
    "\n",
    "##### 1. To use a(ny?) regression technique to determine if I can predict if a recipe is a dessert or not?\n",
    "##### 2. Try looking into ways to balanced imbalanced datasets"
   ]
  },
  {
   "cell_type": "markdown",
   "metadata": {},
   "source": [
    "Data : https://www.kaggle.com/hugodarwood/epirecipes"
   ]
  },
  {
   "cell_type": "code",
   "execution_count": 221,
   "metadata": {},
   "outputs": [],
   "source": [
    "import pandas as pd\n",
    "import numpy as np\n",
    "import matplotlib.pyplot as plt \n",
    "import seaborn as sns\n",
    "import sklearn\n",
    "from sklearn import linear_model"
   ]
  },
  {
   "cell_type": "markdown",
   "metadata": {},
   "source": [
    "### Data import and EDA"
   ]
  },
  {
   "cell_type": "code",
   "execution_count": 2,
   "metadata": {},
   "outputs": [],
   "source": [
    "filepath = '../../input_data/epi_r.csv'\n",
    "\n",
    "recipes = pd.read_csv(filepath)"
   ]
  },
  {
   "cell_type": "code",
   "execution_count": 3,
   "metadata": {},
   "outputs": [
    {
     "data": {
      "text/plain": [
       "(20052, 680)"
      ]
     },
     "execution_count": 3,
     "metadata": {},
     "output_type": "execute_result"
    }
   ],
   "source": [
    "recipes.shape"
   ]
  },
  {
   "cell_type": "code",
   "execution_count": 4,
   "metadata": {},
   "outputs": [
    {
     "data": {
      "text/html": [
       "<div>\n",
       "<style scoped>\n",
       "    .dataframe tbody tr th:only-of-type {\n",
       "        vertical-align: middle;\n",
       "    }\n",
       "\n",
       "    .dataframe tbody tr th {\n",
       "        vertical-align: top;\n",
       "    }\n",
       "\n",
       "    .dataframe thead th {\n",
       "        text-align: right;\n",
       "    }\n",
       "</style>\n",
       "<table border=\"1\" class=\"dataframe\">\n",
       "  <thead>\n",
       "    <tr style=\"text-align: right;\">\n",
       "      <th></th>\n",
       "      <th>rating</th>\n",
       "      <th>calories</th>\n",
       "      <th>protein</th>\n",
       "      <th>fat</th>\n",
       "      <th>sodium</th>\n",
       "      <th>#cakeweek</th>\n",
       "      <th>#wasteless</th>\n",
       "      <th>22-minute meals</th>\n",
       "      <th>3-ingredient recipes</th>\n",
       "      <th>30 days of groceries</th>\n",
       "      <th>...</th>\n",
       "      <th>yellow squash</th>\n",
       "      <th>yogurt</th>\n",
       "      <th>yonkers</th>\n",
       "      <th>yuca</th>\n",
       "      <th>zucchini</th>\n",
       "      <th>cookbooks</th>\n",
       "      <th>leftovers</th>\n",
       "      <th>snack</th>\n",
       "      <th>snack week</th>\n",
       "      <th>turkey</th>\n",
       "    </tr>\n",
       "  </thead>\n",
       "  <tbody>\n",
       "    <tr>\n",
       "      <th>count</th>\n",
       "      <td>20052.000000</td>\n",
       "      <td>1.593500e+04</td>\n",
       "      <td>15890.000000</td>\n",
       "      <td>1.586900e+04</td>\n",
       "      <td>1.593300e+04</td>\n",
       "      <td>20052.000000</td>\n",
       "      <td>20052.000000</td>\n",
       "      <td>20052.000000</td>\n",
       "      <td>20052.000000</td>\n",
       "      <td>20052.000000</td>\n",
       "      <td>...</td>\n",
       "      <td>20052.000000</td>\n",
       "      <td>20052.000000</td>\n",
       "      <td>20052.000000</td>\n",
       "      <td>20052.000000</td>\n",
       "      <td>20052.000000</td>\n",
       "      <td>20052.000000</td>\n",
       "      <td>20052.000000</td>\n",
       "      <td>20052.000000</td>\n",
       "      <td>20052.000000</td>\n",
       "      <td>20052.000000</td>\n",
       "    </tr>\n",
       "    <tr>\n",
       "      <th>mean</th>\n",
       "      <td>3.714467</td>\n",
       "      <td>6.322958e+03</td>\n",
       "      <td>100.160793</td>\n",
       "      <td>3.468775e+02</td>\n",
       "      <td>6.225975e+03</td>\n",
       "      <td>0.000299</td>\n",
       "      <td>0.000050</td>\n",
       "      <td>0.000848</td>\n",
       "      <td>0.001346</td>\n",
       "      <td>0.000349</td>\n",
       "      <td>...</td>\n",
       "      <td>0.001247</td>\n",
       "      <td>0.026332</td>\n",
       "      <td>0.000050</td>\n",
       "      <td>0.000299</td>\n",
       "      <td>0.014861</td>\n",
       "      <td>0.000150</td>\n",
       "      <td>0.000349</td>\n",
       "      <td>0.001396</td>\n",
       "      <td>0.000948</td>\n",
       "      <td>0.022741</td>\n",
       "    </tr>\n",
       "    <tr>\n",
       "      <th>std</th>\n",
       "      <td>1.340829</td>\n",
       "      <td>3.590460e+05</td>\n",
       "      <td>3840.318527</td>\n",
       "      <td>2.045611e+04</td>\n",
       "      <td>3.333182e+05</td>\n",
       "      <td>0.017296</td>\n",
       "      <td>0.007062</td>\n",
       "      <td>0.029105</td>\n",
       "      <td>0.036671</td>\n",
       "      <td>0.018681</td>\n",
       "      <td>...</td>\n",
       "      <td>0.035288</td>\n",
       "      <td>0.160123</td>\n",
       "      <td>0.007062</td>\n",
       "      <td>0.017296</td>\n",
       "      <td>0.121001</td>\n",
       "      <td>0.012231</td>\n",
       "      <td>0.018681</td>\n",
       "      <td>0.037343</td>\n",
       "      <td>0.030768</td>\n",
       "      <td>0.149080</td>\n",
       "    </tr>\n",
       "    <tr>\n",
       "      <th>min</th>\n",
       "      <td>0.000000</td>\n",
       "      <td>0.000000e+00</td>\n",
       "      <td>0.000000</td>\n",
       "      <td>0.000000e+00</td>\n",
       "      <td>0.000000e+00</td>\n",
       "      <td>0.000000</td>\n",
       "      <td>0.000000</td>\n",
       "      <td>0.000000</td>\n",
       "      <td>0.000000</td>\n",
       "      <td>0.000000</td>\n",
       "      <td>...</td>\n",
       "      <td>0.000000</td>\n",
       "      <td>0.000000</td>\n",
       "      <td>0.000000</td>\n",
       "      <td>0.000000</td>\n",
       "      <td>0.000000</td>\n",
       "      <td>0.000000</td>\n",
       "      <td>0.000000</td>\n",
       "      <td>0.000000</td>\n",
       "      <td>0.000000</td>\n",
       "      <td>0.000000</td>\n",
       "    </tr>\n",
       "    <tr>\n",
       "      <th>25%</th>\n",
       "      <td>3.750000</td>\n",
       "      <td>1.980000e+02</td>\n",
       "      <td>3.000000</td>\n",
       "      <td>7.000000e+00</td>\n",
       "      <td>8.000000e+01</td>\n",
       "      <td>0.000000</td>\n",
       "      <td>0.000000</td>\n",
       "      <td>0.000000</td>\n",
       "      <td>0.000000</td>\n",
       "      <td>0.000000</td>\n",
       "      <td>...</td>\n",
       "      <td>0.000000</td>\n",
       "      <td>0.000000</td>\n",
       "      <td>0.000000</td>\n",
       "      <td>0.000000</td>\n",
       "      <td>0.000000</td>\n",
       "      <td>0.000000</td>\n",
       "      <td>0.000000</td>\n",
       "      <td>0.000000</td>\n",
       "      <td>0.000000</td>\n",
       "      <td>0.000000</td>\n",
       "    </tr>\n",
       "    <tr>\n",
       "      <th>50%</th>\n",
       "      <td>4.375000</td>\n",
       "      <td>3.310000e+02</td>\n",
       "      <td>8.000000</td>\n",
       "      <td>1.700000e+01</td>\n",
       "      <td>2.940000e+02</td>\n",
       "      <td>0.000000</td>\n",
       "      <td>0.000000</td>\n",
       "      <td>0.000000</td>\n",
       "      <td>0.000000</td>\n",
       "      <td>0.000000</td>\n",
       "      <td>...</td>\n",
       "      <td>0.000000</td>\n",
       "      <td>0.000000</td>\n",
       "      <td>0.000000</td>\n",
       "      <td>0.000000</td>\n",
       "      <td>0.000000</td>\n",
       "      <td>0.000000</td>\n",
       "      <td>0.000000</td>\n",
       "      <td>0.000000</td>\n",
       "      <td>0.000000</td>\n",
       "      <td>0.000000</td>\n",
       "    </tr>\n",
       "    <tr>\n",
       "      <th>75%</th>\n",
       "      <td>4.375000</td>\n",
       "      <td>5.860000e+02</td>\n",
       "      <td>27.000000</td>\n",
       "      <td>3.300000e+01</td>\n",
       "      <td>7.110000e+02</td>\n",
       "      <td>0.000000</td>\n",
       "      <td>0.000000</td>\n",
       "      <td>0.000000</td>\n",
       "      <td>0.000000</td>\n",
       "      <td>0.000000</td>\n",
       "      <td>...</td>\n",
       "      <td>0.000000</td>\n",
       "      <td>0.000000</td>\n",
       "      <td>0.000000</td>\n",
       "      <td>0.000000</td>\n",
       "      <td>0.000000</td>\n",
       "      <td>0.000000</td>\n",
       "      <td>0.000000</td>\n",
       "      <td>0.000000</td>\n",
       "      <td>0.000000</td>\n",
       "      <td>0.000000</td>\n",
       "    </tr>\n",
       "    <tr>\n",
       "      <th>max</th>\n",
       "      <td>5.000000</td>\n",
       "      <td>3.011122e+07</td>\n",
       "      <td>236489.000000</td>\n",
       "      <td>1.722763e+06</td>\n",
       "      <td>2.767511e+07</td>\n",
       "      <td>1.000000</td>\n",
       "      <td>1.000000</td>\n",
       "      <td>1.000000</td>\n",
       "      <td>1.000000</td>\n",
       "      <td>1.000000</td>\n",
       "      <td>...</td>\n",
       "      <td>1.000000</td>\n",
       "      <td>1.000000</td>\n",
       "      <td>1.000000</td>\n",
       "      <td>1.000000</td>\n",
       "      <td>1.000000</td>\n",
       "      <td>1.000000</td>\n",
       "      <td>1.000000</td>\n",
       "      <td>1.000000</td>\n",
       "      <td>1.000000</td>\n",
       "      <td>1.000000</td>\n",
       "    </tr>\n",
       "  </tbody>\n",
       "</table>\n",
       "<p>8 rows × 679 columns</p>\n",
       "</div>"
      ],
      "text/plain": [
       "             rating      calories        protein           fat        sodium  \\\n",
       "count  20052.000000  1.593500e+04   15890.000000  1.586900e+04  1.593300e+04   \n",
       "mean       3.714467  6.322958e+03     100.160793  3.468775e+02  6.225975e+03   \n",
       "std        1.340829  3.590460e+05    3840.318527  2.045611e+04  3.333182e+05   \n",
       "min        0.000000  0.000000e+00       0.000000  0.000000e+00  0.000000e+00   \n",
       "25%        3.750000  1.980000e+02       3.000000  7.000000e+00  8.000000e+01   \n",
       "50%        4.375000  3.310000e+02       8.000000  1.700000e+01  2.940000e+02   \n",
       "75%        4.375000  5.860000e+02      27.000000  3.300000e+01  7.110000e+02   \n",
       "max        5.000000  3.011122e+07  236489.000000  1.722763e+06  2.767511e+07   \n",
       "\n",
       "          #cakeweek    #wasteless  22-minute meals  3-ingredient recipes  \\\n",
       "count  20052.000000  20052.000000     20052.000000          20052.000000   \n",
       "mean       0.000299      0.000050         0.000848              0.001346   \n",
       "std        0.017296      0.007062         0.029105              0.036671   \n",
       "min        0.000000      0.000000         0.000000              0.000000   \n",
       "25%        0.000000      0.000000         0.000000              0.000000   \n",
       "50%        0.000000      0.000000         0.000000              0.000000   \n",
       "75%        0.000000      0.000000         0.000000              0.000000   \n",
       "max        1.000000      1.000000         1.000000              1.000000   \n",
       "\n",
       "       30 days of groceries      ...       yellow squash        yogurt  \\\n",
       "count          20052.000000      ...        20052.000000  20052.000000   \n",
       "mean               0.000349      ...            0.001247      0.026332   \n",
       "std                0.018681      ...            0.035288      0.160123   \n",
       "min                0.000000      ...            0.000000      0.000000   \n",
       "25%                0.000000      ...            0.000000      0.000000   \n",
       "50%                0.000000      ...            0.000000      0.000000   \n",
       "75%                0.000000      ...            0.000000      0.000000   \n",
       "max                1.000000      ...            1.000000      1.000000   \n",
       "\n",
       "            yonkers          yuca      zucchini     cookbooks     leftovers  \\\n",
       "count  20052.000000  20052.000000  20052.000000  20052.000000  20052.000000   \n",
       "mean       0.000050      0.000299      0.014861      0.000150      0.000349   \n",
       "std        0.007062      0.017296      0.121001      0.012231      0.018681   \n",
       "min        0.000000      0.000000      0.000000      0.000000      0.000000   \n",
       "25%        0.000000      0.000000      0.000000      0.000000      0.000000   \n",
       "50%        0.000000      0.000000      0.000000      0.000000      0.000000   \n",
       "75%        0.000000      0.000000      0.000000      0.000000      0.000000   \n",
       "max        1.000000      1.000000      1.000000      1.000000      1.000000   \n",
       "\n",
       "              snack    snack week        turkey  \n",
       "count  20052.000000  20052.000000  20052.000000  \n",
       "mean       0.001396      0.000948      0.022741  \n",
       "std        0.037343      0.030768      0.149080  \n",
       "min        0.000000      0.000000      0.000000  \n",
       "25%        0.000000      0.000000      0.000000  \n",
       "50%        0.000000      0.000000      0.000000  \n",
       "75%        0.000000      0.000000      0.000000  \n",
       "max        1.000000      1.000000      1.000000  \n",
       "\n",
       "[8 rows x 679 columns]"
      ]
     },
     "execution_count": 4,
     "metadata": {},
     "output_type": "execute_result"
    }
   ],
   "source": [
    "recipes.describe()"
   ]
  },
  {
   "cell_type": "code",
   "execution_count": 5,
   "metadata": {},
   "outputs": [],
   "source": [
    "#removing outliers \n",
    "\n",
    "# calories are ridiculously high in some.\n",
    "too_much_cal = recipes.calories < 10000\n",
    "\n",
    "recipes_fil = recipes[too_much_cal].dropna() #dropping missing values for now TODO: include missing values ? \n"
   ]
  },
  {
   "cell_type": "markdown",
   "metadata": {},
   "source": [
    "Checking what type of variable is calories?"
   ]
  },
  {
   "cell_type": "code",
   "execution_count": 6,
   "metadata": {},
   "outputs": [
    {
     "name": "stdout",
     "output_type": "stream",
     "text": [
      "float64\n"
     ]
    },
    {
     "data": {
      "text/plain": [
       "0    426.0\n",
       "1    403.0\n",
       "2    165.0\n",
       "4    547.0\n",
       "5    948.0\n",
       "Name: calories, dtype: float64"
      ]
     },
     "execution_count": 6,
     "metadata": {},
     "output_type": "execute_result"
    }
   ],
   "source": [
    "print(recipes_fil.calories.dtype) # looks like a continous variable\n",
    "recipes_fil.calories.head()"
   ]
  },
  {
   "cell_type": "code",
   "execution_count": 7,
   "metadata": {},
   "outputs": [
    {
     "name": "stdout",
     "output_type": "stream",
     "text": [
      "float64\n",
      "0    0.0\n",
      "1    0.0\n",
      "2    0.0\n",
      "3    0.0\n",
      "4    0.0\n",
      "Name: dessert, dtype: float64\n"
     ]
    }
   ],
   "source": [
    "print(recipes_fil.dessert.dtype)\n",
    "print(recipes.dessert.head())"
   ]
  },
  {
   "cell_type": "code",
   "execution_count": 8,
   "metadata": {},
   "outputs": [
    {
     "data": {
      "text/plain": [
       "array([0., 1.])"
      ]
     },
     "execution_count": 8,
     "metadata": {},
     "output_type": "execute_result"
    }
   ],
   "source": [
    "# Hmmm is it a binary variable ?\n",
    "recipes.dessert.unique()"
   ]
  },
  {
   "cell_type": "markdown",
   "metadata": {},
   "source": [
    "Looks like it. Lets try using **Logistic regression** to help our prediction. "
   ]
  },
  {
   "cell_type": "markdown",
   "metadata": {},
   "source": [
    "---\n",
    "Lets look into our output variable a little bit. "
   ]
  },
  {
   "cell_type": "code",
   "execution_count": 9,
   "metadata": {},
   "outputs": [
    {
     "data": {
      "image/png": "[encoded data removed]",
      "text/plain": [
       "<Figure size 432x288 with 1 Axes>"
      ]
     },
     "metadata": {
      "needs_background": "light"
     },
     "output_type": "display_data"
    }
   ],
   "source": [
    "y = recipes_fil.dessert\n",
    "\n",
    "sns.countplot(x = y, palette='hls')\n",
    "\n",
    "plt.title(\"Distribution of the Dessert counts\")\n",
    "plt.show()"
   ]
  },
  {
   "cell_type": "markdown",
   "metadata": {},
   "source": [
    "There's a lot many non-desserts than desserts. This is an example of an **imbalanced dataset**, where the target variables has many more rows belonging to one category than another. Lets try to quantify this imbalance. "
   ]
  },
  {
   "cell_type": "code",
   "execution_count": 10,
   "metadata": {},
   "outputs": [
    {
     "name": "stdout",
     "output_type": "stream",
     "text": [
      "Percent of dessert :  18.61\n",
      "Percent of non - dessert:  81.39\n"
     ]
    }
   ],
   "source": [
    "is_dessert = y == 1\n",
    "not_dessert = y == 0\n",
    "total = y.count()\n",
    "\n",
    "is_dessert_percent = round((y[is_dessert].count()/ total) * 100, 2)\n",
    "not_dessert_percent = round((y[not_dessert].count()/ total) * 100, 2)\n",
    "\n",
    "print(\"Percent of dessert : \", is_dessert_percent)\n",
    "print(\"Percent of non - dessert: \", not_dessert_percent)"
   ]
  },
  {
   "cell_type": "markdown",
   "metadata": {},
   "source": [
    "---\n",
    "##### Some exploration "
   ]
  },
  {
   "cell_type": "code",
   "execution_count": 11,
   "metadata": {},
   "outputs": [
    {
     "data": {
      "text/html": [
       "<div>\n",
       "<style scoped>\n",
       "    .dataframe tbody tr th:only-of-type {\n",
       "        vertical-align: middle;\n",
       "    }\n",
       "\n",
       "    .dataframe tbody tr th {\n",
       "        vertical-align: top;\n",
       "    }\n",
       "\n",
       "    .dataframe thead th {\n",
       "        text-align: right;\n",
       "    }\n",
       "</style>\n",
       "<table border=\"1\" class=\"dataframe\">\n",
       "  <thead>\n",
       "    <tr style=\"text-align: right;\">\n",
       "      <th></th>\n",
       "      <th>rating</th>\n",
       "      <th>calories</th>\n",
       "      <th>protein</th>\n",
       "      <th>fat</th>\n",
       "      <th>sodium</th>\n",
       "      <th>#cakeweek</th>\n",
       "      <th>#wasteless</th>\n",
       "      <th>22-minute meals</th>\n",
       "      <th>3-ingredient recipes</th>\n",
       "      <th>30 days of groceries</th>\n",
       "      <th>...</th>\n",
       "      <th>yellow squash</th>\n",
       "      <th>yogurt</th>\n",
       "      <th>yonkers</th>\n",
       "      <th>yuca</th>\n",
       "      <th>zucchini</th>\n",
       "      <th>cookbooks</th>\n",
       "      <th>leftovers</th>\n",
       "      <th>snack</th>\n",
       "      <th>snack week</th>\n",
       "      <th>turkey</th>\n",
       "    </tr>\n",
       "    <tr>\n",
       "      <th>dessert</th>\n",
       "      <th></th>\n",
       "      <th></th>\n",
       "      <th></th>\n",
       "      <th></th>\n",
       "      <th></th>\n",
       "      <th></th>\n",
       "      <th></th>\n",
       "      <th></th>\n",
       "      <th></th>\n",
       "      <th></th>\n",
       "      <th></th>\n",
       "      <th></th>\n",
       "      <th></th>\n",
       "      <th></th>\n",
       "      <th></th>\n",
       "      <th></th>\n",
       "      <th></th>\n",
       "      <th></th>\n",
       "      <th></th>\n",
       "      <th></th>\n",
       "      <th></th>\n",
       "    </tr>\n",
       "  </thead>\n",
       "  <tbody>\n",
       "    <tr>\n",
       "      <th>0.0</th>\n",
       "      <td>3.748110</td>\n",
       "      <td>483.679023</td>\n",
       "      <td>24.640791</td>\n",
       "      <td>28.237611</td>\n",
       "      <td>812.905079</td>\n",
       "      <td>0.000000</td>\n",
       "      <td>0.000078</td>\n",
       "      <td>0.001163</td>\n",
       "      <td>0.001163</td>\n",
       "      <td>0.000543</td>\n",
       "      <td>...</td>\n",
       "      <td>0.001551</td>\n",
       "      <td>0.022102</td>\n",
       "      <td>0.000078</td>\n",
       "      <td>0.000388</td>\n",
       "      <td>0.017216</td>\n",
       "      <td>0.000155</td>\n",
       "      <td>0.000388</td>\n",
       "      <td>0.001241</td>\n",
       "      <td>0.000620</td>\n",
       "      <td>0.026134</td>\n",
       "    </tr>\n",
       "    <tr>\n",
       "      <th>1.0</th>\n",
       "      <td>3.814874</td>\n",
       "      <td>515.030190</td>\n",
       "      <td>6.672320</td>\n",
       "      <td>25.988467</td>\n",
       "      <td>222.051221</td>\n",
       "      <td>0.002035</td>\n",
       "      <td>0.000000</td>\n",
       "      <td>0.000000</td>\n",
       "      <td>0.001696</td>\n",
       "      <td>0.000000</td>\n",
       "      <td>...</td>\n",
       "      <td>0.000000</td>\n",
       "      <td>0.024084</td>\n",
       "      <td>0.000000</td>\n",
       "      <td>0.000000</td>\n",
       "      <td>0.001018</td>\n",
       "      <td>0.000000</td>\n",
       "      <td>0.000000</td>\n",
       "      <td>0.001696</td>\n",
       "      <td>0.001696</td>\n",
       "      <td>0.000000</td>\n",
       "    </tr>\n",
       "  </tbody>\n",
       "</table>\n",
       "<p>2 rows × 678 columns</p>\n",
       "</div>"
      ],
      "text/plain": [
       "           rating    calories    protein        fat      sodium  #cakeweek  \\\n",
       "dessert                                                                      \n",
       "0.0      3.748110  483.679023  24.640791  28.237611  812.905079   0.000000   \n",
       "1.0      3.814874  515.030190   6.672320  25.988467  222.051221   0.002035   \n",
       "\n",
       "         #wasteless  22-minute meals  3-ingredient recipes  \\\n",
       "dessert                                                      \n",
       "0.0        0.000078         0.001163              0.001163   \n",
       "1.0        0.000000         0.000000              0.001696   \n",
       "\n",
       "         30 days of groceries    ...     yellow squash    yogurt   yonkers  \\\n",
       "dessert                          ...                                         \n",
       "0.0                  0.000543    ...          0.001551  0.022102  0.000078   \n",
       "1.0                  0.000000    ...          0.000000  0.024084  0.000000   \n",
       "\n",
       "             yuca  zucchini  cookbooks  leftovers     snack  snack week  \\\n",
       "dessert                                                                   \n",
       "0.0      0.000388  0.017216   0.000155   0.000388  0.001241    0.000620   \n",
       "1.0      0.000000  0.001018   0.000000   0.000000  0.001696    0.001696   \n",
       "\n",
       "           turkey  \n",
       "dessert            \n",
       "0.0      0.026134  \n",
       "1.0      0.000000  \n",
       "\n",
       "[2 rows x 678 columns]"
      ]
     },
     "execution_count": 11,
     "metadata": {},
     "output_type": "execute_result"
    }
   ],
   "source": [
    "recipes_fil.groupby('dessert').mean()"
   ]
  },
  {
   "cell_type": "markdown",
   "metadata": {},
   "source": [
    "Well you see straightaway that avg. calories are higher for desserts than for non-desserts. But not by much.  \n",
    "Protein, sodium in lower in desserts.  \n",
    "Yes you cannot have a salty dessert. Or can you ?  \n",
    "Also do people rate sweeter stuff as higher ? Hmm... the sweeter it is , the happier you are when you rate ? 😉"
   ]
  },
  {
   "cell_type": "code",
   "execution_count": 12,
   "metadata": {},
   "outputs": [
    {
     "data": {
      "text/html": [
       "<div>\n",
       "<style scoped>\n",
       "    .dataframe tbody tr th:only-of-type {\n",
       "        vertical-align: middle;\n",
       "    }\n",
       "\n",
       "    .dataframe tbody tr th {\n",
       "        vertical-align: top;\n",
       "    }\n",
       "\n",
       "    .dataframe thead th {\n",
       "        text-align: right;\n",
       "    }\n",
       "</style>\n",
       "<table border=\"1\" class=\"dataframe\">\n",
       "  <thead>\n",
       "    <tr style=\"text-align: right;\">\n",
       "      <th></th>\n",
       "      <th>calories</th>\n",
       "      <th>low sugar</th>\n",
       "      <th>low/no sugar</th>\n",
       "      <th>no sugar added</th>\n",
       "      <th>sugar conscious</th>\n",
       "      <th>sugar snap pea</th>\n",
       "    </tr>\n",
       "    <tr>\n",
       "      <th>dessert</th>\n",
       "      <th></th>\n",
       "      <th></th>\n",
       "      <th></th>\n",
       "      <th></th>\n",
       "      <th></th>\n",
       "      <th></th>\n",
       "    </tr>\n",
       "  </thead>\n",
       "  <tbody>\n",
       "    <tr>\n",
       "      <th>0.0</th>\n",
       "      <td>483.679023</td>\n",
       "      <td>0.000853</td>\n",
       "      <td>0.016983</td>\n",
       "      <td>0.184257</td>\n",
       "      <td>0.146026</td>\n",
       "      <td>0.004343</td>\n",
       "    </tr>\n",
       "    <tr>\n",
       "      <th>1.0</th>\n",
       "      <td>515.030190</td>\n",
       "      <td>0.000000</td>\n",
       "      <td>0.001018</td>\n",
       "      <td>0.012551</td>\n",
       "      <td>0.010176</td>\n",
       "      <td>0.000000</td>\n",
       "    </tr>\n",
       "  </tbody>\n",
       "</table>\n",
       "</div>"
      ],
      "text/plain": [
       "           calories  low sugar  low/no sugar  no sugar added  sugar conscious  \\\n",
       "dessert                                                                         \n",
       "0.0      483.679023   0.000853      0.016983        0.184257         0.146026   \n",
       "1.0      515.030190   0.000000      0.001018        0.012551         0.010176   \n",
       "\n",
       "         sugar snap pea  \n",
       "dessert                  \n",
       "0.0            0.004343  \n",
       "1.0            0.000000  "
      ]
     },
     "execution_count": 12,
     "metadata": {},
     "output_type": "execute_result"
    }
   ],
   "source": [
    "x = [col for col in recipes_fil if 'sugar' in col or col in ['dessert', 'calories']]\n",
    "recipes_fil[x].groupby('dessert').mean()"
   ]
  },
  {
   "cell_type": "code",
   "execution_count": 13,
   "metadata": {},
   "outputs": [],
   "source": [
    "# lets look into ingredients commonly found in desserts ?\n",
    "\n",
    "# lets first select the desserts \n",
    "desserts_df = recipes_fil[recipes_fil.dessert == 1]"
   ]
  },
  {
   "cell_type": "code",
   "execution_count": 14,
   "metadata": {},
   "outputs": [
    {
     "data": {
      "text/plain": [
       "array(['title', 'rating', 'calories', 'protein', 'fat', 'sodium',\n",
       "       '#cakeweek', '3-ingredient recipes', 'advance prep required',\n",
       "       'alcoholic', 'almond', 'amaretto', 'anise', 'anniversary',\n",
       "       'appetizer', 'apple', 'apple juice', 'apricot', 'arizona',\n",
       "       'asian pear', 'atlanta', 'avocado', 'back to school',\n",
       "       'backyard bbq', 'bacon', 'bake', 'banana', 'barley', 'basil',\n",
       "       'bastille day', 'bean', 'beer', 'berry', 'birthday', 'blackberry',\n",
       "       'blender', 'blue cheese', 'blueberry', 'boil', 'bon appétit',\n",
       "       'bon app��tit', 'boston', 'bourbon', 'brandy', 'bread',\n",
       "       'breadcrumbs', 'breakfast', 'broil', 'brooklyn', 'brownie',\n",
       "       'brunch', 'buffet', 'butter', 'buttermilk', 'butterscotch/caramel',\n",
       "       'cabbage', 'cake', 'california', 'calvados', 'cambridge',\n",
       "       'campari', 'canada', 'candy', 'candy thermometer', 'cantaloupe',\n",
       "       'cardamom', 'carrot', 'cashew', 'casserole/gratin', 'chambord',\n",
       "       'champagne', 'chartreuse', 'cheddar', 'cheese', 'cherry',\n",
       "       'chestnut', 'chile pepper', 'chill', 'chocolate', 'christmas',\n",
       "       'christmas eve', 'cinco de mayo', 'cinnamon', 'citrus', 'clove',\n",
       "       'cobbler/crumble', 'cocktail', 'cocktail party', 'coconut',\n",
       "       'coffee', 'cognac/armagnac', 'colorado', 'columbus', 'condiment',\n",
       "       'condiment/spread', 'connecticut', 'cookbook critic', 'cookie',\n",
       "       'cookies', 'coriander', 'corn', 'cornmeal', 'cottage cheese',\n",
       "       'couscous', 'cranberry', 'cream cheese', 'créme de cacao',\n",
       "       'cr��me de cacao', 'cucumber', 'cupcake', 'currant', 'curry',\n",
       "       'custard', 'dairy', 'dairy free', 'dallas', 'date', 'deep-fry',\n",
       "       'dessert', 'digestif', 'dinner', 'diwali', 'double boiler',\n",
       "       'dried fruit', 'drink', 'drinks', 'easter', 'eau de vie',\n",
       "       'edible gift', 'egg', 'engagement party', 'fall', 'family reunion',\n",
       "       'fat free', \"father's day\", 'fennel', 'fig', 'florida',\n",
       "       'food processor', 'fortified wine', 'fourth of july', 'france',\n",
       "       'frangelico', 'freeze/chill', 'friendsgiving', 'frozen dessert',\n",
       "       'fruit', 'fruit juice', 'fry', 'georgia', 'gin', 'ginger',\n",
       "       'goat cheese', 'gourmet', 'graduation', 'granola', 'grape',\n",
       "       'grapefruit', 'grappa', 'grill', 'grill/barbecue', 'guava',\n",
       "       'halloween', 'hanukkah', 'harpercollins', 'hazelnut', 'healthy',\n",
       "       'herb', 'high fiber', 'hominy/cornmeal/masa', 'honey', 'honeydew',\n",
       "       'hot drink', 'hot pepper', 'house & garden', 'ice cream',\n",
       "       'ice cream machine', 'iced coffee', 'ireland', 'italy', 'jalapeño',\n",
       "       'jam or jelly', 'kahlúa', 'kansas city', 'kentucky',\n",
       "       'kentucky derby', 'kid-friendly', 'kidney friendly', 'kirsch',\n",
       "       'kiwi', 'kosher', 'kosher for passover', 'kumquat', 'kwanzaa',\n",
       "       'labor day', 'lemon', 'lemon juice', 'lemongrass', 'lime',\n",
       "       'lime juice', 'lingonberry', 'liqueur', 'long beach',\n",
       "       'los angeles', 'louisville', 'low cal', 'low carb',\n",
       "       'low cholesterol', 'low fat', 'low sodium', 'low/no sugar',\n",
       "       'lunar new year', 'lunch', 'lychee', 'macadamia nut', 'maine',\n",
       "       'mango', 'maple syrup', 'mardi gras', 'marinate', 'marsala',\n",
       "       'marscarpone', 'marshmallow', 'maryland', 'massachusetts', 'melon',\n",
       "       'mexico', 'miami', 'michigan', 'microwave', 'midori', 'milk/cream',\n",
       "       'minnesota', 'mint', 'missouri', 'mixer', 'molasses',\n",
       "       \"mother's day\", 'muffin', 'nebraska', 'nectarine', 'new jersey',\n",
       "       'new mexico', \"new year's day\", \"new year's eve\", 'new york',\n",
       "       'no sugar added', 'no-cook', 'non-alcoholic', 'noodle',\n",
       "       'north carolina', 'nut', 'nutmeg', 'oat', 'oatmeal', 'ohio',\n",
       "       'oklahoma', 'oktoberfest', 'olive', 'onion', 'orange',\n",
       "       'orange juice', 'oregon', 'organic', 'oscars', 'paleo', 'pan-fry',\n",
       "       'papaya', 'parade', 'paris', 'parmesan', 'parsnip', 'party',\n",
       "       'pasadena', 'passion fruit', 'passover', 'pasta', 'pastry',\n",
       "       'peach', 'peanut', 'peanut butter', 'peanut free', 'pear', 'pecan',\n",
       "       'pennsylvania', 'pepper', 'pernod', 'persimmon', 'pescatarian',\n",
       "       'phyllo/puff pastry dough', 'picnic', 'pie', 'pine nut',\n",
       "       'pineapple', 'pistachio', 'pittsburgh', 'plum', 'poach',\n",
       "       'poker/game night', 'pomegranate', 'pomegranate juice', 'port',\n",
       "       'potato', 'potluck', 'providence', 'prune', 'pumpkin', 'purim',\n",
       "       'quick & easy', 'quick and healthy', 'quince', 'quinoa', 'raisin',\n",
       "       'ramadan', 'ramekin', 'raspberry', 'raw', 'red wine',\n",
       "       'rhode island', 'rhubarb', 'rice', 'ricotta', 'roast', 'rosemary',\n",
       "       'rosh hashanah/yom kippur', 'rum', 'saffron', 'sage', 'salad',\n",
       "       'san francisco', 'santa monica', 'sauce', 'sauté', 'seattle',\n",
       "       'seed', 'self', 'semolina', 'sesame', 'shavuot', 'sherry',\n",
       "       'shower', 'side', 'simmer', 'slow cooker', 'smoothie', 'sorbet',\n",
       "       'soufflé/meringue', 'soup/stew', 'sour cream', 'south carolina',\n",
       "       'soy', 'soy free', 'sparkling wine', 'spice', 'spirit', 'spring',\n",
       "       'squash', 'st. louis', \"st. patrick's day\", 'steam', 'stew',\n",
       "       'strawberry', 'sugar conscious', 'sukkot', 'summer', 'super bowl',\n",
       "       'sweet potato/yam', 'tailgating', 'tamarind', 'tangerine',\n",
       "       'tapioca', 'tarragon', 'tart', 'tea', 'tequila',\n",
       "       'tested & improved', 'texas', 'thanksgiving', 'thyme', 'tomato',\n",
       "       'tortillas', 'tree nut', 'tree nut free', 'triple sec',\n",
       "       'tropical fruit', \"valentine's day\", 'vanilla', 'vegan',\n",
       "       'vegetable', 'vegetarian', 'vinegar', 'vodka', 'walnut',\n",
       "       'washington', 'watermelon', 'wedding', 'weelicious',\n",
       "       'wheat/gluten-free', 'whiskey', 'white wine', 'whole wheat',\n",
       "       'wine', 'winter', 'yogurt', 'zucchini', 'snack', 'snack week'],\n",
       "      dtype=object)"
      ]
     },
     "execution_count": 14,
     "metadata": {},
     "output_type": "execute_result"
    }
   ],
   "source": [
    "bo = desserts_df.any(axis = 'columns')\n",
    "non_zero_columns = (desserts_df[bo] != 0).any()\n",
    "\n",
    "#ingredients df\n",
    "desserts_df = desserts_df.loc[:, non_zero_columns]\n",
    "\n",
    "\n",
    "#Hmm, lets see what ingredients people use in dessert recipes. \n",
    "desserts_df.columns.values"
   ]
  },
  {
   "cell_type": "code",
   "execution_count": 15,
   "metadata": {},
   "outputs": [
    {
     "data": {
      "text/html": [
       "<div>\n",
       "<style scoped>\n",
       "    .dataframe tbody tr th:only-of-type {\n",
       "        vertical-align: middle;\n",
       "    }\n",
       "\n",
       "    .dataframe tbody tr th {\n",
       "        vertical-align: top;\n",
       "    }\n",
       "\n",
       "    .dataframe thead th {\n",
       "        text-align: right;\n",
       "    }\n",
       "</style>\n",
       "<table border=\"1\" class=\"dataframe\">\n",
       "  <thead>\n",
       "    <tr style=\"text-align: right;\">\n",
       "      <th></th>\n",
       "      <th>title</th>\n",
       "      <th>rating</th>\n",
       "      <th>calories</th>\n",
       "      <th>protein</th>\n",
       "      <th>fat</th>\n",
       "      <th>sodium</th>\n",
       "      <th>#cakeweek</th>\n",
       "      <th>3-ingredient recipes</th>\n",
       "      <th>advance prep required</th>\n",
       "      <th>alcoholic</th>\n",
       "      <th>...</th>\n",
       "      <th>weelicious</th>\n",
       "      <th>wheat/gluten-free</th>\n",
       "      <th>whiskey</th>\n",
       "      <th>white wine</th>\n",
       "      <th>whole wheat</th>\n",
       "      <th>wine</th>\n",
       "      <th>winter</th>\n",
       "      <th>yogurt</th>\n",
       "      <th>snack</th>\n",
       "      <th>snack week</th>\n",
       "    </tr>\n",
       "    <tr>\n",
       "      <th>zucchini</th>\n",
       "      <th></th>\n",
       "      <th></th>\n",
       "      <th></th>\n",
       "      <th></th>\n",
       "      <th></th>\n",
       "      <th></th>\n",
       "      <th></th>\n",
       "      <th></th>\n",
       "      <th></th>\n",
       "      <th></th>\n",
       "      <th></th>\n",
       "      <th></th>\n",
       "      <th></th>\n",
       "      <th></th>\n",
       "      <th></th>\n",
       "      <th></th>\n",
       "      <th></th>\n",
       "      <th></th>\n",
       "      <th></th>\n",
       "      <th></th>\n",
       "      <th></th>\n",
       "    </tr>\n",
       "  </thead>\n",
       "  <tbody>\n",
       "    <tr>\n",
       "      <th>0.0</th>\n",
       "      <td>2945</td>\n",
       "      <td>2945</td>\n",
       "      <td>2945</td>\n",
       "      <td>2945</td>\n",
       "      <td>2945</td>\n",
       "      <td>2945</td>\n",
       "      <td>2945</td>\n",
       "      <td>2945</td>\n",
       "      <td>2945</td>\n",
       "      <td>2945</td>\n",
       "      <td>...</td>\n",
       "      <td>2945</td>\n",
       "      <td>2945</td>\n",
       "      <td>2945</td>\n",
       "      <td>2945</td>\n",
       "      <td>2945</td>\n",
       "      <td>2945</td>\n",
       "      <td>2945</td>\n",
       "      <td>2945</td>\n",
       "      <td>2945</td>\n",
       "      <td>2945</td>\n",
       "    </tr>\n",
       "    <tr>\n",
       "      <th>1.0</th>\n",
       "      <td>3</td>\n",
       "      <td>3</td>\n",
       "      <td>3</td>\n",
       "      <td>3</td>\n",
       "      <td>3</td>\n",
       "      <td>3</td>\n",
       "      <td>3</td>\n",
       "      <td>3</td>\n",
       "      <td>3</td>\n",
       "      <td>3</td>\n",
       "      <td>...</td>\n",
       "      <td>3</td>\n",
       "      <td>3</td>\n",
       "      <td>3</td>\n",
       "      <td>3</td>\n",
       "      <td>3</td>\n",
       "      <td>3</td>\n",
       "      <td>3</td>\n",
       "      <td>3</td>\n",
       "      <td>3</td>\n",
       "      <td>3</td>\n",
       "    </tr>\n",
       "  </tbody>\n",
       "</table>\n",
       "<p>2 rows × 406 columns</p>\n",
       "</div>"
      ],
      "text/plain": [
       "          title  rating  calories  protein   fat  sodium  #cakeweek  \\\n",
       "zucchini                                                              \n",
       "0.0        2945    2945      2945     2945  2945    2945       2945   \n",
       "1.0           3       3         3        3     3       3          3   \n",
       "\n",
       "          3-ingredient recipes  advance prep required  alcoholic     ...      \\\n",
       "zucchini                                                             ...       \n",
       "0.0                       2945                   2945       2945     ...       \n",
       "1.0                          3                      3          3     ...       \n",
       "\n",
       "          weelicious  wheat/gluten-free  whiskey  white wine  whole wheat  \\\n",
       "zucchini                                                                    \n",
       "0.0             2945               2945     2945        2945         2945   \n",
       "1.0                3                  3        3           3            3   \n",
       "\n",
       "          wine  winter  yogurt  snack  snack week  \n",
       "zucchini                                           \n",
       "0.0       2945    2945    2945   2945        2945  \n",
       "1.0          3       3       3      3           3  \n",
       "\n",
       "[2 rows x 406 columns]"
      ]
     },
     "execution_count": 15,
     "metadata": {},
     "output_type": "execute_result"
    }
   ],
   "source": [
    "desserts_df.groupby('zucchini').count()"
   ]
  },
  {
   "cell_type": "markdown",
   "metadata": {},
   "source": [
    "Whoa !! Who uses zucchini in their desserts ? "
   ]
  },
  {
   "cell_type": "code",
   "execution_count": 16,
   "metadata": {},
   "outputs": [
    {
     "data": {
      "text/html": [
       "<div>\n",
       "<style scoped>\n",
       "    .dataframe tbody tr th:only-of-type {\n",
       "        vertical-align: middle;\n",
       "    }\n",
       "\n",
       "    .dataframe tbody tr th {\n",
       "        vertical-align: top;\n",
       "    }\n",
       "\n",
       "    .dataframe thead th {\n",
       "        text-align: right;\n",
       "    }\n",
       "</style>\n",
       "<table border=\"1\" class=\"dataframe\">\n",
       "  <thead>\n",
       "    <tr style=\"text-align: right;\">\n",
       "      <th></th>\n",
       "      <th>title</th>\n",
       "      <th>calories</th>\n",
       "    </tr>\n",
       "  </thead>\n",
       "  <tbody>\n",
       "    <tr>\n",
       "      <th>6087</th>\n",
       "      <td>Zucchini-Pecan Cake with Cream Cheese Frosting</td>\n",
       "      <td>453.0</td>\n",
       "    </tr>\n",
       "    <tr>\n",
       "      <th>9865</th>\n",
       "      <td>Fudgy Orange-Zucchini Cake with Orange Glaze</td>\n",
       "      <td>323.0</td>\n",
       "    </tr>\n",
       "    <tr>\n",
       "      <th>15531</th>\n",
       "      <td>Spiced Zucchini Bread</td>\n",
       "      <td>300.0</td>\n",
       "    </tr>\n",
       "  </tbody>\n",
       "</table>\n",
       "</div>"
      ],
      "text/plain": [
       "                                                 title  calories\n",
       "6087   Zucchini-Pecan Cake with Cream Cheese Frosting      453.0\n",
       "9865     Fudgy Orange-Zucchini Cake with Orange Glaze      323.0\n",
       "15531                           Spiced Zucchini Bread      300.0"
      ]
     },
     "execution_count": 16,
     "metadata": {},
     "output_type": "execute_result"
    }
   ],
   "source": [
    "desserts_df[desserts_df.zucchini == 1][['title', 'calories']]\n",
    "\n",
    "# ok ok not judging. "
   ]
  },
  {
   "cell_type": "markdown",
   "metadata": {},
   "source": [
    "I also see names of some cities, states and countries. TODO: Lets work on removing these. "
   ]
  },
  {
   "cell_type": "markdown",
   "metadata": {},
   "source": [
    "### Lets look into using only calories to predict whether a recipe is a dessert. \n",
    "Meaning we're using only one variable to predict the dessert (1) or non-dessert (0) status. "
   ]
  },
  {
   "cell_type": "code",
   "execution_count": 17,
   "metadata": {},
   "outputs": [],
   "source": [
    "from sklearn.linear_model import LogisticRegression\n",
    "from sklearn.model_selection import train_test_split\n",
    "from sklearn import metrics"
   ]
  },
  {
   "cell_type": "markdown",
   "metadata": {},
   "source": [
    "Lets split our original data into training and test data. *Remember, we have'nt balanced this dataset yet.*"
   ]
  },
  {
   "cell_type": "code",
   "execution_count": 32,
   "metadata": {},
   "outputs": [],
   "source": [
    "# split data into training and validation data, for both features and target\n",
    "# The split is based on a random number generator. Supplying a numeric value to\n",
    "# the random_state argument guarantees we get the same split every time we\n",
    "# run this script.\n",
    "train_X, test_X, train_y, test_y = train_test_split(recipes_fil, \n",
    "                                                    y, \n",
    "                                                    train_size = 0.7, # 70: 30 split\n",
    "                                                    test_size = 0.3,\n",
    "                                                    random_state = 0)\n",
    "\n",
    "## X \n",
    "im_X = train_X[['calories']] # Looking at only one variable for now"
   ]
  },
  {
   "cell_type": "markdown",
   "metadata": {},
   "source": [
    "Lets now create our model on imbalanced data"
   ]
  },
  {
   "cell_type": "code",
   "execution_count": 35,
   "metadata": {},
   "outputs": [],
   "source": [
    "# Fitting the model \n",
    "\n",
    "logis = LogisticRegression(random_state=0, solver='liblinear')\n",
    "logis_model = logis.fit(im_X, train_y)\n",
    "\n",
    "# Making predictions using the 'unseen' test_X[['calories']] this dataset should not be augmented (balanced)\n",
    "\n",
    "pred_1 = logis_model.predict(test_X[['calories']])"
   ]
  },
  {
   "cell_type": "markdown",
   "metadata": {},
   "source": [
    "Lets try evaluating it ! "
   ]
  },
  {
   "cell_type": "code",
   "execution_count": 36,
   "metadata": {},
   "outputs": [
    {
     "name": "stdout",
     "output_type": "stream",
     "text": [
      "0.8188512518409425\n"
     ]
    }
   ],
   "source": [
    "# calculate accuracy\n",
    "print(metrics.accuracy_score(test_y, pred_1))"
   ]
  },
  {
   "cell_type": "markdown",
   "metadata": {},
   "source": [
    "Hmmph ! This is pretty good in predicting dessert status right? Even when we used an imbalanced dataset i.e. we didnt have enough training instances for our positive class (is a dessert) and we still got a pretty good accuracy.  \n",
    "  \n",
    "So , fixing the imbalance should only improve the accuracy, right?  <font color=GREEN>TODO: WHY is balancing required in this data ?</font>\n",
    "  \n",
    "Let's try figuring out that next. \n",
    "\n",
    "---"
   ]
  },
  {
   "cell_type": "markdown",
   "metadata": {},
   "source": [
    "### Handling class Imbalance. \n",
    "\n",
    "What we're trying to do in this topic is create a 1:1 ratio of the two types of target classes i.e. dessert and non-dessert.  We do this so that our model can detect either class with equal power. If we don't balance our target variable our model will be trained to detect one one target class (guess which one) better than the other. In some cases this is what you may need as well. It all depends on what you want your model to do. \n",
    "  \n",
    "  \n",
    "#### <font color=RED>NOTE:</font> \n",
    "Always do the balancing AFTER the test train split, because in our test data (which the model never sees) the distribution of the target classes should be as REAL as possible. This will be the true test of how good our model performs and we should <font color=red>test</font> the model on an unaugmented, imbalanced _test_ dataset. \n",
    "  \n",
    "  \n",
    "  \n",
    "Here lets try 2 commonly used techniques \n",
    "* Undersampling -- reduces the number of training instances of the majority target class seen in the data \n",
    "* Oversampling -- increases the number of training instances of the minority target class seen in the data"
   ]
  },
  {
   "cell_type": "markdown",
   "metadata": {},
   "source": [
    "#### Undersampling"
   ]
  },
  {
   "cell_type": "code",
   "execution_count": 90,
   "metadata": {},
   "outputs": [
    {
     "name": "stdout",
     "output_type": "stream",
     "text": [
      "Count of minority class is :  2112\n",
      "Count of majority undersamples class is :  2112\n"
     ]
    }
   ],
   "source": [
    "# Lets shuffle the data before creating the subsamples\n",
    "train_X = train_X.sample(frac=1)\n",
    "\n",
    "# number of instances which are desserts in the training dataset\n",
    "is_dessert = train_X['dessert'].astype(int) == 1\n",
    "isnot_dessert = train_X['dessert'].astype(int) == 0\n",
    "\n",
    "\n",
    "desserts_df = train_X[is_dessert]\n",
    "non_desert_df = train_X[isnot_dessert]\n",
    "\n",
    "#Lets pick up the same number of records from the majority class\n",
    "non_desert_df_un = non_desert_df.iloc[:len(train_X[is_dessert])]\n",
    "\n",
    "# amount of minority class \n",
    "print(\"Count of minority class is : \", len(train_X[is_dessert]))\n",
    "\n",
    "#amount of majority class \n",
    "print(\"Count of majority undersamples class is : \", len(non_desert_df_un))"
   ]
  },
  {
   "cell_type": "code",
   "execution_count": 163,
   "metadata": {},
   "outputs": [
    {
     "data": {
      "image/png": "[encoded data removed]",
      "text/plain": [
       "<Figure size 432x288 with 1 Axes>"
      ]
     },
     "metadata": {
      "needs_background": "light"
     },
     "output_type": "display_data"
    }
   ],
   "source": [
    "#generating a balanced input dataset\n",
    "co_df = pd.concat([desserts_df, non_desert_df_un], axis=0)\n",
    "\n",
    "# Shuffle dataframe rows _un for undersampling\n",
    "ba_recipes_df_un = co_df.sample(frac= 1, random_state = 1)\n",
    "\n",
    "#lets confirm \n",
    "sns.countplot(x = ba_recipes_df_un.dessert, palette='hls')\n",
    "plt.title('Equal distrbution of both classes of the target variable achieved using Naive Random Undersampling')\n",
    "plt.show()"
   ]
  },
  {
   "cell_type": "markdown",
   "metadata": {},
   "source": [
    "The distribution now looks more even compared to earlier. Remember this dataset, we'll use it again while comparing models generated from different kinds of datasets (imbalanced, balanced using oversampling, balanced using undersampling etc...).  \n",
    "  \n",
    "\n",
    "**One problem** with the random undersampling is that we are underutilizing the potential of the dataset. We are throwing away all those extra instances of the majority class which could have helped train the model. So there is **'information loss'**. When we have a VERY large dataset, this is more acceptable."
   ]
  },
  {
   "cell_type": "markdown",
   "metadata": {},
   "source": [
    "#### Oversampling\n",
    "We will go over two (more in the future) commonly used kinds of oversampling :\n",
    "* Random Oversampling \n",
    "* Synthetic Minority Oversampling Technique (SMOTE)"
   ]
  },
  {
   "cell_type": "markdown",
   "metadata": {},
   "source": [
    "##### Random Oversampling \n",
    "This is the most naive strategy where we create new samples by simply using copies of existing samples, i.e. sampling using *replacement* of the current available minority class. The sample should match the number of instances of the majority class, so that the latter doesn't take over during training. "
   ]
  },
  {
   "cell_type": "code",
   "execution_count": 24,
   "metadata": {},
   "outputs": [],
   "source": [
    "from imblearn.over_sampling import RandomOverSampler"
   ]
  },
  {
   "cell_type": "code",
   "execution_count": 158,
   "metadata": {},
   "outputs": [],
   "source": [
    "r_osampler = RandomOverSampler(random_state = 0, sampling_strategy='minority')\n",
    "X_over , y_over = r_osampler.fit_resample(train_X, train_y)"
   ]
  },
  {
   "cell_type": "code",
   "execution_count": 159,
   "metadata": {},
   "outputs": [
    {
     "data": {
      "text/html": [
       "<div>\n",
       "<style scoped>\n",
       "    .dataframe tbody tr th:only-of-type {\n",
       "        vertical-align: middle;\n",
       "    }\n",
       "\n",
       "    .dataframe tbody tr th {\n",
       "        vertical-align: top;\n",
       "    }\n",
       "\n",
       "    .dataframe thead th {\n",
       "        text-align: right;\n",
       "    }\n",
       "</style>\n",
       "<table border=\"1\" class=\"dataframe\">\n",
       "  <thead>\n",
       "    <tr style=\"text-align: right;\">\n",
       "      <th></th>\n",
       "      <th>title</th>\n",
       "      <th>rating</th>\n",
       "      <th>calories</th>\n",
       "      <th>protein</th>\n",
       "      <th>fat</th>\n",
       "      <th>sodium</th>\n",
       "      <th>#cakeweek</th>\n",
       "      <th>#wasteless</th>\n",
       "      <th>22-minute meals</th>\n",
       "      <th>3-ingredient recipes</th>\n",
       "      <th>...</th>\n",
       "      <th>yellow squash</th>\n",
       "      <th>yogurt</th>\n",
       "      <th>yonkers</th>\n",
       "      <th>yuca</th>\n",
       "      <th>zucchini</th>\n",
       "      <th>cookbooks</th>\n",
       "      <th>leftovers</th>\n",
       "      <th>snack</th>\n",
       "      <th>snack week</th>\n",
       "      <th>turkey</th>\n",
       "    </tr>\n",
       "  </thead>\n",
       "  <tbody>\n",
       "    <tr>\n",
       "      <th>0</th>\n",
       "      <td>Strawberry Coulis</td>\n",
       "      <td>3.75</td>\n",
       "      <td>219</td>\n",
       "      <td>1</td>\n",
       "      <td>0</td>\n",
       "      <td>1</td>\n",
       "      <td>0</td>\n",
       "      <td>0</td>\n",
       "      <td>0</td>\n",
       "      <td>0</td>\n",
       "      <td>...</td>\n",
       "      <td>0</td>\n",
       "      <td>0</td>\n",
       "      <td>0</td>\n",
       "      <td>0</td>\n",
       "      <td>0</td>\n",
       "      <td>0</td>\n",
       "      <td>0</td>\n",
       "      <td>0</td>\n",
       "      <td>0</td>\n",
       "      <td>0</td>\n",
       "    </tr>\n",
       "    <tr>\n",
       "      <th>1</th>\n",
       "      <td>Chocolate Frosting</td>\n",
       "      <td>3.75</td>\n",
       "      <td>245</td>\n",
       "      <td>1</td>\n",
       "      <td>12</td>\n",
       "      <td>5</td>\n",
       "      <td>0</td>\n",
       "      <td>0</td>\n",
       "      <td>0</td>\n",
       "      <td>0</td>\n",
       "      <td>...</td>\n",
       "      <td>0</td>\n",
       "      <td>0</td>\n",
       "      <td>0</td>\n",
       "      <td>0</td>\n",
       "      <td>0</td>\n",
       "      <td>0</td>\n",
       "      <td>0</td>\n",
       "      <td>0</td>\n",
       "      <td>0</td>\n",
       "      <td>0</td>\n",
       "    </tr>\n",
       "    <tr>\n",
       "      <th>2</th>\n",
       "      <td>Spicy Vietnamese Beef and Noodle Soup</td>\n",
       "      <td>4.375</td>\n",
       "      <td>1024</td>\n",
       "      <td>59</td>\n",
       "      <td>61</td>\n",
       "      <td>1160</td>\n",
       "      <td>0</td>\n",
       "      <td>0</td>\n",
       "      <td>0</td>\n",
       "      <td>0</td>\n",
       "      <td>...</td>\n",
       "      <td>0</td>\n",
       "      <td>0</td>\n",
       "      <td>0</td>\n",
       "      <td>0</td>\n",
       "      <td>0</td>\n",
       "      <td>0</td>\n",
       "      <td>0</td>\n",
       "      <td>0</td>\n",
       "      <td>0</td>\n",
       "      <td>0</td>\n",
       "    </tr>\n",
       "    <tr>\n",
       "      <th>3</th>\n",
       "      <td>Spicy Garlic Potatoes and Zucchini</td>\n",
       "      <td>3.75</td>\n",
       "      <td>210</td>\n",
       "      <td>5</td>\n",
       "      <td>9</td>\n",
       "      <td>206</td>\n",
       "      <td>0</td>\n",
       "      <td>0</td>\n",
       "      <td>0</td>\n",
       "      <td>0</td>\n",
       "      <td>...</td>\n",
       "      <td>0</td>\n",
       "      <td>0</td>\n",
       "      <td>0</td>\n",
       "      <td>0</td>\n",
       "      <td>1</td>\n",
       "      <td>0</td>\n",
       "      <td>0</td>\n",
       "      <td>0</td>\n",
       "      <td>0</td>\n",
       "      <td>0</td>\n",
       "    </tr>\n",
       "    <tr>\n",
       "      <th>4</th>\n",
       "      <td>Chocolate Kumquat Spring Rolls</td>\n",
       "      <td>3.75</td>\n",
       "      <td>243</td>\n",
       "      <td>3</td>\n",
       "      <td>21</td>\n",
       "      <td>48</td>\n",
       "      <td>0</td>\n",
       "      <td>0</td>\n",
       "      <td>0</td>\n",
       "      <td>0</td>\n",
       "      <td>...</td>\n",
       "      <td>0</td>\n",
       "      <td>0</td>\n",
       "      <td>0</td>\n",
       "      <td>0</td>\n",
       "      <td>0</td>\n",
       "      <td>0</td>\n",
       "      <td>0</td>\n",
       "      <td>0</td>\n",
       "      <td>0</td>\n",
       "      <td>0</td>\n",
       "    </tr>\n",
       "  </tbody>\n",
       "</table>\n",
       "<p>5 rows × 680 columns</p>\n",
       "</div>"
      ],
      "text/plain": [
       "                                    title rating calories protein fat sodium  \\\n",
       "0                      Strawberry Coulis    3.75      219       1   0      1   \n",
       "1                     Chocolate Frosting    3.75      245       1  12      5   \n",
       "2  Spicy Vietnamese Beef and Noodle Soup   4.375     1024      59  61   1160   \n",
       "3     Spicy Garlic Potatoes and Zucchini    3.75      210       5   9    206   \n",
       "4         Chocolate Kumquat Spring Rolls    3.75      243       3  21     48   \n",
       "\n",
       "  #cakeweek #wasteless 22-minute meals 3-ingredient recipes  ...    \\\n",
       "0         0          0               0                    0  ...     \n",
       "1         0          0               0                    0  ...     \n",
       "2         0          0               0                    0  ...     \n",
       "3         0          0               0                    0  ...     \n",
       "4         0          0               0                    0  ...     \n",
       "\n",
       "  yellow squash yogurt yonkers yuca zucchini cookbooks leftovers snack  \\\n",
       "0             0      0       0    0        0         0         0     0   \n",
       "1             0      0       0    0        0         0         0     0   \n",
       "2             0      0       0    0        0         0         0     0   \n",
       "3             0      0       0    0        1         0         0     0   \n",
       "4             0      0       0    0        0         0         0     0   \n",
       "\n",
       "  snack week turkey  \n",
       "0          0      0  \n",
       "1          0      0  \n",
       "2          0      0  \n",
       "3          0      0  \n",
       "4          0      0  \n",
       "\n",
       "[5 rows x 680 columns]"
      ]
     },
     "execution_count": 159,
     "metadata": {},
     "output_type": "execute_result"
    }
   ],
   "source": [
    "X_over = pd.DataFrame(X_over, columns = train_X.columns)\n",
    "X_over.head()\n",
    "# Looking good. "
   ]
  },
  {
   "cell_type": "code",
   "execution_count": 161,
   "metadata": {},
   "outputs": [
    {
     "data": {
      "image/png": "[encoded data removed]",
      "text/plain": [
       "<Figure size 432x288 with 1 Axes>"
      ]
     },
     "metadata": {
      "needs_background": "light"
     },
     "output_type": "display_data"
    }
   ],
   "source": [
    "sns.countplot(x = pd.Series(y_over))\n",
    "plt.title('Equal distrbution of both classes of the target variable achieved using Naive Random Oversampling')\n",
    "plt.xlabel('Dessert')\n",
    "plt.show()"
   ]
  },
  {
   "cell_type": "markdown",
   "metadata": {},
   "source": [
    "Neat, the oversampling increased the sampling of our minority class!!  \n",
    "However, remember that resampling with replacement will invariably lead to some duplicates. So our model is being trained on the many identical instances.  This may work, but when the test data has instances that are similar and not identical, will it perform that well? \n",
    "  \n",
    "This is why we will now look into SMOTE as another technique for over sampling. "
   ]
  },
  {
   "cell_type": "markdown",
   "metadata": {},
   "source": [
    "#### SMOTE\n",
    "What this technique does is create synthetic a.k.a. fake data samples following a particular distribution which is inherent in the data. So it generates simialr but not identical fake samples. And it leverages the data to create these fake instances. "
   ]
  },
  {
   "cell_type": "code",
   "execution_count": 157,
   "metadata": {},
   "outputs": [],
   "source": [
    "from imblearn.over_sampling import SMOTE\n",
    "\n",
    "# Look at SmoteNC when using continous and nominal data. \n",
    "# Right now we're looking at calories alone, which is a continuous variable, so lets stick with SMOTE. "
   ]
  },
  {
   "cell_type": "code",
   "execution_count": 185,
   "metadata": {},
   "outputs": [
    {
     "data": {
      "image/png": "[encoded data removed]",
      "text/plain": [
       "<Figure size 432x288 with 1 Axes>"
      ]
     },
     "metadata": {
      "needs_background": "light"
     },
     "output_type": "display_data"
    }
   ],
   "source": [
    "num_train_X = train_X.drop(['title'], axis = 1)\n",
    "\n",
    "#SMOTE\n",
    "sm_sampler = SMOTE(random_state=0, sampling_strategy='minority')\n",
    "X_sm, y_sm = sm_sampler.fit_resample(num_train_X, train_y)\n",
    "X_sm = pd.DataFrame(X_sm, columns=num_train_X.columns)\n",
    "\n",
    "\n",
    "#PLOT to see sampling output\n",
    "sns.countplot(x = pd.Series(y_sm))\n",
    "plt.title('Equal distrbution of both classes of the target variable achieved using SMOTE')\n",
    "plt.xlabel('Dessert')\n",
    "\n",
    "plt.show()"
   ]
  },
  {
   "cell_type": "markdown",
   "metadata": {},
   "source": [
    "### Model training using the balanced datasets"
   ]
  },
  {
   "cell_type": "markdown",
   "metadata": {},
   "source": [
    "Lets recollect our datasets shall we :\n",
    "* `ba_recipes_df_un` -- random undersampling \n",
    "* `X_over, y_over` -- random oversampling\n",
    "* `X_sm, y_sm` -- SMOTE "
   ]
  },
  {
   "cell_type": "code",
   "execution_count": 228,
   "metadata": {},
   "outputs": [
    {
     "name": "stdout",
     "output_type": "stream",
     "text": [
      "(4224,)\n",
      "(18006, 680)\n",
      "(18006, 679)\n"
     ]
    }
   ],
   "source": [
    "print(ba_recipes_df_un.calories.shape)\n",
    "print(X_over.shape)\n",
    "print(X_sm.shape)"
   ]
  },
  {
   "cell_type": "code",
   "execution_count": 191,
   "metadata": {},
   "outputs": [],
   "source": [
    "un_log_model = logis.fit(ba_recipes_df_un[['calories']], ba_recipes_df_un['dessert']) # using the under sampled dataset \n",
    "over_log_model = logis.fit(X_over[['calories']], y_over) # using the randomly over sampled dataset\n",
    "sm_log_model = logis.fit(X_sm[['calories']], y_sm) # using the SMOTE over sampling "
   ]
  },
  {
   "cell_type": "markdown",
   "metadata": {},
   "source": [
    "### Lets make our predictions using the above models \n",
    "Remember to use the original unaugmented test dataset."
   ]
  },
  {
   "cell_type": "code",
   "execution_count": 201,
   "metadata": {},
   "outputs": [],
   "source": [
    "un_pred = un_log_model.predict(test_X[['calories']])\n",
    "over_pred = over_log_model.predict(test_X[['calories']])\n",
    "sm_pred = sm_log_model.predict(test_X[['calories']])"
   ]
  },
  {
   "cell_type": "markdown",
   "metadata": {},
   "source": [
    "### Model evaluations\n",
    "Lets see if the three sampling strategies helped create better or poorer models compared to the model trained on imbalanced data (remember logis_model ?) "
   ]
  },
  {
   "cell_type": "code",
   "execution_count": 240,
   "metadata": {},
   "outputs": [],
   "source": [
    "from sklearn.metrics import confusion_matrix, precision_recall_curve, auc, roc_auc_score, precision_score,roc_curve, recall_score, classification_report\n"
   ]
  },
  {
   "cell_type": "code",
   "execution_count": 202,
   "metadata": {},
   "outputs": [
    {
     "name": "stdout",
     "output_type": "stream",
     "text": [
      "Accuracy when predictions are made with undersampling 0.8188512518409425\n",
      "Accuracy when predictions are made with naive over sampling 0.8188512518409425\n",
      "Accuracy when predictions are made with Smote 0.8188512518409425\n"
     ]
    }
   ],
   "source": [
    "# calculate accuracy\n",
    "print(\"Accuracy when predictions are made with undersampling\", metrics.accuracy_score(test_y, un_pred))\n",
    "print(\"Accuracy when predictions are made with naive over sampling\", metrics.accuracy_score(test_y, over_pred))\n",
    "print(\"Accuracy when predictions are made with Smote\", metrics.accuracy_score(test_y, sm_pred))"
   ]
  },
  {
   "cell_type": "markdown",
   "metadata": {},
   "source": [
    "Hmm.....this looks a bit off. Lets investigate the results a little further. "
   ]
  },
  {
   "cell_type": "code",
   "execution_count": 291,
   "metadata": {},
   "outputs": [
    {
     "name": "stderr",
     "output_type": "stream",
     "text": [
      "/Library/Frameworks/Python.framework/Versions/3.6/lib/python3.6/site-packages/sklearn/metrics/classification.py:1143: UndefinedMetricWarning: Precision is ill-defined and being set to 0.0 due to no predicted samples.\n",
      "  'precision', 'predicted', average, warn_for)\n"
     ]
    },
    {
     "data": {
      "text/plain": [
       "0.0"
      ]
     },
     "execution_count": 291,
     "metadata": {},
     "output_type": "execute_result"
    }
   ],
   "source": [
    "precision_score(test_y, pred_1) # our first baseline model "
   ]
  },
  {
   "cell_type": "code",
   "execution_count": 293,
   "metadata": {},
   "outputs": [
    {
     "data": {
      "text/plain": [
       "0.0    4753\n",
       "dtype: int64"
      ]
     },
     "execution_count": 293,
     "metadata": {},
     "output_type": "execute_result"
    }
   ],
   "source": [
    "pd.Series(pred_1).value_counts()"
   ]
  },
  {
   "cell_type": "markdown",
   "metadata": {},
   "source": [
    "Ok, no wonder, our model metrics are messed up.....its predicting all the samples as non-dessert. Even our augmented balanced datasets are not training the models well enough for predicting 'dessert' status. "
   ]
  },
  {
   "cell_type": "code",
   "execution_count": 296,
   "metadata": {},
   "outputs": [
    {
     "data": {
      "text/plain": [
       "0.0"
      ]
     },
     "execution_count": 296,
     "metadata": {},
     "output_type": "execute_result"
    }
   ],
   "source": [
    "precision_score(test_y, un_pred) ## Same thing again for logistic model trained on the randomly undersampled dataset. "
   ]
  },
  {
   "cell_type": "code",
   "execution_count": 297,
   "metadata": {},
   "outputs": [],
   "source": [
    "# reference from here \n",
    "# https://scikit-learn.org/stable/auto_examples/model_selection/plot_confusion_matrix.html#sphx-glr-auto-examples-model-selection-plot-confusion-matrix-py\n",
    "#slightly modified for this data\n",
    "\n",
    "def plot_confusion_matrix(y_true, y_pred, classes,\n",
    "                          normalize=False,\n",
    "                          title=None,\n",
    "                          cmap=plt.cm.Blues):\n",
    "    \"\"\"\n",
    "    This function prints and plots the confusion matrix.\n",
    "    Normalization can be applied by setting `normalize=True`.\n",
    "    \"\"\"\n",
    "    if not title:\n",
    "        if normalize:\n",
    "            title = 'Normalized confusion matrix'\n",
    "        else:\n",
    "            title = 'Confusion matrix, without normalization'\n",
    "\n",
    "    # Compute confusion matrix\n",
    "    cm = confusion_matrix(y_true, y_pred)\n",
    "    # Only use the labels that appear in the data\n",
    "    #classes = classes[unique_labels(y_true, y_pred)]\n",
    "    if normalize:\n",
    "        cm = cm.astype('float') / cm.sum(axis=1)[:, np.newaxis]\n",
    "        print(\"Normalized confusion matrix\")\n",
    "    else:\n",
    "        print('Confusion matrix, without normalization')\n",
    "\n",
    "    print(cm)\n",
    "\n",
    "    fig, ax = plt.subplots()\n",
    "    im = ax.imshow(cm, interpolation='nearest', cmap=cmap)\n",
    "    ax.figure.colorbar(im, ax=ax)\n",
    "    # We want to show all ticks...\n",
    "    ax.set(xticks=np.arange(cm.shape[1]),\n",
    "           yticks=np.arange(cm.shape[0]),\n",
    "           # ... and label them with the respective list entries\n",
    "           xticklabels=['0', '1'], yticklabels=['0', '1'],\n",
    "           title=title,\n",
    "           ylabel='True label',\n",
    "           xlabel='Predicted label')\n",
    "\n",
    "    # Rotate the tick labels and set their alignment.\n",
    "    plt.setp(ax.get_xticklabels(), rotation=45, ha=\"right\",\n",
    "             rotation_mode=\"anchor\")\n",
    "\n",
    "    # Loop over data dimensions and create text annotations.\n",
    "    fmt = '.2f' if normalize else 'd'\n",
    "    thresh = cm.max() / 2.\n",
    "    for i in range(cm.shape[0]):\n",
    "        for j in range(cm.shape[1]):\n",
    "            ax.text(j, i, format(cm[i, j], fmt),\n",
    "                    ha=\"center\", va=\"center\",\n",
    "                    color=\"white\" if cm[i, j] > thresh else \"black\")\n",
    "    fig.tight_layout()\n",
    "    return ax"
   ]
  },
  {
   "cell_type": "code",
   "execution_count": 301,
   "metadata": {},
   "outputs": [
    {
     "name": "stdout",
     "output_type": "stream",
     "text": [
      "Confusion matrix, without normalization\n",
      "[[3892    0]\n",
      " [ 861    0]]\n"
     ]
    },
    {
     "data": {
      "text/plain": [
       "<matplotlib.axes._subplots.AxesSubplot at 0x11c9e2748>"
      ]
     },
     "execution_count": 301,
     "metadata": {},
     "output_type": "execute_result"
    },
    {
     "data": {
      "image/png": "[encoded data removed]",
      "text/plain": [
       "<Figure size 432x288 with 2 Axes>"
      ]
     },
     "metadata": {
      "needs_background": "light"
     },
     "output_type": "display_data"
    }
   ],
   "source": [
    "plot_confusion_matrix(test_y, un_pred, classes=['0', '1'], normalize=False,title='Confusion matrix')"
   ]
  },
  {
   "cell_type": "markdown",
   "metadata": {},
   "source": [
    "There it is. All of our 'dessert' recipes have been incorrectly classified. Mean "
   ]
  }
 ],
 "metadata": {
  "kernelspec": {
   "display_name": "Python 3",
   "language": "python",
   "name": "python3"
  },
  "language_info": {
   "codemirror_mode": {
    "name": "ipython",
    "version": 3
   },
   "file_extension": ".py",
   "mimetype": "text/x-python",
   "name": "python",
   "nbconvert_exporter": "python",
   "pygments_lexer": "ipython3",
   "version": "3.6.1"
  }
 },
 "nbformat": 4,
 "nbformat_minor": 2
}
