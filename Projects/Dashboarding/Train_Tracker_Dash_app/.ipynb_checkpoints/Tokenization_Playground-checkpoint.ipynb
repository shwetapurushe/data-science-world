{
 "cells": [
  {
   "cell_type": "markdown",
   "metadata": {},
   "source": [
    "# Goal\n",
    "The goal of this notebook is only to explore the data about the train delays and tokenize the alert message.  \n",
    "All of this will be packaged into a small function in the dash app in this folder.  \n",
    "But hey! one has to document exploring the data right ??  "
   ]
  },
  {
   "cell_type": "code",
   "execution_count": 2,
   "metadata": {},
   "outputs": [],
   "source": [
    "import re\n",
    "import nltk"
   ]
  },
  {
   "cell_type": "code",
   "execution_count": 3,
   "metadata": {},
   "outputs": [],
   "source": [
    "import pandas as pd"
   ]
  },
  {
   "cell_type": "code",
   "execution_count": 24,
   "metadata": {},
   "outputs": [
    {
     "data": {
      "text/html": [
       "<div>\n",
       "<style scoped>\n",
       "    .dataframe tbody tr th:only-of-type {\n",
       "        vertical-align: middle;\n",
       "    }\n",
       "\n",
       "    .dataframe tbody tr th {\n",
       "        vertical-align: top;\n",
       "    }\n",
       "\n",
       "    .dataframe thead th {\n",
       "        text-align: right;\n",
       "    }\n",
       "</style>\n",
       "<table border=\"1\" class=\"dataframe\">\n",
       "  <thead>\n",
       "    <tr style=\"text-align: right;\">\n",
       "      <th></th>\n",
       "      <th>Chat Session</th>\n",
       "      <th>Message Date</th>\n",
       "      <th>Delivered Date</th>\n",
       "      <th>Read Date</th>\n",
       "      <th>Service</th>\n",
       "      <th>Type</th>\n",
       "      <th>Sender ID</th>\n",
       "      <th>Sender Name</th>\n",
       "      <th>Status</th>\n",
       "      <th>Subject</th>\n",
       "      <th>Text</th>\n",
       "      <th>Attachment</th>\n",
       "      <th>Attachment type</th>\n",
       "    </tr>\n",
       "  </thead>\n",
       "  <tbody>\n",
       "    <tr>\n",
       "      <th>0</th>\n",
       "      <td>58541</td>\n",
       "      <td>2019-04-15 18:28:00</td>\n",
       "      <td>NaT</td>\n",
       "      <td>2019-04-15 18:47:00</td>\n",
       "      <td>SMS</td>\n",
       "      <td>Incoming</td>\n",
       "      <td>58541</td>\n",
       "      <td>NaN</td>\n",
       "      <td>Read</td>\n",
       "      <td>NaN</td>\n",
       "      <td>Lowell Train 337 (6:30 pm outbound) is expecte...</td>\n",
       "      <td>NaN</td>\n",
       "      <td>NaN</td>\n",
       "    </tr>\n",
       "    <tr>\n",
       "      <th>1</th>\n",
       "      <td>58541</td>\n",
       "      <td>2019-04-15 18:39:00</td>\n",
       "      <td>NaT</td>\n",
       "      <td>2019-04-15 18:47:00</td>\n",
       "      <td>SMS</td>\n",
       "      <td>Incoming</td>\n",
       "      <td>58541</td>\n",
       "      <td>NaN</td>\n",
       "      <td>Read</td>\n",
       "      <td>NaN</td>\n",
       "      <td>Update: Lowell Train 337 (6:30 pm outbound) ha...</td>\n",
       "      <td>NaN</td>\n",
       "      <td>NaN</td>\n",
       "    </tr>\n",
       "    <tr>\n",
       "      <th>2</th>\n",
       "      <td>58541</td>\n",
       "      <td>2019-04-17 16:38:00</td>\n",
       "      <td>NaT</td>\n",
       "      <td>2019-04-17 22:24:00</td>\n",
       "      <td>SMS</td>\n",
       "      <td>Incoming</td>\n",
       "      <td>58541</td>\n",
       "      <td>NaN</td>\n",
       "      <td>Read</td>\n",
       "      <td>NaN</td>\n",
       "      <td>Lowell Train 329 (4:40 pm outbound) is expecte...</td>\n",
       "      <td>NaN</td>\n",
       "      <td>NaN</td>\n",
       "    </tr>\n",
       "    <tr>\n",
       "      <th>3</th>\n",
       "      <td>58541</td>\n",
       "      <td>2019-04-17 16:48:00</td>\n",
       "      <td>NaT</td>\n",
       "      <td>2019-04-17 22:24:00</td>\n",
       "      <td>SMS</td>\n",
       "      <td>Incoming</td>\n",
       "      <td>58541</td>\n",
       "      <td>NaN</td>\n",
       "      <td>Read</td>\n",
       "      <td>NaN</td>\n",
       "      <td>Update: Lowell Train 329 (4:40 pm outbound) ha...</td>\n",
       "      <td>NaN</td>\n",
       "      <td>NaN</td>\n",
       "    </tr>\n",
       "    <tr>\n",
       "      <th>4</th>\n",
       "      <td>58541</td>\n",
       "      <td>2019-04-19 18:08:00</td>\n",
       "      <td>NaT</td>\n",
       "      <td>2019-04-19 18:33:00</td>\n",
       "      <td>SMS</td>\n",
       "      <td>Incoming</td>\n",
       "      <td>58541</td>\n",
       "      <td>NaN</td>\n",
       "      <td>Read</td>\n",
       "      <td>NaN</td>\n",
       "      <td>Lowell Train 333 (5:35 pm outbound) is stopped...</td>\n",
       "      <td>NaN</td>\n",
       "      <td>NaN</td>\n",
       "    </tr>\n",
       "  </tbody>\n",
       "</table>\n",
       "</div>"
      ],
      "text/plain": [
       "   Chat Session        Message Date Delivered Date           Read Date  \\\n",
       "0         58541 2019-04-15 18:28:00            NaT 2019-04-15 18:47:00   \n",
       "1         58541 2019-04-15 18:39:00            NaT 2019-04-15 18:47:00   \n",
       "2         58541 2019-04-17 16:38:00            NaT 2019-04-17 22:24:00   \n",
       "3         58541 2019-04-17 16:48:00            NaT 2019-04-17 22:24:00   \n",
       "4         58541 2019-04-19 18:08:00            NaT 2019-04-19 18:33:00   \n",
       "\n",
       "  Service      Type  Sender ID  Sender Name Status  Subject  \\\n",
       "0     SMS  Incoming      58541          NaN   Read      NaN   \n",
       "1     SMS  Incoming      58541          NaN   Read      NaN   \n",
       "2     SMS  Incoming      58541          NaN   Read      NaN   \n",
       "3     SMS  Incoming      58541          NaN   Read      NaN   \n",
       "4     SMS  Incoming      58541          NaN   Read      NaN   \n",
       "\n",
       "                                                Text  Attachment  \\\n",
       "0  Lowell Train 337 (6:30 pm outbound) is expecte...         NaN   \n",
       "1  Update: Lowell Train 337 (6:30 pm outbound) ha...         NaN   \n",
       "2  Lowell Train 329 (4:40 pm outbound) is expecte...         NaN   \n",
       "3  Update: Lowell Train 329 (4:40 pm outbound) ha...         NaN   \n",
       "4  Lowell Train 333 (5:35 pm outbound) is stopped...         NaN   \n",
       "\n",
       "   Attachment type  \n",
       "0              NaN  \n",
       "1              NaN  \n",
       "2              NaN  \n",
       "3              NaN  \n",
       "4              NaN  "
      ]
     },
     "execution_count": 24,
     "metadata": {},
     "output_type": "execute_result"
    }
   ],
   "source": [
    "df = pd.read_csv(\"../../input_data/train_Messages.csv\", header=0, parse_dates=['Message Date', 'Delivered Date', 'Read Date'])\n",
    "df.head()"
   ]
  },
  {
   "cell_type": "code",
   "execution_count": 25,
   "metadata": {},
   "outputs": [
    {
     "name": "stdout",
     "output_type": "stream",
     "text": [
      "<class 'pandas.core.frame.DataFrame'>\n",
      "RangeIndex: 25 entries, 0 to 24\n",
      "Data columns (total 8 columns):\n",
      "Chat Session    25 non-null int64\n",
      "Message Date    25 non-null datetime64[ns]\n",
      "Read Date       25 non-null datetime64[ns]\n",
      "Service         25 non-null object\n",
      "Type            25 non-null object\n",
      "Sender ID       25 non-null int64\n",
      "Status          25 non-null object\n",
      "Text            25 non-null object\n",
      "dtypes: datetime64[ns](2), int64(2), object(4)\n",
      "memory usage: 1.6+ KB\n"
     ]
    }
   ],
   "source": [
    "df = df.dropna(axis=1)\n",
    "df.info()"
   ]
  },
  {
   "cell_type": "code",
   "execution_count": 22,
   "metadata": {},
   "outputs": [
    {
     "data": {
      "text/html": [
       "<div>\n",
       "<style scoped>\n",
       "    .dataframe tbody tr th:only-of-type {\n",
       "        vertical-align: middle;\n",
       "    }\n",
       "\n",
       "    .dataframe tbody tr th {\n",
       "        vertical-align: top;\n",
       "    }\n",
       "\n",
       "    .dataframe thead th {\n",
       "        text-align: right;\n",
       "    }\n",
       "</style>\n",
       "<table border=\"1\" class=\"dataframe\">\n",
       "  <thead>\n",
       "    <tr style=\"text-align: right;\">\n",
       "      <th></th>\n",
       "      <th>Chat Session</th>\n",
       "      <th>Message Date</th>\n",
       "      <th>Read Date</th>\n",
       "      <th>Service</th>\n",
       "      <th>Type</th>\n",
       "      <th>Sender ID</th>\n",
       "      <th>Status</th>\n",
       "      <th>Text</th>\n",
       "    </tr>\n",
       "  </thead>\n",
       "  <tbody>\n",
       "    <tr>\n",
       "      <th>0</th>\n",
       "      <td>58541</td>\n",
       "      <td>2019-04-15 18:28:00</td>\n",
       "      <td>2019-04-15 18:47:00</td>\n",
       "      <td>SMS</td>\n",
       "      <td>Incoming</td>\n",
       "      <td>58541</td>\n",
       "      <td>Read</td>\n",
       "      <td>Lowell Train 337 (6:30 pm outbound) is expecte...</td>\n",
       "    </tr>\n",
       "    <tr>\n",
       "      <th>1</th>\n",
       "      <td>58541</td>\n",
       "      <td>2019-04-15 18:39:00</td>\n",
       "      <td>2019-04-15 18:47:00</td>\n",
       "      <td>SMS</td>\n",
       "      <td>Incoming</td>\n",
       "      <td>58541</td>\n",
       "      <td>Read</td>\n",
       "      <td>Update: Lowell Train 337 (6:30 pm outbound) ha...</td>\n",
       "    </tr>\n",
       "    <tr>\n",
       "      <th>2</th>\n",
       "      <td>58541</td>\n",
       "      <td>2019-04-17 16:38:00</td>\n",
       "      <td>2019-04-17 22:24:00</td>\n",
       "      <td>SMS</td>\n",
       "      <td>Incoming</td>\n",
       "      <td>58541</td>\n",
       "      <td>Read</td>\n",
       "      <td>Lowell Train 329 (4:40 pm outbound) is expecte...</td>\n",
       "    </tr>\n",
       "    <tr>\n",
       "      <th>3</th>\n",
       "      <td>58541</td>\n",
       "      <td>2019-04-17 16:48:00</td>\n",
       "      <td>2019-04-17 22:24:00</td>\n",
       "      <td>SMS</td>\n",
       "      <td>Incoming</td>\n",
       "      <td>58541</td>\n",
       "      <td>Read</td>\n",
       "      <td>Update: Lowell Train 329 (4:40 pm outbound) ha...</td>\n",
       "    </tr>\n",
       "    <tr>\n",
       "      <th>4</th>\n",
       "      <td>58541</td>\n",
       "      <td>2019-04-19 18:08:00</td>\n",
       "      <td>2019-04-19 18:33:00</td>\n",
       "      <td>SMS</td>\n",
       "      <td>Incoming</td>\n",
       "      <td>58541</td>\n",
       "      <td>Read</td>\n",
       "      <td>Lowell Train 333 (5:35 pm outbound) is stopped...</td>\n",
       "    </tr>\n",
       "  </tbody>\n",
       "</table>\n",
       "</div>"
      ],
      "text/plain": [
       "   Chat Session        Message Date           Read Date Service      Type  \\\n",
       "0         58541 2019-04-15 18:28:00 2019-04-15 18:47:00     SMS  Incoming   \n",
       "1         58541 2019-04-15 18:39:00 2019-04-15 18:47:00     SMS  Incoming   \n",
       "2         58541 2019-04-17 16:38:00 2019-04-17 22:24:00     SMS  Incoming   \n",
       "3         58541 2019-04-17 16:48:00 2019-04-17 22:24:00     SMS  Incoming   \n",
       "4         58541 2019-04-19 18:08:00 2019-04-19 18:33:00     SMS  Incoming   \n",
       "\n",
       "   Sender ID Status                                               Text  \n",
       "0      58541   Read  Lowell Train 337 (6:30 pm outbound) is expecte...  \n",
       "1      58541   Read  Update: Lowell Train 337 (6:30 pm outbound) ha...  \n",
       "2      58541   Read  Lowell Train 329 (4:40 pm outbound) is expecte...  \n",
       "3      58541   Read  Update: Lowell Train 329 (4:40 pm outbound) ha...  \n",
       "4      58541   Read  Lowell Train 333 (5:35 pm outbound) is stopped...  "
      ]
     },
     "execution_count": 22,
     "metadata": {},
     "output_type": "execute_result"
    }
   ],
   "source": [
    "df.head()"
   ]
  },
  {
   "cell_type": "markdown",
   "metadata": {},
   "source": [
    "Lets look at the text column for producing our train app tokens!! "
   ]
  },
  {
   "cell_type": "code",
   "execution_count": 26,
   "metadata": {},
   "outputs": [
    {
     "data": {
      "text/html": [
       "<div>\n",
       "<style scoped>\n",
       "    .dataframe tbody tr th:only-of-type {\n",
       "        vertical-align: middle;\n",
       "    }\n",
       "\n",
       "    .dataframe tbody tr th {\n",
       "        vertical-align: top;\n",
       "    }\n",
       "\n",
       "    .dataframe thead th {\n",
       "        text-align: right;\n",
       "    }\n",
       "</style>\n",
       "<table border=\"1\" class=\"dataframe\">\n",
       "  <thead>\n",
       "    <tr style=\"text-align: right;\">\n",
       "      <th></th>\n",
       "      <th>Message Date</th>\n",
       "      <th>Text</th>\n",
       "    </tr>\n",
       "  </thead>\n",
       "  <tbody>\n",
       "    <tr>\n",
       "      <th>0</th>\n",
       "      <td>2019-04-15 18:28:00</td>\n",
       "      <td>Lowell Train 337 (6:30 pm outbound) is expecte...</td>\n",
       "    </tr>\n",
       "    <tr>\n",
       "      <th>1</th>\n",
       "      <td>2019-04-15 18:39:00</td>\n",
       "      <td>Update: Lowell Train 337 (6:30 pm outbound) ha...</td>\n",
       "    </tr>\n",
       "    <tr>\n",
       "      <th>2</th>\n",
       "      <td>2019-04-17 16:38:00</td>\n",
       "      <td>Lowell Train 329 (4:40 pm outbound) is expecte...</td>\n",
       "    </tr>\n",
       "    <tr>\n",
       "      <th>3</th>\n",
       "      <td>2019-04-17 16:48:00</td>\n",
       "      <td>Update: Lowell Train 329 (4:40 pm outbound) ha...</td>\n",
       "    </tr>\n",
       "    <tr>\n",
       "      <th>4</th>\n",
       "      <td>2019-04-19 18:08:00</td>\n",
       "      <td>Lowell Train 333 (5:35 pm outbound) is stopped...</td>\n",
       "    </tr>\n",
       "  </tbody>\n",
       "</table>\n",
       "</div>"
      ],
      "text/plain": [
       "         Message Date                                               Text\n",
       "0 2019-04-15 18:28:00  Lowell Train 337 (6:30 pm outbound) is expecte...\n",
       "1 2019-04-15 18:39:00  Update: Lowell Train 337 (6:30 pm outbound) ha...\n",
       "2 2019-04-17 16:38:00  Lowell Train 329 (4:40 pm outbound) is expecte...\n",
       "3 2019-04-17 16:48:00  Update: Lowell Train 329 (4:40 pm outbound) ha...\n",
       "4 2019-04-19 18:08:00  Lowell Train 333 (5:35 pm outbound) is stopped..."
      ]
     },
     "execution_count": 26,
     "metadata": {},
     "output_type": "execute_result"
    }
   ],
   "source": [
    "subset_df = df.loc[:, ['Message Date', 'Text']]\n",
    "subset_df.head()"
   ]
  },
  {
   "cell_type": "code",
   "execution_count": 29,
   "metadata": {},
   "outputs": [
    {
     "data": {
      "text/plain": [
       "pandas.core.series.Series"
      ]
     },
     "execution_count": 29,
     "metadata": {},
     "output_type": "execute_result"
    }
   ],
   "source": [
    "text = subset_df.Text\n",
    "type(text)"
   ]
  },
  {
   "cell_type": "code",
   "execution_count": 34,
   "metadata": {},
   "outputs": [
    {
     "data": {
      "text/plain": [
       "'Lowell Train 337 (6:30 pm outbound) is expected to depart North Station 5-10 minutes behind schedule due to the late arrival of equipment.'"
      ]
     },
     "execution_count": 34,
     "metadata": {},
     "output_type": "execute_result"
    }
   ],
   "source": [
    "one_text = text[0]\n",
    "one_text"
   ]
  },
  {
   "cell_type": "markdown",
   "metadata": {},
   "source": [
    "Lets play around with this one, to see how to make our NLP tokens. We will be creating tokens using **Regular Expresssions** and **String handling**."
   ]
  },
  {
   "cell_type": "code",
   "execution_count": 35,
   "metadata": {},
   "outputs": [
    {
     "data": {
      "text/plain": [
       "['Lowell',\n",
       " 'Train',\n",
       " '337',\n",
       " '6',\n",
       " '30',\n",
       " 'pm',\n",
       " 'outbound',\n",
       " 'is',\n",
       " 'expected',\n",
       " 'to',\n",
       " 'depart',\n",
       " 'North',\n",
       " 'Station',\n",
       " '5',\n",
       " '10',\n",
       " 'minutes',\n",
       " 'behind',\n",
       " 'schedule',\n",
       " 'due',\n",
       " 'to',\n",
       " 'the',\n",
       " 'late',\n",
       " 'arrival',\n",
       " 'of',\n",
       " 'equipment']"
      ]
     },
     "execution_count": 35,
     "metadata": {},
     "output_type": "execute_result"
    }
   ],
   "source": [
    "which_train = r\"\\w+\"\n",
    "nltk.regexp_tokenize(one_text, which_train)"
   ]
  },
  {
   "cell_type": "code",
   "execution_count": null,
   "metadata": {},
   "outputs": [],
   "source": []
  }
 ],
 "metadata": {
  "kernelspec": {
   "display_name": "Python 3",
   "language": "python",
   "name": "python3"
  },
  "language_info": {
   "codemirror_mode": {
    "name": "ipython",
    "version": 3
   },
   "file_extension": ".py",
   "mimetype": "text/x-python",
   "name": "python",
   "nbconvert_exporter": "python",
   "pygments_lexer": "ipython3",
   "version": "3.6.1"
  }
 },
 "nbformat": 4,
 "nbformat_minor": 2
}
