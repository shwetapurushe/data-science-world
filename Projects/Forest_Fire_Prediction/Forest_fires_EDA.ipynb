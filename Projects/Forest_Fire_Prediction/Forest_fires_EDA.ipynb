{
 "cells": [
  {
   "cell_type": "code",
   "execution_count": 1,
   "metadata": {},
   "outputs": [],
   "source": [
    "import numpy as np \n",
    "import pandas as pd"
   ]
  },
  {
   "cell_type": "code",
   "execution_count": 84,
   "metadata": {},
   "outputs": [],
   "source": [
    "import plotly\n",
    "import plotly.graph_objects as go\n",
    "import plotly.io as pio\n",
    "import plotly.figure_factory as ff\n",
    "\n",
    "pio.templates.default = 'plotly_dark'"
   ]
  },
  {
   "cell_type": "code",
   "execution_count": 21,
   "metadata": {},
   "outputs": [],
   "source": [
    "import plotly.express as px"
   ]
  },
  {
   "cell_type": "markdown",
   "metadata": {},
   "source": [
    "Attribute Information:\n",
    "\n",
    "For more information, read [Cortez and Morais, 2007]. \n",
    "1. X - x-axis spatial coordinate within the Montesinho park map: 1 to 9 \n",
    "2. Y - y-axis spatial coordinate within the Montesinho park map: 2 to 9 \n",
    "3. month - month of the year: 'jan' to 'dec' \n",
    "4. day - day of the week: 'mon' to 'sun' \n",
    "5. FFMC - FFMC index from the FWI system: 18.7 to 96.20 \n",
    "6. DMC - DMC index from the FWI system: 1.1 to 291.3 \n",
    "7. DC - DC index from the FWI system: 7.9 to 860.6 \n",
    "8. ISI - ISI index from the FWI system: 0.0 to 56.10 \n",
    "9. temp - temperature in Celsius degrees: 2.2 to 33.30 \n",
    "10. RH - relative humidity in %: 15.0 to 100 \n",
    "11. wind - wind speed in km/h: 0.40 to 9.40 \n",
    "12. rain - outside rain in mm/m2 : 0.0 to 6.4 \n",
    "13. area - the burned area of the forest (in ha): 0.00 to 1090.84 \n",
    "(this output variable is very skewed towards 0.0, thus it may make \n",
    "sense to model with the logarithm transform).\n",
    "\n"
   ]
  },
  {
   "cell_type": "code",
   "execution_count": 15,
   "metadata": {},
   "outputs": [],
   "source": [
    "df = pd.read_csv(\"../../input_data/forestfires.csv\")"
   ]
  },
  {
   "cell_type": "code",
   "execution_count": 55,
   "metadata": {},
   "outputs": [],
   "source": [
    "df.month = df.month.str.capitalize()\n",
    "df.day = df.day.str.capitalize()"
   ]
  },
  {
   "cell_type": "code",
   "execution_count": 57,
   "metadata": {},
   "outputs": [],
   "source": [
    "df2 = df"
   ]
  },
  {
   "cell_type": "code",
   "execution_count": 60,
   "metadata": {},
   "outputs": [],
   "source": [
    "months = [\"Jan\", \"Feb\", \"Mar\", \"Apr\", \"May\", \"Jun\", \n",
    "          \"Jul\", \"Aug\", \"Sep\", \"Oct\", \"Nov\", \"Dec\"]\n",
    "\n",
    "df2['months'] = pd.Categorical(df2['month'], categories=months, ordered=True)"
   ]
  },
  {
   "cell_type": "code",
   "execution_count": 65,
   "metadata": {},
   "outputs": [
    {
     "data": {
      "text/html": [
       "<div>\n",
       "<style scoped>\n",
       "    .dataframe tbody tr th:only-of-type {\n",
       "        vertical-align: middle;\n",
       "    }\n",
       "\n",
       "    .dataframe tbody tr th {\n",
       "        vertical-align: top;\n",
       "    }\n",
       "\n",
       "    .dataframe thead th {\n",
       "        text-align: right;\n",
       "    }\n",
       "</style>\n",
       "<table border=\"1\" class=\"dataframe\">\n",
       "  <thead>\n",
       "    <tr style=\"text-align: right;\">\n",
       "      <th></th>\n",
       "      <th>X</th>\n",
       "      <th>Y</th>\n",
       "      <th>month</th>\n",
       "      <th>day</th>\n",
       "      <th>FFMC</th>\n",
       "      <th>DMC</th>\n",
       "      <th>DC</th>\n",
       "      <th>ISI</th>\n",
       "      <th>temp</th>\n",
       "      <th>RH</th>\n",
       "      <th>wind</th>\n",
       "      <th>rain</th>\n",
       "      <th>area</th>\n",
       "      <th>months</th>\n",
       "    </tr>\n",
       "  </thead>\n",
       "  <tbody>\n",
       "    <tr>\n",
       "      <th>104</th>\n",
       "      <td>2</td>\n",
       "      <td>4</td>\n",
       "      <td>Jan</td>\n",
       "      <td>Sat</td>\n",
       "      <td>82.1</td>\n",
       "      <td>3.7</td>\n",
       "      <td>9.3</td>\n",
       "      <td>2.9</td>\n",
       "      <td>5.3</td>\n",
       "      <td>78</td>\n",
       "      <td>3.1</td>\n",
       "      <td>0.0</td>\n",
       "      <td>0.00</td>\n",
       "      <td>Jan</td>\n",
       "    </tr>\n",
       "    <tr>\n",
       "      <th>379</th>\n",
       "      <td>4</td>\n",
       "      <td>5</td>\n",
       "      <td>Jan</td>\n",
       "      <td>Sun</td>\n",
       "      <td>18.7</td>\n",
       "      <td>1.1</td>\n",
       "      <td>171.4</td>\n",
       "      <td>0.0</td>\n",
       "      <td>5.2</td>\n",
       "      <td>100</td>\n",
       "      <td>0.9</td>\n",
       "      <td>0.0</td>\n",
       "      <td>0.00</td>\n",
       "      <td>Jan</td>\n",
       "    </tr>\n",
       "    <tr>\n",
       "      <th>96</th>\n",
       "      <td>3</td>\n",
       "      <td>4</td>\n",
       "      <td>Feb</td>\n",
       "      <td>Sat</td>\n",
       "      <td>83.9</td>\n",
       "      <td>8.0</td>\n",
       "      <td>30.2</td>\n",
       "      <td>2.6</td>\n",
       "      <td>12.7</td>\n",
       "      <td>48</td>\n",
       "      <td>1.8</td>\n",
       "      <td>0.0</td>\n",
       "      <td>0.00</td>\n",
       "      <td>Feb</td>\n",
       "    </tr>\n",
       "    <tr>\n",
       "      <th>59</th>\n",
       "      <td>2</td>\n",
       "      <td>2</td>\n",
       "      <td>Feb</td>\n",
       "      <td>Fri</td>\n",
       "      <td>86.6</td>\n",
       "      <td>13.2</td>\n",
       "      <td>43.0</td>\n",
       "      <td>5.3</td>\n",
       "      <td>12.3</td>\n",
       "      <td>51</td>\n",
       "      <td>0.9</td>\n",
       "      <td>0.0</td>\n",
       "      <td>0.00</td>\n",
       "      <td>Feb</td>\n",
       "    </tr>\n",
       "    <tr>\n",
       "      <th>202</th>\n",
       "      <td>7</td>\n",
       "      <td>4</td>\n",
       "      <td>Feb</td>\n",
       "      <td>Sun</td>\n",
       "      <td>83.9</td>\n",
       "      <td>8.7</td>\n",
       "      <td>32.1</td>\n",
       "      <td>2.1</td>\n",
       "      <td>8.8</td>\n",
       "      <td>68</td>\n",
       "      <td>2.2</td>\n",
       "      <td>0.0</td>\n",
       "      <td>13.05</td>\n",
       "      <td>Feb</td>\n",
       "    </tr>\n",
       "    <tr>\n",
       "      <th>...</th>\n",
       "      <td>...</td>\n",
       "      <td>...</td>\n",
       "      <td>...</td>\n",
       "      <td>...</td>\n",
       "      <td>...</td>\n",
       "      <td>...</td>\n",
       "      <td>...</td>\n",
       "      <td>...</td>\n",
       "      <td>...</td>\n",
       "      <td>...</td>\n",
       "      <td>...</td>\n",
       "      <td>...</td>\n",
       "      <td>...</td>\n",
       "      <td>...</td>\n",
       "    </tr>\n",
       "    <tr>\n",
       "      <th>274</th>\n",
       "      <td>8</td>\n",
       "      <td>6</td>\n",
       "      <td>Dec</td>\n",
       "      <td>Wed</td>\n",
       "      <td>84.0</td>\n",
       "      <td>27.8</td>\n",
       "      <td>354.6</td>\n",
       "      <td>5.3</td>\n",
       "      <td>5.1</td>\n",
       "      <td>61</td>\n",
       "      <td>8.0</td>\n",
       "      <td>0.0</td>\n",
       "      <td>11.19</td>\n",
       "      <td>Dec</td>\n",
       "    </tr>\n",
       "    <tr>\n",
       "      <th>281</th>\n",
       "      <td>6</td>\n",
       "      <td>5</td>\n",
       "      <td>Dec</td>\n",
       "      <td>Tue</td>\n",
       "      <td>85.4</td>\n",
       "      <td>25.4</td>\n",
       "      <td>349.7</td>\n",
       "      <td>2.6</td>\n",
       "      <td>5.1</td>\n",
       "      <td>24</td>\n",
       "      <td>8.5</td>\n",
       "      <td>0.0</td>\n",
       "      <td>24.77</td>\n",
       "      <td>Dec</td>\n",
       "    </tr>\n",
       "    <tr>\n",
       "      <th>273</th>\n",
       "      <td>4</td>\n",
       "      <td>6</td>\n",
       "      <td>Dec</td>\n",
       "      <td>Sun</td>\n",
       "      <td>84.4</td>\n",
       "      <td>27.2</td>\n",
       "      <td>353.5</td>\n",
       "      <td>6.8</td>\n",
       "      <td>4.8</td>\n",
       "      <td>57</td>\n",
       "      <td>8.5</td>\n",
       "      <td>0.0</td>\n",
       "      <td>8.98</td>\n",
       "      <td>Dec</td>\n",
       "    </tr>\n",
       "    <tr>\n",
       "      <th>279</th>\n",
       "      <td>4</td>\n",
       "      <td>4</td>\n",
       "      <td>Dec</td>\n",
       "      <td>Mon</td>\n",
       "      <td>85.4</td>\n",
       "      <td>25.4</td>\n",
       "      <td>349.7</td>\n",
       "      <td>2.6</td>\n",
       "      <td>4.6</td>\n",
       "      <td>21</td>\n",
       "      <td>8.5</td>\n",
       "      <td>0.0</td>\n",
       "      <td>9.77</td>\n",
       "      <td>Dec</td>\n",
       "    </tr>\n",
       "    <tr>\n",
       "      <th>278</th>\n",
       "      <td>4</td>\n",
       "      <td>4</td>\n",
       "      <td>Dec</td>\n",
       "      <td>Mon</td>\n",
       "      <td>85.4</td>\n",
       "      <td>25.4</td>\n",
       "      <td>349.7</td>\n",
       "      <td>2.6</td>\n",
       "      <td>4.6</td>\n",
       "      <td>21</td>\n",
       "      <td>8.5</td>\n",
       "      <td>0.0</td>\n",
       "      <td>22.03</td>\n",
       "      <td>Dec</td>\n",
       "    </tr>\n",
       "  </tbody>\n",
       "</table>\n",
       "<p>517 rows × 14 columns</p>\n",
       "</div>"
      ],
      "text/plain": [
       "     X  Y month  day  FFMC   DMC     DC  ISI  temp   RH  wind  rain   area  \\\n",
       "104  2  4   Jan  Sat  82.1   3.7    9.3  2.9   5.3   78   3.1   0.0   0.00   \n",
       "379  4  5   Jan  Sun  18.7   1.1  171.4  0.0   5.2  100   0.9   0.0   0.00   \n",
       "96   3  4   Feb  Sat  83.9   8.0   30.2  2.6  12.7   48   1.8   0.0   0.00   \n",
       "59   2  2   Feb  Fri  86.6  13.2   43.0  5.3  12.3   51   0.9   0.0   0.00   \n",
       "202  7  4   Feb  Sun  83.9   8.7   32.1  2.1   8.8   68   2.2   0.0  13.05   \n",
       "..  .. ..   ...  ...   ...   ...    ...  ...   ...  ...   ...   ...    ...   \n",
       "274  8  6   Dec  Wed  84.0  27.8  354.6  5.3   5.1   61   8.0   0.0  11.19   \n",
       "281  6  5   Dec  Tue  85.4  25.4  349.7  2.6   5.1   24   8.5   0.0  24.77   \n",
       "273  4  6   Dec  Sun  84.4  27.2  353.5  6.8   4.8   57   8.5   0.0   8.98   \n",
       "279  4  4   Dec  Mon  85.4  25.4  349.7  2.6   4.6   21   8.5   0.0   9.77   \n",
       "278  4  4   Dec  Mon  85.4  25.4  349.7  2.6   4.6   21   8.5   0.0  22.03   \n",
       "\n",
       "    months  \n",
       "104    Jan  \n",
       "379    Jan  \n",
       "96     Feb  \n",
       "59     Feb  \n",
       "202    Feb  \n",
       "..     ...  \n",
       "274    Dec  \n",
       "281    Dec  \n",
       "273    Dec  \n",
       "279    Dec  \n",
       "278    Dec  \n",
       "\n",
       "[517 rows x 14 columns]"
      ]
     },
     "execution_count": 65,
     "metadata": {},
     "output_type": "execute_result"
    }
   ],
   "source": [
    "df2.sort_values('months')"
   ]
  },
  {
   "cell_type": "code",
   "execution_count": 82,
   "metadata": {},
   "outputs": [
    {
     "data": {
      "application/vnd.plotly.v1+json": {
       "config": {
        "plotlyServerURL": "https://plot.ly"
       },
       "data": [
        {
         "alignmentgroup": "True",
         "hovertemplate": "months=%{x}<br>y=%{y}<extra></extra>",
         "legendgroup": "",
         "marker": {
          "color": "#636efa"
         },
         "name": "",
         "notched": false,
         "offsetgroup": "",
         "orientation": "v",
         "showlegend": false,
         "type": "box",
         "x": [
          "Jan",
          "Jan",
          "Feb",
          "Feb",
          "Feb",
          "Feb",
          "Feb",
          "Feb",
          "Feb",
          "Feb",
          "Feb",
          "Feb",
          "Feb",
          "Feb",
          "Feb",
          "Feb",
          "Feb",
          "Feb",
          "Feb",
          "Feb",
          "Feb",
          "Feb",
          "Mar",
          "Mar",
          "Mar",
          "Mar",
          "Mar",
          "Mar",
          "Mar",
          "Mar",
          "Mar",
          "Mar",
          "Mar",
          "Mar",
          "Mar",
          "Mar",
          "Mar",
          "Mar",
          "Mar",
          "Mar",
          "Mar",
          "Mar",
          "Mar",
          "Mar",
          "Mar",
          "Mar",
          "Mar",
          "Mar",
          "Mar",
          "Mar",
          "Mar",
          "Mar",
          "Mar",
          "Mar",
          "Mar",
          "Mar",
          "Mar",
          "Mar",
          "Mar",
          "Mar",
          "Mar",
          "Mar",
          "Mar",
          "Mar",
          "Mar",
          "Mar",
          "Mar",
          "Mar",
          "Mar",
          "Mar",
          "Mar",
          "Mar",
          "Mar",
          "Mar",
          "Mar",
          "Mar",
          "Apr",
          "Apr",
          "Apr",
          "Apr",
          "Apr",
          "Apr",
          "Apr",
          "Apr",
          "Apr",
          "May",
          "May",
          "Jun",
          "Jun",
          "Jun",
          "Jun",
          "Jun",
          "Jun",
          "Jun",
          "Jun",
          "Jun",
          "Jun",
          "Jun",
          "Jun",
          "Jun",
          "Jun",
          "Jun",
          "Jun",
          "Jun",
          "Jul",
          "Jul",
          "Jul",
          "Jul",
          "Jul",
          "Jul",
          "Jul",
          "Jul",
          "Jul",
          "Jul",
          "Jul",
          "Jul",
          "Jul",
          "Jul",
          "Jul",
          "Jul",
          "Jul",
          "Jul",
          "Jul",
          "Jul",
          "Jul",
          "Jul",
          "Jul",
          "Jul",
          "Jul",
          "Jul",
          "Jul",
          "Jul",
          "Jul",
          "Jul",
          "Jul",
          "Jul",
          "Aug",
          "Aug",
          "Aug",
          "Aug",
          "Aug",
          "Aug",
          "Aug",
          "Aug",
          "Aug",
          "Aug",
          "Aug",
          "Aug",
          "Aug",
          "Aug",
          "Aug",
          "Aug",
          "Aug",
          "Aug",
          "Aug",
          "Aug",
          "Aug",
          "Aug",
          "Aug",
          "Aug",
          "Aug",
          "Aug",
          "Aug",
          "Aug",
          "Aug",
          "Aug",
          "Aug",
          "Aug",
          "Aug",
          "Aug",
          "Aug",
          "Aug",
          "Aug",
          "Aug",
          "Aug",
          "Aug",
          "Aug",
          "Aug",
          "Aug",
          "Aug",
          "Aug",
          "Aug",
          "Aug",
          "Aug",
          "Aug",
          "Aug",
          "Aug",
          "Aug",
          "Aug",
          "Aug",
          "Aug",
          "Aug",
          "Aug",
          "Aug",
          "Aug",
          "Aug",
          "Aug",
          "Aug",
          "Aug",
          "Aug",
          "Aug",
          "Aug",
          "Aug",
          "Aug",
          "Aug",
          "Aug",
          "Aug",
          "Aug",
          "Aug",
          "Aug",
          "Aug",
          "Aug",
          "Aug",
          "Aug",
          "Aug",
          "Aug",
          "Aug",
          "Aug",
          "Aug",
          "Aug",
          "Aug",
          "Aug",
          "Aug",
          "Aug",
          "Aug",
          "Aug",
          "Aug",
          "Aug",
          "Aug",
          "Aug",
          "Aug",
          "Aug",
          "Aug",
          "Aug",
          "Aug",
          "Aug",
          "Aug",
          "Aug",
          "Aug",
          "Aug",
          "Aug",
          "Aug",
          "Aug",
          "Aug",
          "Aug",
          "Aug",
          "Aug",
          "Aug",
          "Aug",
          "Aug",
          "Aug",
          "Aug",
          "Aug",
          "Aug",
          "Aug",
          "Aug",
          "Aug",
          "Aug",
          "Aug",
          "Aug",
          "Aug",
          "Aug",
          "Aug",
          "Aug",
          "Aug",
          "Aug",
          "Aug",
          "Aug",
          "Aug",
          "Aug",
          "Aug",
          "Aug",
          "Aug",
          "Aug",
          "Aug",
          "Aug",
          "Aug",
          "Aug",
          "Aug",
          "Aug",
          "Aug",
          "Aug",
          "Aug",
          "Aug",
          "Aug",
          "Aug",
          "Aug",
          "Aug",
          "Aug",
          "Aug",
          "Aug",
          "Aug",
          "Aug",
          "Aug",
          "Aug",
          "Aug",
          "Aug",
          "Aug",
          "Aug",
          "Aug",
          "Aug",
          "Aug",
          "Aug",
          "Aug",
          "Aug",
          "Aug",
          "Aug",
          "Aug",
          "Aug",
          "Aug",
          "Aug",
          "Aug",
          "Aug",
          "Aug",
          "Aug",
          "Aug",
          "Aug",
          "Aug",
          "Aug",
          "Aug",
          "Sep",
          "Sep",
          "Sep",
          "Sep",
          "Sep",
          "Sep",
          "Sep",
          "Sep",
          "Sep",
          "Sep",
          "Sep",
          "Sep",
          "Sep",
          "Sep",
          "Sep",
          "Sep",
          "Sep",
          "Sep",
          "Sep",
          "Sep",
          "Sep",
          "Sep",
          "Sep",
          "Sep",
          "Sep",
          "Sep",
          "Sep",
          "Sep",
          "Sep",
          "Sep",
          "Sep",
          "Sep",
          "Sep",
          "Sep",
          "Sep",
          "Sep",
          "Sep",
          "Sep",
          "Sep",
          "Sep",
          "Sep",
          "Sep",
          "Sep",
          "Sep",
          "Sep",
          "Sep",
          "Sep",
          "Sep",
          "Sep",
          "Sep",
          "Sep",
          "Sep",
          "Sep",
          "Sep",
          "Sep",
          "Sep",
          "Sep",
          "Sep",
          "Sep",
          "Sep",
          "Sep",
          "Sep",
          "Sep",
          "Sep",
          "Sep",
          "Sep",
          "Sep",
          "Sep",
          "Sep",
          "Sep",
          "Sep",
          "Sep",
          "Sep",
          "Sep",
          "Sep",
          "Sep",
          "Sep",
          "Sep",
          "Sep",
          "Sep",
          "Sep",
          "Sep",
          "Sep",
          "Sep",
          "Sep",
          "Sep",
          "Sep",
          "Sep",
          "Sep",
          "Sep",
          "Sep",
          "Sep",
          "Sep",
          "Sep",
          "Sep",
          "Sep",
          "Sep",
          "Sep",
          "Sep",
          "Sep",
          "Sep",
          "Sep",
          "Sep",
          "Sep",
          "Sep",
          "Sep",
          "Sep",
          "Sep",
          "Sep",
          "Sep",
          "Sep",
          "Sep",
          "Sep",
          "Sep",
          "Sep",
          "Sep",
          "Sep",
          "Sep",
          "Sep",
          "Sep",
          "Sep",
          "Sep",
          "Sep",
          "Sep",
          "Sep",
          "Sep",
          "Sep",
          "Sep",
          "Sep",
          "Sep",
          "Sep",
          "Sep",
          "Sep",
          "Sep",
          "Sep",
          "Sep",
          "Sep",
          "Sep",
          "Sep",
          "Sep",
          "Sep",
          "Sep",
          "Sep",
          "Sep",
          "Sep",
          "Sep",
          "Sep",
          "Sep",
          "Sep",
          "Sep",
          "Sep",
          "Sep",
          "Sep",
          "Sep",
          "Sep",
          "Sep",
          "Sep",
          "Sep",
          "Sep",
          "Sep",
          "Sep",
          "Sep",
          "Sep",
          "Sep",
          "Sep",
          "Sep",
          "Sep",
          "Sep",
          "Sep",
          "Sep",
          "Sep",
          "Sep",
          "Oct",
          "Oct",
          "Oct",
          "Oct",
          "Oct",
          "Oct",
          "Oct",
          "Oct",
          "Oct",
          "Oct",
          "Oct",
          "Oct",
          "Oct",
          "Oct",
          "Oct",
          "Nov",
          "Dec",
          "Dec",
          "Dec",
          "Dec",
          "Dec",
          "Dec",
          "Dec",
          "Dec",
          "Dec"
         ],
         "x0": " ",
         "xaxis": "x",
         "y": [
          0,
          0,
          0,
          0,
          2.642622395779755,
          0,
          0,
          1.998773638612381,
          3.228430037673012,
          0,
          1.7263316639055997,
          0,
          0.7419373447293773,
          0,
          0,
          0,
          2.3942522815198695,
          1.144222799920162,
          0,
          2.0592388343623163,
          3.966132331075178,
          1.8547342683894434,
          0,
          0,
          0,
          0,
          2.7073833121145063,
          1.430311246536665,
          2.5726122302071057,
          0,
          0,
          1.8794650496471605,
          0,
          0,
          0,
          2.128231705849268,
          0,
          1.2612978709452054,
          1.0784095813505903,
          0,
          1.0116009116784799,
          0,
          0,
          0.6678293725756554,
          0,
          0,
          0,
          2.231089091288976,
          0,
          0,
          0,
          0,
          0,
          0,
          2.102913897864978,
          0,
          0,
          2.2235418856535927,
          0,
          0,
          2.0294631718735947,
          1.144222799920162,
          0,
          0,
          3.492256112609122,
          3.389799336709786,
          0,
          0,
          3.389799336709786,
          3.6336309798834576,
          0,
          0,
          0,
          0,
          3.3446270301737613,
          0,
          0,
          0,
          1.4701758451005928,
          0,
          1.724550719534605,
          0,
          0,
          4.129228964075603,
          2.4790562361098245,
          0,
          3.675794214565281,
          0,
          1.5085119938441398,
          0,
          0,
          0,
          2.214846178686039,
          0,
          0,
          0.7839015438284094,
          0.6418538861723948,
          0,
          0,
          0,
          1.0784095813505903,
          4.267176792994939,
          2.405141681319138,
          1.4327007339340463,
          0,
          0,
          2.081938421878423,
          0,
          0,
          2.0241930674493576,
          1.1662709371419244,
          0.9669838461896731,
          0.3074846997479606,
          2.1234584270966104,
          0.5364933705145685,
          0,
          0,
          0,
          0.8586616190375187,
          0.8878912573524571,
          1.0152306797290587,
          2.166765369851511,
          0,
          1.3217558399823195,
          5.633109621361155,
          0,
          2.1972245773362196,
          3.6381123370602833,
          1.2919836816486494,
          0,
          0,
          0,
          0,
          0,
          1.9878743481543455,
          4.471067201464611,
          2.8524391037275145,
          2.329227023940467,
          0.41871033485818504,
          0.15700374880966475,
          0,
          0.2151113796169455,
          0.19062035960864973,
          0.5187937934151676,
          0,
          1.244154593958768,
          0.9242589015233319,
          1.6863989535702288,
          1.4586150226995167,
          1.925707441737794,
          2.2874714551839976,
          1.4085449700547104,
          0.8671004876833833,
          1.6582280766035324,
          0,
          0,
          2.428336298299606,
          0.9400072584914712,
          0.5187937934151676,
          0.5822156198526637,
          2.199444334074532,
          0,
          0,
          0,
          2.020222182019865,
          5.168379509433644,
          0,
          2.578700529074361,
          2.2607208888953467,
          3.7914360424390283,
          0,
          0,
          0,
          0,
          3.8649313978942956,
          0,
          2.856470206220483,
          1.1216775615991057,
          3.311637304949512,
          0,
          0.8285518175661483,
          0,
          0,
          1.0784095813505903,
          1.0986122886681098,
          1.463255402256019,
          1.3270750014599193,
          3.726656818447966,
          2.498151876538021,
          4.012592060349841,
          2.0068708488450007,
          0,
          0.35767444427181594,
          1.1537315878891892,
          0,
          2.7523860149222616,
          0,
          1.916922612182061,
          3.923753928303845,
          1.0818051703517284,
          0,
          0,
          0,
          2.469793011977952,
          0,
          3.7812307151781224,
          4.427836170705175,
          0,
          1.7850704810772584,
          0,
          5.229824370102736,
          1.3987168811184478,
          1.235471471385307,
          6.616439947564594,
          0,
          0,
          0,
          0,
          0,
          0,
          1.5325568680981427,
          0,
          3.392492941032009,
          2.833213344056216,
          0,
          0,
          0,
          0,
          0,
          0,
          2.3711778844596574,
          2.005525858729668,
          0,
          0,
          0,
          1.208960345836975,
          0.8020015854720274,
          0,
          0.43178241642553783,
          0,
          2.7936160894318567,
          0,
          1.9960599327407849,
          1.4350845252893227,
          2.005525858729668,
          0.5596157879354227,
          0,
          0.5653138090500605,
          0,
          0,
          0,
          0,
          0,
          0,
          0,
          0,
          0,
          0,
          0.4382549309311553,
          0.4762341789963716,
          0.5709795465857378,
          0.6418538861723948,
          0.7275486072772778,
          0.9400072584914712,
          0.9669838461896731,
          0.9707789171582247,
          1.0647107369924282,
          1.1908875647772805,
          1.2556160374777743,
          0.08617769624105233,
          1.3056264580524357,
          1.3190856114264407,
          1.5040773967762742,
          0,
          1.7101878155342434,
          0,
          0,
          0,
          0,
          0,
          0,
          0,
          0,
          0,
          0,
          0,
          0,
          0,
          0,
          0,
          0,
          0,
          0,
          0,
          0,
          0,
          0,
          0,
          0,
          0,
          0,
          0,
          0,
          1.7387102481382397,
          1.2669476034873244,
          3.4986265269937014,
          2.0744289998562917,
          2.2700619012884857,
          2.2731562823032334,
          4.280824129164719,
          5.285637313390662,
          4.08260930600368,
          2.3997118037247684,
          2.800325477211381,
          2.3988039507345884,
          1.3532545070416904,
          3.295836866004329,
          0,
          2.4096441652874536,
          1.8293763327993617,
          0,
          0,
          0,
          0.28517894223366236,
          0,
          2.3942522815198695,
          0,
          0,
          3.4170707308184456,
          3.3006401266708405,
          0,
          0,
          0,
          3.4442568711226023,
          0,
          0,
          0,
          1.951608170169951,
          1.599387576580599,
          2.745345985845907,
          2.174751721484161,
          0.3852624007906449,
          0,
          0,
          0,
          0,
          0,
          0,
          0,
          2.9014215940827497,
          0.5423242908253617,
          3.487986511734546,
          3.1949928844048685,
          0,
          0,
          3.007166651179654,
          3.6560979645895566,
          0,
          0,
          0,
          0,
          0,
          0,
          0,
          0,
          5.307970623576175,
          5.365415110080531,
          0,
          0,
          0,
          0,
          0,
          6.995619625423205,
          0,
          0,
          0,
          0,
          0,
          3.607669398688393,
          0,
          5.049086480470509,
          2.528125768907977,
          0,
          0,
          1.5496879080283263,
          0,
          0,
          3.902982260775997,
          4.175924549214524,
          0,
          0,
          4.494126887194767,
          4.566221435849517,
          4.648133885420207,
          0,
          0,
          0,
          0,
          0,
          4.669646205172456,
          0,
          2.511223958105374,
          0.35767444427181594,
          0.6729444732424258,
          1.1410330045520618,
          0,
          0,
          0,
          4.04375277610604,
          2.1377104498038118,
          0.9042181506398859,
          1.5953389880545987,
          0,
          0,
          2.503073953743449,
          1.1568811967920856,
          1.9213246735826988,
          3.3738261848660236,
          0,
          0,
          0.9707789171582247,
          1.5496879080283263,
          2.1174596088673567,
          1.1085626195212777,
          1.7833912195575383,
          1.9416152247724325,
          1.9600947840472698,
          2.8118094353930627,
          2.0255131996542803,
          1.4655675420143985,
          0.3435897043900769,
          1.8213182714695995,
          0,
          0,
          0,
          2.727199019940971,
          0,
          0,
          0.9477893989335261,
          0,
          0,
          1.5644405465033646,
          0,
          1.6882490928583902,
          3.5655812377694427,
          2.105352923464337,
          0.6981347220709844,
          1.1568811967920856,
          1.6900958154515549,
          0,
          0,
          0,
          0,
          2.643333886382519,
          0.8153648132841945,
          1.000631880307906,
          0,
          2.4898941912990393,
          0.9593502213346021,
          4.27332721775054,
          1.7715567619105355,
          3.4397768636296306,
          1.8453002361560848,
          0.9895411936137477,
          3.2422016501716975,
          0,
          3.6975913947159578,
          1.4036429994545037,
          2.084429083190875,
          1.2725655957915476,
          2.1162555148025524,
          1.1019400787607843,
          1.0818051703517284,
          2.9601050959108397,
          1.534714366238164,
          0.9001613499442714,
          0,
          2.21046980408624,
          0.7371640659767197,
          1.597365331199831,
          0.41871033485818504,
          1.3686394258811698,
          1.8946168546677629,
          3.0459499897146083,
          1.0116009116784799,
          2.4898941912990393,
          2.3427668826268775,
          0,
          2.50470927708418,
          0.7514160886839212,
          0.9001613499442714,
          2.613006652415316,
          0,
          0,
          0,
          2.6878474937846906,
          0,
          0,
          1.8625285401162623,
          2.057962510002712,
          0,
          0,
          0,
          3.2280337626529665,
          3.9193957597575593,
          0,
          0,
          0,
          2.462149662665384,
          2.93651291389402,
          1.8531680973566984,
          2.329227023940467,
          2.5006159434931803,
          3.2492110246642736,
          2.300583090323373,
          2.3767644911682972,
          3.136797713832594
         ],
         "y0": " ",
         "yaxis": "y"
        }
       ],
       "layout": {
        "autosize": true,
        "boxmode": "group",
        "legend": {
         "tracegroupgap": 0
        },
        "template": {
         "data": {
          "bar": [
           {
            "error_x": {
             "color": "#f2f5fa"
            },
            "error_y": {
             "color": "#f2f5fa"
            },
            "marker": {
             "line": {
              "color": "rgb(17,17,17)",
              "width": 0.5
             }
            },
            "type": "bar"
           }
          ],
          "barpolar": [
           {
            "marker": {
             "line": {
              "color": "rgb(17,17,17)",
              "width": 0.5
             }
            },
            "type": "barpolar"
           }
          ],
          "carpet": [
           {
            "aaxis": {
             "endlinecolor": "#A2B1C6",
             "gridcolor": "#506784",
             "linecolor": "#506784",
             "minorgridcolor": "#506784",
             "startlinecolor": "#A2B1C6"
            },
            "baxis": {
             "endlinecolor": "#A2B1C6",
             "gridcolor": "#506784",
             "linecolor": "#506784",
             "minorgridcolor": "#506784",
             "startlinecolor": "#A2B1C6"
            },
            "type": "carpet"
           }
          ],
          "choropleth": [
           {
            "colorbar": {
             "outlinewidth": 0,
             "ticks": ""
            },
            "type": "choropleth"
           }
          ],
          "contour": [
           {
            "colorbar": {
             "outlinewidth": 0,
             "ticks": ""
            },
            "colorscale": [
             [
              0,
              "#0d0887"
             ],
             [
              0.1111111111111111,
              "#46039f"
             ],
             [
              0.2222222222222222,
              "#7201a8"
             ],
             [
              0.3333333333333333,
              "#9c179e"
             ],
             [
              0.4444444444444444,
              "#bd3786"
             ],
             [
              0.5555555555555556,
              "#d8576b"
             ],
             [
              0.6666666666666666,
              "#ed7953"
             ],
             [
              0.7777777777777778,
              "#fb9f3a"
             ],
             [
              0.8888888888888888,
              "#fdca26"
             ],
             [
              1,
              "#f0f921"
             ]
            ],
            "type": "contour"
           }
          ],
          "contourcarpet": [
           {
            "colorbar": {
             "outlinewidth": 0,
             "ticks": ""
            },
            "type": "contourcarpet"
           }
          ],
          "heatmap": [
           {
            "colorbar": {
             "outlinewidth": 0,
             "ticks": ""
            },
            "colorscale": [
             [
              0,
              "#0d0887"
             ],
             [
              0.1111111111111111,
              "#46039f"
             ],
             [
              0.2222222222222222,
              "#7201a8"
             ],
             [
              0.3333333333333333,
              "#9c179e"
             ],
             [
              0.4444444444444444,
              "#bd3786"
             ],
             [
              0.5555555555555556,
              "#d8576b"
             ],
             [
              0.6666666666666666,
              "#ed7953"
             ],
             [
              0.7777777777777778,
              "#fb9f3a"
             ],
             [
              0.8888888888888888,
              "#fdca26"
             ],
             [
              1,
              "#f0f921"
             ]
            ],
            "type": "heatmap"
           }
          ],
          "heatmapgl": [
           {
            "colorbar": {
             "outlinewidth": 0,
             "ticks": ""
            },
            "colorscale": [
             [
              0,
              "#0d0887"
             ],
             [
              0.1111111111111111,
              "#46039f"
             ],
             [
              0.2222222222222222,
              "#7201a8"
             ],
             [
              0.3333333333333333,
              "#9c179e"
             ],
             [
              0.4444444444444444,
              "#bd3786"
             ],
             [
              0.5555555555555556,
              "#d8576b"
             ],
             [
              0.6666666666666666,
              "#ed7953"
             ],
             [
              0.7777777777777778,
              "#fb9f3a"
             ],
             [
              0.8888888888888888,
              "#fdca26"
             ],
             [
              1,
              "#f0f921"
             ]
            ],
            "type": "heatmapgl"
           }
          ],
          "histogram": [
           {
            "marker": {
             "colorbar": {
              "outlinewidth": 0,
              "ticks": ""
             }
            },
            "type": "histogram"
           }
          ],
          "histogram2d": [
           {
            "colorbar": {
             "outlinewidth": 0,
             "ticks": ""
            },
            "colorscale": [
             [
              0,
              "#0d0887"
             ],
             [
              0.1111111111111111,
              "#46039f"
             ],
             [
              0.2222222222222222,
              "#7201a8"
             ],
             [
              0.3333333333333333,
              "#9c179e"
             ],
             [
              0.4444444444444444,
              "#bd3786"
             ],
             [
              0.5555555555555556,
              "#d8576b"
             ],
             [
              0.6666666666666666,
              "#ed7953"
             ],
             [
              0.7777777777777778,
              "#fb9f3a"
             ],
             [
              0.8888888888888888,
              "#fdca26"
             ],
             [
              1,
              "#f0f921"
             ]
            ],
            "type": "histogram2d"
           }
          ],
          "histogram2dcontour": [
           {
            "colorbar": {
             "outlinewidth": 0,
             "ticks": ""
            },
            "colorscale": [
             [
              0,
              "#0d0887"
             ],
             [
              0.1111111111111111,
              "#46039f"
             ],
             [
              0.2222222222222222,
              "#7201a8"
             ],
             [
              0.3333333333333333,
              "#9c179e"
             ],
             [
              0.4444444444444444,
              "#bd3786"
             ],
             [
              0.5555555555555556,
              "#d8576b"
             ],
             [
              0.6666666666666666,
              "#ed7953"
             ],
             [
              0.7777777777777778,
              "#fb9f3a"
             ],
             [
              0.8888888888888888,
              "#fdca26"
             ],
             [
              1,
              "#f0f921"
             ]
            ],
            "type": "histogram2dcontour"
           }
          ],
          "mesh3d": [
           {
            "colorbar": {
             "outlinewidth": 0,
             "ticks": ""
            },
            "type": "mesh3d"
           }
          ],
          "parcoords": [
           {
            "line": {
             "colorbar": {
              "outlinewidth": 0,
              "ticks": ""
             }
            },
            "type": "parcoords"
           }
          ],
          "pie": [
           {
            "automargin": true,
            "type": "pie"
           }
          ],
          "scatter": [
           {
            "marker": {
             "line": {
              "color": "#283442"
             }
            },
            "type": "scatter"
           }
          ],
          "scatter3d": [
           {
            "line": {
             "colorbar": {
              "outlinewidth": 0,
              "ticks": ""
             }
            },
            "marker": {
             "colorbar": {
              "outlinewidth": 0,
              "ticks": ""
             }
            },
            "type": "scatter3d"
           }
          ],
          "scattercarpet": [
           {
            "marker": {
             "colorbar": {
              "outlinewidth": 0,
              "ticks": ""
             }
            },
            "type": "scattercarpet"
           }
          ],
          "scattergeo": [
           {
            "marker": {
             "colorbar": {
              "outlinewidth": 0,
              "ticks": ""
             }
            },
            "type": "scattergeo"
           }
          ],
          "scattergl": [
           {
            "marker": {
             "line": {
              "color": "#283442"
             }
            },
            "type": "scattergl"
           }
          ],
          "scattermapbox": [
           {
            "marker": {
             "colorbar": {
              "outlinewidth": 0,
              "ticks": ""
             }
            },
            "type": "scattermapbox"
           }
          ],
          "scatterpolar": [
           {
            "marker": {
             "colorbar": {
              "outlinewidth": 0,
              "ticks": ""
             }
            },
            "type": "scatterpolar"
           }
          ],
          "scatterpolargl": [
           {
            "marker": {
             "colorbar": {
              "outlinewidth": 0,
              "ticks": ""
             }
            },
            "type": "scatterpolargl"
           }
          ],
          "scatterternary": [
           {
            "marker": {
             "colorbar": {
              "outlinewidth": 0,
              "ticks": ""
             }
            },
            "type": "scatterternary"
           }
          ],
          "surface": [
           {
            "colorbar": {
             "outlinewidth": 0,
             "ticks": ""
            },
            "colorscale": [
             [
              0,
              "#0d0887"
             ],
             [
              0.1111111111111111,
              "#46039f"
             ],
             [
              0.2222222222222222,
              "#7201a8"
             ],
             [
              0.3333333333333333,
              "#9c179e"
             ],
             [
              0.4444444444444444,
              "#bd3786"
             ],
             [
              0.5555555555555556,
              "#d8576b"
             ],
             [
              0.6666666666666666,
              "#ed7953"
             ],
             [
              0.7777777777777778,
              "#fb9f3a"
             ],
             [
              0.8888888888888888,
              "#fdca26"
             ],
             [
              1,
              "#f0f921"
             ]
            ],
            "type": "surface"
           }
          ],
          "table": [
           {
            "cells": {
             "fill": {
              "color": "#506784"
             },
             "line": {
              "color": "rgb(17,17,17)"
             }
            },
            "header": {
             "fill": {
              "color": "#2a3f5f"
             },
             "line": {
              "color": "rgb(17,17,17)"
             }
            },
            "type": "table"
           }
          ]
         },
         "layout": {
          "annotationdefaults": {
           "arrowcolor": "#f2f5fa",
           "arrowhead": 0,
           "arrowwidth": 1
          },
          "coloraxis": {
           "colorbar": {
            "outlinewidth": 0,
            "ticks": ""
           }
          },
          "colorscale": {
           "diverging": [
            [
             0,
             "#8e0152"
            ],
            [
             0.1,
             "#c51b7d"
            ],
            [
             0.2,
             "#de77ae"
            ],
            [
             0.3,
             "#f1b6da"
            ],
            [
             0.4,
             "#fde0ef"
            ],
            [
             0.5,
             "#f7f7f7"
            ],
            [
             0.6,
             "#e6f5d0"
            ],
            [
             0.7,
             "#b8e186"
            ],
            [
             0.8,
             "#7fbc41"
            ],
            [
             0.9,
             "#4d9221"
            ],
            [
             1,
             "#276419"
            ]
           ],
           "sequential": [
            [
             0,
             "#0d0887"
            ],
            [
             0.1111111111111111,
             "#46039f"
            ],
            [
             0.2222222222222222,
             "#7201a8"
            ],
            [
             0.3333333333333333,
             "#9c179e"
            ],
            [
             0.4444444444444444,
             "#bd3786"
            ],
            [
             0.5555555555555556,
             "#d8576b"
            ],
            [
             0.6666666666666666,
             "#ed7953"
            ],
            [
             0.7777777777777778,
             "#fb9f3a"
            ],
            [
             0.8888888888888888,
             "#fdca26"
            ],
            [
             1,
             "#f0f921"
            ]
           ],
           "sequentialminus": [
            [
             0,
             "#0d0887"
            ],
            [
             0.1111111111111111,
             "#46039f"
            ],
            [
             0.2222222222222222,
             "#7201a8"
            ],
            [
             0.3333333333333333,
             "#9c179e"
            ],
            [
             0.4444444444444444,
             "#bd3786"
            ],
            [
             0.5555555555555556,
             "#d8576b"
            ],
            [
             0.6666666666666666,
             "#ed7953"
            ],
            [
             0.7777777777777778,
             "#fb9f3a"
            ],
            [
             0.8888888888888888,
             "#fdca26"
            ],
            [
             1,
             "#f0f921"
            ]
           ]
          },
          "colorway": [
           "#636efa",
           "#EF553B",
           "#00cc96",
           "#ab63fa",
           "#FFA15A",
           "#19d3f3",
           "#FF6692",
           "#B6E880",
           "#FF97FF",
           "#FECB52"
          ],
          "font": {
           "color": "#f2f5fa"
          },
          "geo": {
           "bgcolor": "rgb(17,17,17)",
           "lakecolor": "rgb(17,17,17)",
           "landcolor": "rgb(17,17,17)",
           "showlakes": true,
           "showland": true,
           "subunitcolor": "#506784"
          },
          "hoverlabel": {
           "align": "left"
          },
          "hovermode": "closest",
          "mapbox": {
           "style": "dark"
          },
          "paper_bgcolor": "rgb(17,17,17)",
          "plot_bgcolor": "rgb(17,17,17)",
          "polar": {
           "angularaxis": {
            "gridcolor": "#506784",
            "linecolor": "#506784",
            "ticks": ""
           },
           "bgcolor": "rgb(17,17,17)",
           "radialaxis": {
            "gridcolor": "#506784",
            "linecolor": "#506784",
            "ticks": ""
           }
          },
          "scene": {
           "xaxis": {
            "backgroundcolor": "rgb(17,17,17)",
            "gridcolor": "#506784",
            "gridwidth": 2,
            "linecolor": "#506784",
            "showbackground": true,
            "ticks": "",
            "zerolinecolor": "#C8D4E3"
           },
           "yaxis": {
            "backgroundcolor": "rgb(17,17,17)",
            "gridcolor": "#506784",
            "gridwidth": 2,
            "linecolor": "#506784",
            "showbackground": true,
            "ticks": "",
            "zerolinecolor": "#C8D4E3"
           },
           "zaxis": {
            "backgroundcolor": "rgb(17,17,17)",
            "gridcolor": "#506784",
            "gridwidth": 2,
            "linecolor": "#506784",
            "showbackground": true,
            "ticks": "",
            "zerolinecolor": "#C8D4E3"
           }
          },
          "shapedefaults": {
           "line": {
            "color": "#f2f5fa"
           }
          },
          "sliderdefaults": {
           "bgcolor": "#C8D4E3",
           "bordercolor": "rgb(17,17,17)",
           "borderwidth": 1,
           "tickwidth": 0
          },
          "ternary": {
           "aaxis": {
            "gridcolor": "#506784",
            "linecolor": "#506784",
            "ticks": ""
           },
           "baxis": {
            "gridcolor": "#506784",
            "linecolor": "#506784",
            "ticks": ""
           },
           "bgcolor": "rgb(17,17,17)",
           "caxis": {
            "gridcolor": "#506784",
            "linecolor": "#506784",
            "ticks": ""
           }
          },
          "title": {
           "x": 0.05
          },
          "updatemenudefaults": {
           "bgcolor": "#506784",
           "borderwidth": 0
          },
          "xaxis": {
           "automargin": true,
           "gridcolor": "#283442",
           "linecolor": "#506784",
           "ticks": "",
           "title": {
            "standoff": 15
           },
           "zerolinecolor": "#283442",
           "zerolinewidth": 2
          },
          "yaxis": {
           "automargin": true,
           "gridcolor": "#283442",
           "linecolor": "#506784",
           "ticks": "",
           "title": {
            "standoff": 15
           },
           "zerolinecolor": "#283442",
           "zerolinewidth": 2
          }
         }
        },
        "title": {
         "text": "Distribution of the burnt area across different months in a year"
        },
        "xaxis": {
         "anchor": "y",
         "autorange": true,
         "domain": [
          0,
          1
         ],
         "range": [
          -0.5,
          11.5
         ],
         "title": {
          "text": "months"
         },
         "type": "category"
        },
        "yaxis": {
         "anchor": "x",
         "autorange": true,
         "domain": [
          0,
          1
         ],
         "range": [
          -0.3886455347457336,
          7.384265160168939
         ],
         "title": {
          "text": "y"
         },
         "type": "linear"
        }
       }
      },
      "image/png": "[encoded data removed]",
      "text/html": [
       "<div>\n",
       "        \n",
       "        \n",
       "            <div id=\"ccd6269d-45e2-489b-8501-2436ed176bb7\" class=\"plotly-graph-div\" style=\"height:525px; width:100%;\"></div>\n",
       "            <script type=\"text/javascript\">\n",
       "                require([\"plotly\"], function(Plotly) {\n",
       "                    window.PLOTLYENV=window.PLOTLYENV || {};\n",
       "                    \n",
       "                if (document.getElementById(\"ccd6269d-45e2-489b-8501-2436ed176bb7\")) {\n",
       "                    Plotly.newPlot(\n",
       "                        'ccd6269d-45e2-489b-8501-2436ed176bb7',\n",
       "                        [{\"alignmentgroup\": \"True\", \"hovertemplate\": \"months=%{x}<br>y=%{y}<extra></extra>\", \"legendgroup\": \"\", \"marker\": {\"color\": \"#636efa\"}, \"name\": \"\", \"notched\": false, \"offsetgroup\": \"\", \"orientation\": \"v\", \"showlegend\": false, \"type\": \"box\", \"x\": [\"Jan\", \"Jan\", \"Feb\", \"Feb\", \"Feb\", \"Feb\", \"Feb\", \"Feb\", \"Feb\", \"Feb\", \"Feb\", \"Feb\", \"Feb\", \"Feb\", \"Feb\", \"Feb\", \"Feb\", \"Feb\", \"Feb\", \"Feb\", \"Feb\", \"Feb\", \"Mar\", \"Mar\", \"Mar\", \"Mar\", \"Mar\", \"Mar\", \"Mar\", \"Mar\", \"Mar\", \"Mar\", \"Mar\", \"Mar\", \"Mar\", \"Mar\", \"Mar\", \"Mar\", \"Mar\", \"Mar\", \"Mar\", \"Mar\", \"Mar\", \"Mar\", \"Mar\", \"Mar\", \"Mar\", \"Mar\", \"Mar\", \"Mar\", \"Mar\", \"Mar\", \"Mar\", \"Mar\", \"Mar\", \"Mar\", \"Mar\", \"Mar\", \"Mar\", \"Mar\", \"Mar\", \"Mar\", \"Mar\", \"Mar\", \"Mar\", \"Mar\", \"Mar\", \"Mar\", \"Mar\", \"Mar\", \"Mar\", \"Mar\", \"Mar\", \"Mar\", \"Mar\", \"Mar\", \"Apr\", \"Apr\", \"Apr\", \"Apr\", \"Apr\", \"Apr\", \"Apr\", \"Apr\", \"Apr\", \"May\", \"May\", \"Jun\", \"Jun\", \"Jun\", \"Jun\", \"Jun\", \"Jun\", \"Jun\", \"Jun\", \"Jun\", \"Jun\", \"Jun\", \"Jun\", \"Jun\", \"Jun\", \"Jun\", \"Jun\", \"Jun\", \"Jul\", \"Jul\", \"Jul\", \"Jul\", \"Jul\", \"Jul\", \"Jul\", \"Jul\", \"Jul\", \"Jul\", \"Jul\", \"Jul\", \"Jul\", \"Jul\", \"Jul\", \"Jul\", \"Jul\", \"Jul\", \"Jul\", \"Jul\", \"Jul\", \"Jul\", \"Jul\", \"Jul\", \"Jul\", \"Jul\", \"Jul\", \"Jul\", \"Jul\", \"Jul\", \"Jul\", \"Jul\", \"Aug\", \"Aug\", \"Aug\", \"Aug\", \"Aug\", \"Aug\", \"Aug\", \"Aug\", \"Aug\", \"Aug\", \"Aug\", \"Aug\", \"Aug\", \"Aug\", \"Aug\", \"Aug\", \"Aug\", \"Aug\", \"Aug\", \"Aug\", \"Aug\", \"Aug\", \"Aug\", \"Aug\", \"Aug\", \"Aug\", \"Aug\", \"Aug\", \"Aug\", \"Aug\", \"Aug\", \"Aug\", \"Aug\", \"Aug\", \"Aug\", \"Aug\", \"Aug\", \"Aug\", \"Aug\", \"Aug\", \"Aug\", \"Aug\", \"Aug\", \"Aug\", \"Aug\", \"Aug\", \"Aug\", \"Aug\", \"Aug\", \"Aug\", \"Aug\", \"Aug\", \"Aug\", \"Aug\", \"Aug\", \"Aug\", \"Aug\", \"Aug\", \"Aug\", \"Aug\", \"Aug\", \"Aug\", \"Aug\", \"Aug\", \"Aug\", \"Aug\", \"Aug\", \"Aug\", \"Aug\", \"Aug\", \"Aug\", \"Aug\", \"Aug\", \"Aug\", \"Aug\", \"Aug\", \"Aug\", \"Aug\", \"Aug\", \"Aug\", \"Aug\", \"Aug\", \"Aug\", \"Aug\", \"Aug\", \"Aug\", \"Aug\", \"Aug\", \"Aug\", \"Aug\", \"Aug\", \"Aug\", \"Aug\", \"Aug\", \"Aug\", \"Aug\", \"Aug\", \"Aug\", \"Aug\", \"Aug\", \"Aug\", \"Aug\", \"Aug\", \"Aug\", \"Aug\", \"Aug\", \"Aug\", \"Aug\", \"Aug\", \"Aug\", \"Aug\", \"Aug\", \"Aug\", \"Aug\", \"Aug\", \"Aug\", \"Aug\", \"Aug\", \"Aug\", \"Aug\", \"Aug\", \"Aug\", \"Aug\", \"Aug\", \"Aug\", \"Aug\", \"Aug\", \"Aug\", \"Aug\", \"Aug\", \"Aug\", \"Aug\", \"Aug\", \"Aug\", \"Aug\", \"Aug\", \"Aug\", \"Aug\", \"Aug\", \"Aug\", \"Aug\", \"Aug\", \"Aug\", \"Aug\", \"Aug\", \"Aug\", \"Aug\", \"Aug\", \"Aug\", \"Aug\", \"Aug\", \"Aug\", \"Aug\", \"Aug\", \"Aug\", \"Aug\", \"Aug\", \"Aug\", \"Aug\", \"Aug\", \"Aug\", \"Aug\", \"Aug\", \"Aug\", \"Aug\", \"Aug\", \"Aug\", \"Aug\", \"Aug\", \"Aug\", \"Aug\", \"Aug\", \"Aug\", \"Aug\", \"Aug\", \"Aug\", \"Aug\", \"Aug\", \"Aug\", \"Aug\", \"Aug\", \"Aug\", \"Aug\", \"Aug\", \"Sep\", \"Sep\", \"Sep\", \"Sep\", \"Sep\", \"Sep\", \"Sep\", \"Sep\", \"Sep\", \"Sep\", \"Sep\", \"Sep\", \"Sep\", \"Sep\", \"Sep\", \"Sep\", \"Sep\", \"Sep\", \"Sep\", \"Sep\", \"Sep\", \"Sep\", \"Sep\", \"Sep\", \"Sep\", \"Sep\", \"Sep\", \"Sep\", \"Sep\", \"Sep\", \"Sep\", \"Sep\", \"Sep\", \"Sep\", \"Sep\", \"Sep\", \"Sep\", \"Sep\", \"Sep\", \"Sep\", \"Sep\", \"Sep\", \"Sep\", \"Sep\", \"Sep\", \"Sep\", \"Sep\", \"Sep\", \"Sep\", \"Sep\", \"Sep\", \"Sep\", \"Sep\", \"Sep\", \"Sep\", \"Sep\", \"Sep\", \"Sep\", \"Sep\", \"Sep\", \"Sep\", \"Sep\", \"Sep\", \"Sep\", \"Sep\", \"Sep\", \"Sep\", \"Sep\", \"Sep\", \"Sep\", \"Sep\", \"Sep\", \"Sep\", \"Sep\", \"Sep\", \"Sep\", \"Sep\", \"Sep\", \"Sep\", \"Sep\", \"Sep\", \"Sep\", \"Sep\", \"Sep\", \"Sep\", \"Sep\", \"Sep\", \"Sep\", \"Sep\", \"Sep\", \"Sep\", \"Sep\", \"Sep\", \"Sep\", \"Sep\", \"Sep\", \"Sep\", \"Sep\", \"Sep\", \"Sep\", \"Sep\", \"Sep\", \"Sep\", \"Sep\", \"Sep\", \"Sep\", \"Sep\", \"Sep\", \"Sep\", \"Sep\", \"Sep\", \"Sep\", \"Sep\", \"Sep\", \"Sep\", \"Sep\", \"Sep\", \"Sep\", \"Sep\", \"Sep\", \"Sep\", \"Sep\", \"Sep\", \"Sep\", \"Sep\", \"Sep\", \"Sep\", \"Sep\", \"Sep\", \"Sep\", \"Sep\", \"Sep\", \"Sep\", \"Sep\", \"Sep\", \"Sep\", \"Sep\", \"Sep\", \"Sep\", \"Sep\", \"Sep\", \"Sep\", \"Sep\", \"Sep\", \"Sep\", \"Sep\", \"Sep\", \"Sep\", \"Sep\", \"Sep\", \"Sep\", \"Sep\", \"Sep\", \"Sep\", \"Sep\", \"Sep\", \"Sep\", \"Sep\", \"Sep\", \"Sep\", \"Sep\", \"Sep\", \"Sep\", \"Sep\", \"Sep\", \"Sep\", \"Sep\", \"Sep\", \"Sep\", \"Sep\", \"Sep\", \"Sep\", \"Oct\", \"Oct\", \"Oct\", \"Oct\", \"Oct\", \"Oct\", \"Oct\", \"Oct\", \"Oct\", \"Oct\", \"Oct\", \"Oct\", \"Oct\", \"Oct\", \"Oct\", \"Nov\", \"Dec\", \"Dec\", \"Dec\", \"Dec\", \"Dec\", \"Dec\", \"Dec\", \"Dec\", \"Dec\"], \"x0\": \" \", \"xaxis\": \"x\", \"y\": [0.0, 0.0, 0.0, 0.0, 2.642622395779755, 0.0, 0.0, 1.998773638612381, 3.228430037673012, 0.0, 1.7263316639055997, 0.0, 0.7419373447293773, 0.0, 0.0, 0.0, 2.3942522815198695, 1.144222799920162, 0.0, 2.0592388343623163, 3.966132331075178, 1.8547342683894434, 0.0, 0.0, 0.0, 0.0, 2.7073833121145063, 1.430311246536665, 2.5726122302071057, 0.0, 0.0, 1.8794650496471605, 0.0, 0.0, 0.0, 2.128231705849268, 0.0, 1.2612978709452054, 1.0784095813505903, 0.0, 1.0116009116784799, 0.0, 0.0, 0.6678293725756554, 0.0, 0.0, 0.0, 2.231089091288976, 0.0, 0.0, 0.0, 0.0, 0.0, 0.0, 2.102913897864978, 0.0, 0.0, 2.2235418856535927, 0.0, 0.0, 2.0294631718735947, 1.144222799920162, 0.0, 0.0, 3.492256112609122, 3.389799336709786, 0.0, 0.0, 3.389799336709786, 3.6336309798834576, 0.0, 0.0, 0.0, 0.0, 3.3446270301737613, 0.0, 0.0, 0.0, 1.4701758451005928, 0.0, 1.724550719534605, 0.0, 0.0, 4.129228964075603, 2.4790562361098245, 0.0, 3.675794214565281, 0.0, 1.5085119938441398, 0.0, 0.0, 0.0, 2.214846178686039, 0.0, 0.0, 0.7839015438284094, 0.6418538861723948, 0.0, 0.0, 0.0, 1.0784095813505903, 4.267176792994939, 2.405141681319138, 1.4327007339340463, 0.0, 0.0, 2.081938421878423, 0.0, 0.0, 2.0241930674493576, 1.1662709371419244, 0.9669838461896731, 0.3074846997479606, 2.1234584270966104, 0.5364933705145685, 0.0, 0.0, 0.0, 0.8586616190375187, 0.8878912573524571, 1.0152306797290587, 2.166765369851511, 0.0, 1.3217558399823195, 5.633109621361155, 0.0, 2.1972245773362196, 3.6381123370602833, 1.2919836816486494, 0.0, 0.0, 0.0, 0.0, 0.0, 1.9878743481543455, 4.471067201464611, 2.8524391037275145, 2.329227023940467, 0.41871033485818504, 0.15700374880966475, 0.0, 0.2151113796169455, 0.19062035960864973, 0.5187937934151676, 0.0, 1.244154593958768, 0.9242589015233319, 1.6863989535702288, 1.4586150226995167, 1.925707441737794, 2.2874714551839976, 1.4085449700547104, 0.8671004876833833, 1.6582280766035324, 0.0, 0.0, 2.428336298299606, 0.9400072584914712, 0.5187937934151676, 0.5822156198526637, 2.199444334074532, 0.0, 0.0, 0.0, 2.020222182019865, 5.168379509433644, 0.0, 2.578700529074361, 2.2607208888953467, 3.7914360424390283, 0.0, 0.0, 0.0, 0.0, 3.8649313978942956, 0.0, 2.856470206220483, 1.1216775615991057, 3.311637304949512, 0.0, 0.8285518175661483, 0.0, 0.0, 1.0784095813505903, 1.0986122886681098, 1.463255402256019, 1.3270750014599193, 3.726656818447966, 2.498151876538021, 4.012592060349841, 2.0068708488450007, 0.0, 0.35767444427181594, 1.1537315878891892, 0.0, 2.7523860149222616, 0.0, 1.916922612182061, 3.923753928303845, 1.0818051703517284, 0.0, 0.0, 0.0, 2.469793011977952, 0.0, 3.7812307151781224, 4.427836170705175, 0.0, 1.7850704810772584, 0.0, 5.229824370102736, 1.3987168811184478, 1.235471471385307, 6.616439947564594, 0.0, 0.0, 0.0, 0.0, 0.0, 0.0, 1.5325568680981427, 0.0, 3.392492941032009, 2.833213344056216, 0.0, 0.0, 0.0, 0.0, 0.0, 0.0, 2.3711778844596574, 2.005525858729668, 0.0, 0.0, 0.0, 1.208960345836975, 0.8020015854720274, 0.0, 0.43178241642553783, 0.0, 2.7936160894318567, 0.0, 1.9960599327407849, 1.4350845252893227, 2.005525858729668, 0.5596157879354227, 0.0, 0.5653138090500605, 0.0, 0.0, 0.0, 0.0, 0.0, 0.0, 0.0, 0.0, 0.0, 0.0, 0.4382549309311553, 0.4762341789963716, 0.5709795465857378, 0.6418538861723948, 0.7275486072772778, 0.9400072584914712, 0.9669838461896731, 0.9707789171582247, 1.0647107369924282, 1.1908875647772805, 1.2556160374777743, 0.08617769624105233, 1.3056264580524357, 1.3190856114264407, 1.5040773967762742, 0.0, 1.7101878155342434, 0.0, 0.0, 0.0, 0.0, 0.0, 0.0, 0.0, 0.0, 0.0, 0.0, 0.0, 0.0, 0.0, 0.0, 0.0, 0.0, 0.0, 0.0, 0.0, 0.0, 0.0, 0.0, 0.0, 0.0, 0.0, 0.0, 0.0, 0.0, 1.7387102481382397, 1.2669476034873244, 3.4986265269937014, 2.0744289998562917, 2.2700619012884857, 2.2731562823032334, 4.280824129164719, 5.285637313390662, 4.08260930600368, 2.3997118037247684, 2.800325477211381, 2.3988039507345884, 1.3532545070416904, 3.295836866004329, 0.0, 2.4096441652874536, 1.8293763327993617, 0.0, 0.0, 0.0, 0.28517894223366236, 0.0, 2.3942522815198695, 0.0, 0.0, 3.4170707308184456, 3.3006401266708405, 0.0, 0.0, 0.0, 3.4442568711226023, 0.0, 0.0, 0.0, 1.951608170169951, 1.599387576580599, 2.745345985845907, 2.174751721484161, 0.3852624007906449, 0.0, 0.0, 0.0, 0.0, 0.0, 0.0, 0.0, 2.9014215940827497, 0.5423242908253617, 3.487986511734546, 3.1949928844048685, 0.0, 0.0, 3.007166651179654, 3.6560979645895566, 0.0, 0.0, 0.0, 0.0, 0.0, 0.0, 0.0, 0.0, 5.307970623576175, 5.365415110080531, 0.0, 0.0, 0.0, 0.0, 0.0, 6.995619625423205, 0.0, 0.0, 0.0, 0.0, 0.0, 3.607669398688393, 0.0, 5.049086480470509, 2.528125768907977, 0.0, 0.0, 1.5496879080283263, 0.0, 0.0, 3.902982260775997, 4.175924549214524, 0.0, 0.0, 4.494126887194767, 4.566221435849517, 4.648133885420207, 0.0, 0.0, 0.0, 0.0, 0.0, 4.669646205172456, 0.0, 2.511223958105374, 0.35767444427181594, 0.6729444732424258, 1.1410330045520618, 0.0, 0.0, 0.0, 4.04375277610604, 2.1377104498038118, 0.9042181506398859, 1.5953389880545987, 0.0, 0.0, 2.503073953743449, 1.1568811967920856, 1.9213246735826988, 3.3738261848660236, 0.0, 0.0, 0.9707789171582247, 1.5496879080283263, 2.1174596088673567, 1.1085626195212777, 1.7833912195575383, 1.9416152247724325, 1.9600947840472698, 2.8118094353930627, 2.0255131996542803, 1.4655675420143985, 0.3435897043900769, 1.8213182714695995, 0.0, 0.0, 0.0, 2.727199019940971, 0.0, 0.0, 0.9477893989335261, 0.0, 0.0, 1.5644405465033646, 0.0, 1.6882490928583902, 3.5655812377694427, 2.105352923464337, 0.6981347220709844, 1.1568811967920856, 1.6900958154515549, 0.0, 0.0, 0.0, 0.0, 2.643333886382519, 0.8153648132841945, 1.000631880307906, 0.0, 2.4898941912990393, 0.9593502213346021, 4.27332721775054, 1.7715567619105355, 3.4397768636296306, 1.8453002361560848, 0.9895411936137477, 3.2422016501716975, 0.0, 3.6975913947159578, 1.4036429994545037, 2.084429083190875, 1.2725655957915476, 2.1162555148025524, 1.1019400787607843, 1.0818051703517284, 2.9601050959108397, 1.534714366238164, 0.9001613499442714, 0.0, 2.21046980408624, 0.7371640659767197, 1.597365331199831, 0.41871033485818504, 1.3686394258811698, 1.8946168546677629, 3.0459499897146083, 1.0116009116784799, 2.4898941912990393, 2.3427668826268775, 0.0, 2.50470927708418, 0.7514160886839212, 0.9001613499442714, 2.613006652415316, 0.0, 0.0, 0.0, 2.6878474937846906, 0.0, 0.0, 1.8625285401162623, 2.057962510002712, 0.0, 0.0, 0.0, 3.2280337626529665, 3.9193957597575593, 0.0, 0.0, 0.0, 2.462149662665384, 2.93651291389402, 1.8531680973566984, 2.329227023940467, 2.5006159434931803, 3.2492110246642736, 2.300583090323373, 2.3767644911682972, 3.136797713832594], \"y0\": \" \", \"yaxis\": \"y\"}],\n",
       "                        {\"boxmode\": \"group\", \"legend\": {\"tracegroupgap\": 0}, \"template\": {\"data\": {\"bar\": [{\"error_x\": {\"color\": \"#f2f5fa\"}, \"error_y\": {\"color\": \"#f2f5fa\"}, \"marker\": {\"line\": {\"color\": \"rgb(17,17,17)\", \"width\": 0.5}}, \"type\": \"bar\"}], \"barpolar\": [{\"marker\": {\"line\": {\"color\": \"rgb(17,17,17)\", \"width\": 0.5}}, \"type\": \"barpolar\"}], \"carpet\": [{\"aaxis\": {\"endlinecolor\": \"#A2B1C6\", \"gridcolor\": \"#506784\", \"linecolor\": \"#506784\", \"minorgridcolor\": \"#506784\", \"startlinecolor\": \"#A2B1C6\"}, \"baxis\": {\"endlinecolor\": \"#A2B1C6\", \"gridcolor\": \"#506784\", \"linecolor\": \"#506784\", \"minorgridcolor\": \"#506784\", \"startlinecolor\": \"#A2B1C6\"}, \"type\": \"carpet\"}], \"choropleth\": [{\"colorbar\": {\"outlinewidth\": 0, \"ticks\": \"\"}, \"type\": \"choropleth\"}], \"contour\": [{\"colorbar\": {\"outlinewidth\": 0, \"ticks\": \"\"}, \"colorscale\": [[0.0, \"#0d0887\"], [0.1111111111111111, \"#46039f\"], [0.2222222222222222, \"#7201a8\"], [0.3333333333333333, \"#9c179e\"], [0.4444444444444444, \"#bd3786\"], [0.5555555555555556, \"#d8576b\"], [0.6666666666666666, \"#ed7953\"], [0.7777777777777778, \"#fb9f3a\"], [0.8888888888888888, \"#fdca26\"], [1.0, \"#f0f921\"]], \"type\": \"contour\"}], \"contourcarpet\": [{\"colorbar\": {\"outlinewidth\": 0, \"ticks\": \"\"}, \"type\": \"contourcarpet\"}], \"heatmap\": [{\"colorbar\": {\"outlinewidth\": 0, \"ticks\": \"\"}, \"colorscale\": [[0.0, \"#0d0887\"], [0.1111111111111111, \"#46039f\"], [0.2222222222222222, \"#7201a8\"], [0.3333333333333333, \"#9c179e\"], [0.4444444444444444, \"#bd3786\"], [0.5555555555555556, \"#d8576b\"], [0.6666666666666666, \"#ed7953\"], [0.7777777777777778, \"#fb9f3a\"], [0.8888888888888888, \"#fdca26\"], [1.0, \"#f0f921\"]], \"type\": \"heatmap\"}], \"heatmapgl\": [{\"colorbar\": {\"outlinewidth\": 0, \"ticks\": \"\"}, \"colorscale\": [[0.0, \"#0d0887\"], [0.1111111111111111, \"#46039f\"], [0.2222222222222222, \"#7201a8\"], [0.3333333333333333, \"#9c179e\"], [0.4444444444444444, \"#bd3786\"], [0.5555555555555556, \"#d8576b\"], [0.6666666666666666, \"#ed7953\"], [0.7777777777777778, \"#fb9f3a\"], [0.8888888888888888, \"#fdca26\"], [1.0, \"#f0f921\"]], \"type\": \"heatmapgl\"}], \"histogram\": [{\"marker\": {\"colorbar\": {\"outlinewidth\": 0, \"ticks\": \"\"}}, \"type\": \"histogram\"}], \"histogram2d\": [{\"colorbar\": {\"outlinewidth\": 0, \"ticks\": \"\"}, \"colorscale\": [[0.0, \"#0d0887\"], [0.1111111111111111, \"#46039f\"], [0.2222222222222222, \"#7201a8\"], [0.3333333333333333, \"#9c179e\"], [0.4444444444444444, \"#bd3786\"], [0.5555555555555556, \"#d8576b\"], [0.6666666666666666, \"#ed7953\"], [0.7777777777777778, \"#fb9f3a\"], [0.8888888888888888, \"#fdca26\"], [1.0, \"#f0f921\"]], \"type\": \"histogram2d\"}], \"histogram2dcontour\": [{\"colorbar\": {\"outlinewidth\": 0, \"ticks\": \"\"}, \"colorscale\": [[0.0, \"#0d0887\"], [0.1111111111111111, \"#46039f\"], [0.2222222222222222, \"#7201a8\"], [0.3333333333333333, \"#9c179e\"], [0.4444444444444444, \"#bd3786\"], [0.5555555555555556, \"#d8576b\"], [0.6666666666666666, \"#ed7953\"], [0.7777777777777778, \"#fb9f3a\"], [0.8888888888888888, \"#fdca26\"], [1.0, \"#f0f921\"]], \"type\": \"histogram2dcontour\"}], \"mesh3d\": [{\"colorbar\": {\"outlinewidth\": 0, \"ticks\": \"\"}, \"type\": \"mesh3d\"}], \"parcoords\": [{\"line\": {\"colorbar\": {\"outlinewidth\": 0, \"ticks\": \"\"}}, \"type\": \"parcoords\"}], \"pie\": [{\"automargin\": true, \"type\": \"pie\"}], \"scatter\": [{\"marker\": {\"line\": {\"color\": \"#283442\"}}, \"type\": \"scatter\"}], \"scatter3d\": [{\"line\": {\"colorbar\": {\"outlinewidth\": 0, \"ticks\": \"\"}}, \"marker\": {\"colorbar\": {\"outlinewidth\": 0, \"ticks\": \"\"}}, \"type\": \"scatter3d\"}], \"scattercarpet\": [{\"marker\": {\"colorbar\": {\"outlinewidth\": 0, \"ticks\": \"\"}}, \"type\": \"scattercarpet\"}], \"scattergeo\": [{\"marker\": {\"colorbar\": {\"outlinewidth\": 0, \"ticks\": \"\"}}, \"type\": \"scattergeo\"}], \"scattergl\": [{\"marker\": {\"line\": {\"color\": \"#283442\"}}, \"type\": \"scattergl\"}], \"scattermapbox\": [{\"marker\": {\"colorbar\": {\"outlinewidth\": 0, \"ticks\": \"\"}}, \"type\": \"scattermapbox\"}], \"scatterpolar\": [{\"marker\": {\"colorbar\": {\"outlinewidth\": 0, \"ticks\": \"\"}}, \"type\": \"scatterpolar\"}], \"scatterpolargl\": [{\"marker\": {\"colorbar\": {\"outlinewidth\": 0, \"ticks\": \"\"}}, \"type\": \"scatterpolargl\"}], \"scatterternary\": [{\"marker\": {\"colorbar\": {\"outlinewidth\": 0, \"ticks\": \"\"}}, \"type\": \"scatterternary\"}], \"surface\": [{\"colorbar\": {\"outlinewidth\": 0, \"ticks\": \"\"}, \"colorscale\": [[0.0, \"#0d0887\"], [0.1111111111111111, \"#46039f\"], [0.2222222222222222, \"#7201a8\"], [0.3333333333333333, \"#9c179e\"], [0.4444444444444444, \"#bd3786\"], [0.5555555555555556, \"#d8576b\"], [0.6666666666666666, \"#ed7953\"], [0.7777777777777778, \"#fb9f3a\"], [0.8888888888888888, \"#fdca26\"], [1.0, \"#f0f921\"]], \"type\": \"surface\"}], \"table\": [{\"cells\": {\"fill\": {\"color\": \"#506784\"}, \"line\": {\"color\": \"rgb(17,17,17)\"}}, \"header\": {\"fill\": {\"color\": \"#2a3f5f\"}, \"line\": {\"color\": \"rgb(17,17,17)\"}}, \"type\": \"table\"}]}, \"layout\": {\"annotationdefaults\": {\"arrowcolor\": \"#f2f5fa\", \"arrowhead\": 0, \"arrowwidth\": 1}, \"coloraxis\": {\"colorbar\": {\"outlinewidth\": 0, \"ticks\": \"\"}}, \"colorscale\": {\"diverging\": [[0, \"#8e0152\"], [0.1, \"#c51b7d\"], [0.2, \"#de77ae\"], [0.3, \"#f1b6da\"], [0.4, \"#fde0ef\"], [0.5, \"#f7f7f7\"], [0.6, \"#e6f5d0\"], [0.7, \"#b8e186\"], [0.8, \"#7fbc41\"], [0.9, \"#4d9221\"], [1, \"#276419\"]], \"sequential\": [[0.0, \"#0d0887\"], [0.1111111111111111, \"#46039f\"], [0.2222222222222222, \"#7201a8\"], [0.3333333333333333, \"#9c179e\"], [0.4444444444444444, \"#bd3786\"], [0.5555555555555556, \"#d8576b\"], [0.6666666666666666, \"#ed7953\"], [0.7777777777777778, \"#fb9f3a\"], [0.8888888888888888, \"#fdca26\"], [1.0, \"#f0f921\"]], \"sequentialminus\": [[0.0, \"#0d0887\"], [0.1111111111111111, \"#46039f\"], [0.2222222222222222, \"#7201a8\"], [0.3333333333333333, \"#9c179e\"], [0.4444444444444444, \"#bd3786\"], [0.5555555555555556, \"#d8576b\"], [0.6666666666666666, \"#ed7953\"], [0.7777777777777778, \"#fb9f3a\"], [0.8888888888888888, \"#fdca26\"], [1.0, \"#f0f921\"]]}, \"colorway\": [\"#636efa\", \"#EF553B\", \"#00cc96\", \"#ab63fa\", \"#FFA15A\", \"#19d3f3\", \"#FF6692\", \"#B6E880\", \"#FF97FF\", \"#FECB52\"], \"font\": {\"color\": \"#f2f5fa\"}, \"geo\": {\"bgcolor\": \"rgb(17,17,17)\", \"lakecolor\": \"rgb(17,17,17)\", \"landcolor\": \"rgb(17,17,17)\", \"showlakes\": true, \"showland\": true, \"subunitcolor\": \"#506784\"}, \"hoverlabel\": {\"align\": \"left\"}, \"hovermode\": \"closest\", \"mapbox\": {\"style\": \"dark\"}, \"paper_bgcolor\": \"rgb(17,17,17)\", \"plot_bgcolor\": \"rgb(17,17,17)\", \"polar\": {\"angularaxis\": {\"gridcolor\": \"#506784\", \"linecolor\": \"#506784\", \"ticks\": \"\"}, \"bgcolor\": \"rgb(17,17,17)\", \"radialaxis\": {\"gridcolor\": \"#506784\", \"linecolor\": \"#506784\", \"ticks\": \"\"}}, \"scene\": {\"xaxis\": {\"backgroundcolor\": \"rgb(17,17,17)\", \"gridcolor\": \"#506784\", \"gridwidth\": 2, \"linecolor\": \"#506784\", \"showbackground\": true, \"ticks\": \"\", \"zerolinecolor\": \"#C8D4E3\"}, \"yaxis\": {\"backgroundcolor\": \"rgb(17,17,17)\", \"gridcolor\": \"#506784\", \"gridwidth\": 2, \"linecolor\": \"#506784\", \"showbackground\": true, \"ticks\": \"\", \"zerolinecolor\": \"#C8D4E3\"}, \"zaxis\": {\"backgroundcolor\": \"rgb(17,17,17)\", \"gridcolor\": \"#506784\", \"gridwidth\": 2, \"linecolor\": \"#506784\", \"showbackground\": true, \"ticks\": \"\", \"zerolinecolor\": \"#C8D4E3\"}}, \"shapedefaults\": {\"line\": {\"color\": \"#f2f5fa\"}}, \"sliderdefaults\": {\"bgcolor\": \"#C8D4E3\", \"bordercolor\": \"rgb(17,17,17)\", \"borderwidth\": 1, \"tickwidth\": 0}, \"ternary\": {\"aaxis\": {\"gridcolor\": \"#506784\", \"linecolor\": \"#506784\", \"ticks\": \"\"}, \"baxis\": {\"gridcolor\": \"#506784\", \"linecolor\": \"#506784\", \"ticks\": \"\"}, \"bgcolor\": \"rgb(17,17,17)\", \"caxis\": {\"gridcolor\": \"#506784\", \"linecolor\": \"#506784\", \"ticks\": \"\"}}, \"title\": {\"x\": 0.05}, \"updatemenudefaults\": {\"bgcolor\": \"#506784\", \"borderwidth\": 0}, \"xaxis\": {\"automargin\": true, \"gridcolor\": \"#283442\", \"linecolor\": \"#506784\", \"ticks\": \"\", \"title\": {\"standoff\": 15}, \"zerolinecolor\": \"#283442\", \"zerolinewidth\": 2}, \"yaxis\": {\"automargin\": true, \"gridcolor\": \"#283442\", \"linecolor\": \"#506784\", \"ticks\": \"\", \"title\": {\"standoff\": 15}, \"zerolinecolor\": \"#283442\", \"zerolinewidth\": 2}}}, \"title\": {\"text\": \"Distribution of the burnt area across different months in a year\"}, \"xaxis\": {\"anchor\": \"y\", \"domain\": [0.0, 1.0], \"title\": {\"text\": \"months\"}}, \"yaxis\": {\"anchor\": \"x\", \"domain\": [0.0, 1.0], \"title\": {\"text\": \"y\"}}},\n",
       "                        {\"responsive\": true}\n",
       "                    ).then(function(){\n",
       "                            \n",
       "var gd = document.getElementById('ccd6269d-45e2-489b-8501-2436ed176bb7');\n",
       "var x = new MutationObserver(function (mutations, observer) {{\n",
       "        var display = window.getComputedStyle(gd).display;\n",
       "        if (!display || display === 'none') {{\n",
       "            console.log([gd, 'removed!']);\n",
       "            Plotly.purge(gd);\n",
       "            observer.disconnect();\n",
       "        }}\n",
       "}});\n",
       "\n",
       "// Listen for the removal of the full notebook cells\n",
       "var notebookContainer = gd.closest('#notebook-container');\n",
       "if (notebookContainer) {{\n",
       "    x.observe(notebookContainer, {childList: true});\n",
       "}}\n",
       "\n",
       "// Listen for the clearing of the current output cell\n",
       "var outputEl = gd.closest('.output');\n",
       "if (outputEl) {{\n",
       "    x.observe(outputEl, {childList: true});\n",
       "}}\n",
       "\n",
       "                        })\n",
       "                };\n",
       "                });\n",
       "            </script>\n",
       "        </div>"
      ]
     },
     "metadata": {},
     "output_type": "display_data"
    }
   ],
   "source": [
    "a = df2.loc[: , [\"area\", \"months\"]].sort_values(\"months\")\n",
    "fig = px.box(a,x='months', y=np.log1p(a.area), title = 'Distribution of the burnt area across different months in a year')\n",
    "fig.show()"
   ]
  },
  {
   "cell_type": "code",
   "execution_count": null,
   "metadata": {},
   "outputs": [],
   "source": []
  },
  {
   "cell_type": "code",
   "execution_count": null,
   "metadata": {},
   "outputs": [],
   "source": []
  }
 ],
 "metadata": {
  "kernelspec": {
   "display_name": "Python 3",
   "language": "python",
   "name": "python3"
  },
  "language_info": {
   "codemirror_mode": {
    "name": "ipython",
    "version": 3
   },
   "file_extension": ".py",
   "mimetype": "text/x-python",
   "name": "python",
   "nbconvert_exporter": "python",
   "pygments_lexer": "ipython3",
   "version": "3.6.1"
  }
 },
 "nbformat": 4,
 "nbformat_minor": 4
}
