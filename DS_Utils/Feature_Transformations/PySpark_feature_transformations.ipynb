{
 "cells": [
  {
   "cell_type": "code",
   "execution_count": 46,
   "metadata": {},
   "outputs": [],
   "source": [
    "import findspark\n",
    "findspark.init()\n",
    "\n",
    "import pyspark;\n",
    "from pyspark.ml import Pipeline\n",
    "from pyspark.ml.feature import *\n",
    "\n",
    "from pyspark import SparkConf, SparkContext\n",
    "from pyspark.sql import SQLContext, SparkSession\n",
    "from pyspark.sql.types import *\n",
    "from pyspark import SparkConf, SparkContext \n",
    "from pyspark.sql.functions import udf\n",
    "\n",
    "from pyspark.ml.classification import DecisionTreeClassifier\n",
    "from pyspark.ml.evaluation import MulticlassClassificationEvaluator\n",
    "\n",
    "from pyspark.ml.linalg import DenseVector"
   ]
  },
  {
   "cell_type": "code",
   "execution_count": 2,
   "metadata": {},
   "outputs": [
    {
     "data": {
      "text/plain": [
       "<pyspark.sql.session.SparkSession.Builder at 0x1079a7c88>"
      ]
     },
     "execution_count": 2,
     "metadata": {},
     "output_type": "execute_result"
    }
   ],
   "source": [
    "spark = SparkSession.builder.master('local').appName('playground').config('spark.driver.memory', '5G').getOrCreate()\n",
    "spark.builder.config('spark.executor.memory', '16G')\n",
    "spark.builder.config(\"spark.executor.cores\", \"4\")"
   ]
  },
  {
   "cell_type": "code",
   "execution_count": 3,
   "metadata": {},
   "outputs": [],
   "source": [
    "#Importing Data \n",
    "df = spark.read.csv('/Users/spurushe/Downloads/iris_train.csv', header='true', inferSchema='true')"
   ]
  },
  {
   "cell_type": "code",
   "execution_count": 4,
   "metadata": {},
   "outputs": [
    {
     "name": "stdout",
     "output_type": "stream",
     "text": [
      "+------+-----------+----------+-----------+----------+---------------+------+----------+\n",
      "|Row_id|SepalLength|SepalWidth|PetalLength|PetalWidth|          Class|Smelly|    Status|\n",
      "+------+-----------+----------+-----------+----------+---------------+------+----------+\n",
      "|     1|        5.1|       3.5|        1.4|       0.2|    Iris-setosa|   Yes|Developing|\n",
      "|     2|        4.9|       3.0|        1.4|       0.2|    Iris-setosa|   Yes|Developing|\n",
      "|     3|        5.0|       3.6|        1.4|       0.2|    Iris-setosa|   Yes|Developing|\n",
      "|     4|        4.8|       3.0|        1.4|       0.1|    Iris-setosa|   Yes|Developing|\n",
      "|     5|        4.3|       3.0|        1.1|       0.1|    Iris-setosa|   Yes|Developing|\n",
      "|     6|        5.8|       4.0|        1.2|       0.2|    Iris-setosa|   Yes|Developing|\n",
      "|     7|        5.7|       4.4|        1.5|       0.4|    Iris-setosa|   Yes|Developing|\n",
      "|     8|        5.4|       3.9|        1.3|       0.4|    Iris-setosa|   Yes|Developing|\n",
      "|     9|        6.4|       3.2|        4.5|       1.5|Iris-versicolor|   Yes|Developing|\n",
      "|    10|        6.9|       3.1|        4.9|       1.5|Iris-versicolor|   Yes|Developing|\n",
      "+------+-----------+----------+-----------+----------+---------------+------+----------+\n",
      "only showing top 10 rows\n",
      "\n"
     ]
    }
   ],
   "source": [
    "df.show(10)"
   ]
  },
  {
   "cell_type": "markdown",
   "metadata": {},
   "source": [
    "###### The feature transformers are discussed in the order they're usually used in my ML pipelines. (Easier to demonstrate). Urs may differ. "
   ]
  },
  {
   "cell_type": "markdown",
   "metadata": {},
   "source": [
    "##### Categorical columns have to be massaged before they become part of the input feature space on which the machine learning model is trained. \n",
    "\n",
    "Different algorithms differ in the way they handle categorical columns.  \n",
    "Some algorithms like Decision Trees and Random forests are naturally better suited to handle categorical data.  \n",
    "How data is handled (indexed and/ or assembled ) before the training phase depends on the algorithm being used."
   ]
  },
  {
   "cell_type": "markdown",
   "metadata": {},
   "source": [
    "### 1. String Indexer (using a single categorical column)"
   ]
  },
  {
   "cell_type": "code",
   "execution_count": 85,
   "metadata": {},
   "outputs": [
    {
     "name": "stdout",
     "output_type": "stream",
     "text": [
      "+------+-----------+----------+-----------+----------+---------------+------+----------+--------------------+\n",
      "|Row_id|SepalLength|SepalWidth|PetalLength|PetalWidth|          Class|Smelly|    Status|indexed_class_column|\n",
      "+------+-----------+----------+-----------+----------+---------------+------+----------+--------------------+\n",
      "|     9|        6.4|       3.2|        4.5|       1.5|Iris-versicolor|   Yes|Developing|                 0.0|\n",
      "|    10|        6.9|       3.1|        4.9|       1.5|Iris-versicolor|   Yes|Developing|                 0.0|\n",
      "|    11|        5.5|       2.3|        4.0|       1.3|Iris-versicolor|   Yes|Developing|                 0.0|\n",
      "|    12|        6.5|       2.8|        4.6|       1.5|Iris-versicolor|   Yes|Developing|                 0.0|\n",
      "|    13|        5.7|       2.8|        4.5|       1.3|Iris-versicolor|   Yes|Developing|                 0.0|\n",
      "+------+-----------+----------+-----------+----------+---------------+------+----------+--------------------+\n",
      "only showing top 5 rows\n",
      "\n",
      "+------+-----------+----------+-----------+----------+--------------+------+----------+--------------------+\n",
      "|Row_id|SepalLength|SepalWidth|PetalLength|PetalWidth|         Class|Smelly|    Status|indexed_class_column|\n",
      "+------+-----------+----------+-----------+----------+--------------+------+----------+--------------------+\n",
      "|    18|        6.9|       3.1|        5.4|       2.1|Iris-virginica|    No|Developing|                 2.0|\n",
      "|    19|        6.7|       3.1|        5.6|       2.4|Iris-virginica|    No|Developing|                 2.0|\n",
      "|    22|        6.9|       3.1|        5.1|       2.3|Iris-virginica|    No|Developing|                 2.0|\n",
      "|    23|        5.8|       2.7|        5.1|       1.9|Iris-virginica|    No|Developing|                 2.0|\n",
      "|    24|        6.8|       3.2|        5.9|       2.3|Iris-virginica|    No|Developing|                 2.0|\n",
      "+------+-----------+----------+-----------+----------+--------------+------+----------+--------------------+\n",
      "only showing top 5 rows\n",
      "\n",
      "+------+-----------+----------+-----------+----------+-----------+------+----------+--------------------+\n",
      "|Row_id|SepalLength|SepalWidth|PetalLength|PetalWidth|      Class|Smelly|    Status|indexed_class_column|\n",
      "+------+-----------+----------+-----------+----------+-----------+------+----------+--------------------+\n",
      "|     1|        5.1|       3.5|        1.4|       0.2|Iris-setosa|   Yes|Developing|                 1.0|\n",
      "|     2|        4.9|       3.0|        1.4|       0.2|Iris-setosa|   Yes|Developing|                 1.0|\n",
      "|     3|        5.0|       3.6|        1.4|       0.2|Iris-setosa|   Yes|Developing|                 1.0|\n",
      "|     4|        4.8|       3.0|        1.4|       0.1|Iris-setosa|   Yes|Developing|                 1.0|\n",
      "|     5|        4.3|       3.0|        1.1|       0.1|Iris-setosa|   Yes|Developing|                 1.0|\n",
      "+------+-----------+----------+-----------+----------+-----------+------+----------+--------------------+\n",
      "only showing top 5 rows\n",
      "\n"
     ]
    }
   ],
   "source": [
    "# Lets encode the Class column\n",
    "target_st_indexer = StringIndexer(inputCol='Class', outputCol='indexed_class_column')\n",
    "#You can chooose the way you want the String categories indexed.\n",
    "\n",
    "target_st_indexer_model = target_st_indexer.fit(df)\n",
    "transformed_df = target_st_indexer_model.transform(df)\n",
    "\n",
    "# lets see what the encoding was like\n",
    "transformed_df.filter(transformed_df.Class == 'Iris-versicolor').show(5)\n",
    "transformed_df.filter(transformed_df.Class == 'Iris-virginica').show(5)\n",
    "transformed_df.filter(transformed_df.Class == 'Iris-setosa').show(5)"
   ]
  },
  {
   "cell_type": "markdown",
   "metadata": {},
   "source": [
    "You can see that each category in the 'Class' column now is indexed with a separate number index. "
   ]
  },
  {
   "cell_type": "code",
   "execution_count": 11,
   "metadata": {},
   "outputs": [
    {
     "data": {
      "text/plain": [
       "['Iris-versicolor', 'Iris-setosa', 'Iris-virginica']"
      ]
     },
     "execution_count": 11,
     "metadata": {},
     "output_type": "execute_result"
    }
   ],
   "source": [
    "target_st_indexer_model.labels"
   ]
  },
  {
   "cell_type": "markdown",
   "metadata": {},
   "source": [
    "### 1.1. String Indexer (using multiple categorical columns)\n",
    "\n",
    "But what do you do when you have many categorical columns"
   ]
  },
  {
   "cell_type": "code",
   "execution_count": 101,
   "metadata": {},
   "outputs": [
    {
     "data": {
      "text/plain": [
       "['Smelly', 'Status']"
      ]
     },
     "execution_count": 101,
     "metadata": {},
     "output_type": "execute_result"
    }
   ],
   "source": [
    "features = [item[0] for item in df.dtypes if item[1] =='string' and item[0] != 'Class']\n",
    "features"
   ]
  },
  {
   "cell_type": "code",
   "execution_count": 102,
   "metadata": {},
   "outputs": [],
   "source": [
    "# Indexers for each of the categorical columns\n",
    "st_indexers = list(map(lambda name: StringIndexer(inputCol=name, outputCol=\"indexed_\"+name)\n",
    "                               , features))\n",
    "\n",
    "pipeline = Pipeline(stages=st_indexers)"
   ]
  },
  {
   "cell_type": "code",
   "execution_count": 103,
   "metadata": {},
   "outputs": [
    {
     "data": {
      "text/plain": [
       "[StringIndexer_49c79f04a86218c84870, StringIndexer_47a7a84f58c965adf397]"
      ]
     },
     "execution_count": 103,
     "metadata": {},
     "output_type": "execute_result"
    }
   ],
   "source": [
    "#Two individual indexers for each categorical (predictor) columns, remember Class is the target column \n",
    "st_indexers"
   ]
  },
  {
   "cell_type": "code",
   "execution_count": 104,
   "metadata": {},
   "outputs": [
    {
     "name": "stdout",
     "output_type": "stream",
     "text": [
      "+------+-----------+----------+-----------+----------+---------------+------+----------+--------------+--------------+\n",
      "|Row_id|SepalLength|SepalWidth|PetalLength|PetalWidth|          Class|Smelly|    Status|indexed_Smelly|indexed_Status|\n",
      "+------+-----------+----------+-----------+----------+---------------+------+----------+--------------+--------------+\n",
      "|     1|        5.1|       3.5|        1.4|       0.2|    Iris-setosa|   Yes|Developing|           0.0|           0.0|\n",
      "|     2|        4.9|       3.0|        1.4|       0.2|    Iris-setosa|   Yes|Developing|           0.0|           0.0|\n",
      "|     3|        5.0|       3.6|        1.4|       0.2|    Iris-setosa|   Yes|Developing|           0.0|           0.0|\n",
      "|     4|        4.8|       3.0|        1.4|       0.1|    Iris-setosa|   Yes|Developing|           0.0|           0.0|\n",
      "|     5|        4.3|       3.0|        1.1|       0.1|    Iris-setosa|   Yes|Developing|           0.0|           0.0|\n",
      "|     6|        5.8|       4.0|        1.2|       0.2|    Iris-setosa|   Yes|Developing|           0.0|           0.0|\n",
      "|     7|        5.7|       4.4|        1.5|       0.4|    Iris-setosa|   Yes|Developing|           0.0|           0.0|\n",
      "|     8|        5.4|       3.9|        1.3|       0.4|    Iris-setosa|   Yes|Developing|           0.0|           0.0|\n",
      "|     9|        6.4|       3.2|        4.5|       1.5|Iris-versicolor|   Yes|Developing|           0.0|           0.0|\n",
      "|    10|        6.9|       3.1|        4.9|       1.5|Iris-versicolor|   Yes|Developing|           0.0|           0.0|\n",
      "+------+-----------+----------+-----------+----------+---------------+------+----------+--------------+--------------+\n",
      "only showing top 10 rows\n",
      "\n"
     ]
    }
   ],
   "source": [
    "indexer_model = pipeline.fit(df)\n",
    "transformed_df = indexer_model.transform(df)\n",
    "transformed_df.show(10)\n",
    "\n",
    "#String Indexing completed "
   ]
  },
  {
   "cell_type": "markdown",
   "metadata": {},
   "source": [
    "### 2. Vector Assembler\n",
    "\n",
    "This transformer helps in collecting all the raw features and massaged categorical (encoded/indexed) features into a single feature vector.  \n",
    "**Vector Assembler HAS to come AFTER an Indexer (StringIndexer etc) if your data has categorical predictor columns**\n",
    "  \n",
    "A Vector Assembler cannot take categorical features for assembling.\n",
    "For eg. it cannot do [0.1, 76, 98, 'Yes', 'Red', 1]  \n",
    "It accepts boolean, numerical and vector types only, not StringType."
   ]
  },
  {
   "cell_type": "code",
   "execution_count": 105,
   "metadata": {},
   "outputs": [
    {
     "data": {
      "text/plain": [
       "[('Row_id', 'int'),\n",
       " ('SepalLength', 'double'),\n",
       " ('SepalWidth', 'double'),\n",
       " ('PetalLength', 'double'),\n",
       " ('PetalWidth', 'double'),\n",
       " ('Class', 'string'),\n",
       " ('Smelly', 'string'),\n",
       " ('Status', 'string'),\n",
       " ('indexed_Smelly', 'double'),\n",
       " ('indexed_Status', 'double')]"
      ]
     },
     "execution_count": 105,
     "metadata": {},
     "output_type": "execute_result"
    }
   ],
   "source": [
    "transformed_df.dtypes"
   ]
  },
  {
   "cell_type": "code",
   "execution_count": 106,
   "metadata": {},
   "outputs": [
    {
     "data": {
      "text/plain": [
       "['SepalLength',\n",
       " 'SepalWidth',\n",
       " 'PetalLength',\n",
       " 'PetalWidth',\n",
       " 'indexed_Smelly',\n",
       " 'indexed_Status']"
      ]
     },
     "execution_count": 106,
     "metadata": {},
     "output_type": "execute_result"
    }
   ],
   "source": [
    "# Collecting the numerical (raw and massaged) input features \n",
    "#Row id does not provide any information \n",
    "vecAss_features = [item[0] for item in transformed_df.dtypes if item[1] != 'string' and item[0] != 'Row_id' ]\n",
    "vecAss_features"
   ]
  },
  {
   "cell_type": "code",
   "execution_count": 107,
   "metadata": {},
   "outputs": [
    {
     "name": "stdout",
     "output_type": "stream",
     "text": [
      "+--------------------+\n",
      "|  assembled_features|\n",
      "+--------------------+\n",
      "|[5.1,3.5,1.4,0.2,...|\n",
      "|[4.9,3.0,1.4,0.2,...|\n",
      "|[5.0,3.6,1.4,0.2,...|\n",
      "|[4.8,3.0,1.4,0.1,...|\n",
      "|[4.3,3.0,1.1,0.1,...|\n",
      "|[5.8,4.0,1.2,0.2,...|\n",
      "|[5.7,4.4,1.5,0.4,...|\n",
      "|[5.4,3.9,1.3,0.4,...|\n",
      "|[6.4,3.2,4.5,1.5,...|\n",
      "|[6.9,3.1,4.9,1.5,...|\n",
      "|[5.5,2.3,4.0,1.3,...|\n",
      "|[6.5,2.8,4.6,1.5,...|\n",
      "|[5.7,2.8,4.5,1.3,...|\n",
      "|[6.3,3.3,4.7,1.6,...|\n",
      "|[5.1,3.5,1.4,0.3,...|\n",
      "|[5.7,3.8,1.7,0.3,...|\n",
      "|[5.1,3.8,1.5,0.3,...|\n",
      "|[6.9,3.1,5.4,2.1,...|\n",
      "|[6.7,3.1,5.6,2.4,...|\n",
      "|[5.4,3.4,1.7,0.2,...|\n",
      "+--------------------+\n",
      "only showing top 20 rows\n",
      "\n"
     ]
    }
   ],
   "source": [
    "vec_assembler = VectorAssembler(inputCols=vecAss_features, outputCol=\"assembled_features\")\n",
    "\n",
    "\n",
    "#How the assembler works by itself \n",
    "assembled_pipeline = Pipeline(stages=[vec_assembler])\n",
    "assembled_pipeline_model = assembled_pipeline.fit(transformed_df)\n",
    "\n",
    "asb_transformed_df = assembled_pipeline_model.transform(transformed_df)\n",
    "asb_transformed_df.select(\"assembled_features\").show()"
   ]
  },
  {
   "cell_type": "markdown",
   "metadata": {},
   "source": [
    "You can see that all the numerical data has been assembled into vectors (one vector per record)."
   ]
  },
  {
   "cell_type": "markdown",
   "metadata": {},
   "source": [
    "### 2. Vector Indexer"
   ]
  },
  {
   "cell_type": "code",
   "execution_count": 108,
   "metadata": {},
   "outputs": [],
   "source": [
    "vec_indexer = VectorIndexer(inputCol=\"assembled_features\", outputCol=\"indexed_ml_features\", maxCategories=2)"
   ]
  },
  {
   "cell_type": "code",
   "execution_count": 109,
   "metadata": {},
   "outputs": [
    {
     "name": "stdout",
     "output_type": "stream",
     "text": [
      "+--------------------+\n",
      "| indexed_ml_features|\n",
      "+--------------------+\n",
      "|[5.1,3.5,1.4,0.2,...|\n",
      "|[4.9,3.0,1.4,0.2,...|\n",
      "|[5.0,3.6,1.4,0.2,...|\n",
      "|[4.8,3.0,1.4,0.1,...|\n",
      "|[4.3,3.0,1.1,0.1,...|\n",
      "|[5.8,4.0,1.2,0.2,...|\n",
      "|[5.7,4.4,1.5,0.4,...|\n",
      "|[5.4,3.9,1.3,0.4,...|\n",
      "|[6.4,3.2,4.5,1.5,...|\n",
      "|[6.9,3.1,4.9,1.5,...|\n",
      "|[5.5,2.3,4.0,1.3,...|\n",
      "|[6.5,2.8,4.6,1.5,...|\n",
      "|[5.7,2.8,4.5,1.3,...|\n",
      "|[6.3,3.3,4.7,1.6,...|\n",
      "|[5.1,3.5,1.4,0.3,...|\n",
      "|[5.7,3.8,1.7,0.3,...|\n",
      "|[5.1,3.8,1.5,0.3,...|\n",
      "|[6.9,3.1,5.4,2.1,...|\n",
      "|[6.7,3.1,5.6,2.4,...|\n",
      "|[5.4,3.4,1.7,0.2,...|\n",
      "+--------------------+\n",
      "only showing top 20 rows\n",
      "\n"
     ]
    }
   ],
   "source": [
    "# Final Transformation pipeline (this should create the input features space that goes into your ml algo)\n",
    "# i.e. your ML algo should use \"indexed_ml_features\" as its inputColumn\n",
    "\n",
    "trans_pipeline = Pipeline(stages=[vec_assembler, vec_indexer])\n",
    "trans_pipeline_model = trans_pipeline.fit(transformed_df)\n",
    "\n",
    "ml_input_features_df = trans_pipeline_model.transform(transformed_df)\n",
    "ml_input_features_df.select(\"indexed_ml_features\").show()"
   ]
  },
  {
   "cell_type": "code",
   "execution_count": 71,
   "metadata": {},
   "outputs": [
    {
     "name": "stdout",
     "output_type": "stream",
     "text": [
      "DataFrame[dense: string]\n"
     ]
    }
   ],
   "source": [
    "#Trying to see the structure of the Vector Indexed columns\n",
    "\n",
    "#my_Dense = udf(lambda vec: vec.toDense)\n",
    "#x = ml_input_features_df.withColumn(\"dense\", my_Dense(\"indexed_ml_features\"))\n",
    "\n",
    "#print(x.select(\"dense\"))"
   ]
  },
  {
   "cell_type": "code",
   "execution_count": 110,
   "metadata": {},
   "outputs": [],
   "source": [
    "dec_t = DecisionTreeClassifier(labelCol=\"indexed_class_column\", featuresCol=\"indexed_ml_features\")"
   ]
  },
  {
   "cell_type": "code",
   "execution_count": 111,
   "metadata": {},
   "outputs": [],
   "source": [
    "(trainingData, testData) = ml_input_features_df.randomSplit([0.7, 0.3], seed=2018)"
   ]
  },
  {
   "cell_type": "code",
   "execution_count": 120,
   "metadata": {},
   "outputs": [
    {
     "data": {
      "text/plain": [
       "['Row_id',\n",
       " 'SepalLength',\n",
       " 'SepalWidth',\n",
       " 'PetalLength',\n",
       " 'PetalWidth',\n",
       " 'Class',\n",
       " 'Smelly',\n",
       " 'Status',\n",
       " 'indexed_Smelly',\n",
       " 'indexed_Status',\n",
       " 'assembled_features',\n",
       " 'indexed_ml_features']"
      ]
     },
     "execution_count": 120,
     "metadata": {},
     "output_type": "execute_result"
    }
   ],
   "source": [
    "ml_input_features_df.columns"
   ]
  },
  {
   "cell_type": "code",
   "execution_count": 88,
   "metadata": {},
   "outputs": [
    {
     "data": {
      "text/plain": [
       "['SepalLength',\n",
       " 'SepalWidth',\n",
       " 'PetalLength',\n",
       " 'PetalWidth',\n",
       " 'indexed_Smelly',\n",
       " 'indexed_Status']"
      ]
     },
     "execution_count": 88,
     "metadata": {},
     "output_type": "execute_result"
    }
   ],
   "source": [
    "vec_assembler.getInputCols()"
   ]
  },
  {
   "cell_type": "code",
   "execution_count": 112,
   "metadata": {},
   "outputs": [],
   "source": [
    "final_ml_pipiline = Pipeline(stages=[target_st_indexer, dec_t])"
   ]
  },
  {
   "cell_type": "code",
   "execution_count": 113,
   "metadata": {},
   "outputs": [],
   "source": [
    "#Train final DT\n",
    "dt_model = final_ml_pipiline.fit(trainingData)"
   ]
  },
  {
   "cell_type": "code",
   "execution_count": 114,
   "metadata": {},
   "outputs": [],
   "source": [
    "#predictions\n",
    "predictions = dt_model.transform(testData)"
   ]
  },
  {
   "cell_type": "code",
   "execution_count": 115,
   "metadata": {},
   "outputs": [
    {
     "data": {
      "text/plain": [
       "['Row_id',\n",
       " 'SepalLength',\n",
       " 'SepalWidth',\n",
       " 'PetalLength',\n",
       " 'PetalWidth',\n",
       " 'Class',\n",
       " 'Smelly',\n",
       " 'Status',\n",
       " 'indexed_Smelly',\n",
       " 'indexed_Status',\n",
       " 'assembled_features',\n",
       " 'indexed_ml_features',\n",
       " 'indexed_class_column',\n",
       " 'rawPrediction',\n",
       " 'probability',\n",
       " 'prediction']"
      ]
     },
     "execution_count": 115,
     "metadata": {},
     "output_type": "execute_result"
    }
   ],
   "source": [
    "predictions.columns"
   ]
  },
  {
   "cell_type": "code",
   "execution_count": 116,
   "metadata": {},
   "outputs": [
    {
     "data": {
      "text/plain": [
       "[Row(Class='Iris-setosa', indexed_class_column=2.0, Predicted_label='Iris-setosa'),\n",
       " Row(Class='Iris-setosa', indexed_class_column=2.0, Predicted_label='Iris-setosa'),\n",
       " Row(Class='Iris-versicolor', indexed_class_column=0.0, Predicted_label='Iris-versicolor'),\n",
       " Row(Class='Iris-setosa', indexed_class_column=2.0, Predicted_label='Iris-setosa'),\n",
       " Row(Class='Iris-virginica', indexed_class_column=1.0, Predicted_label='Iris-virginica'),\n",
       " Row(Class='Iris-setosa', indexed_class_column=2.0, Predicted_label='Iris-setosa'),\n",
       " Row(Class='Iris-versicolor', indexed_class_column=0.0, Predicted_label='Iris-versicolor'),\n",
       " Row(Class='Iris-setosa', indexed_class_column=2.0, Predicted_label='Iris-setosa'),\n",
       " Row(Class='Iris-versicolor', indexed_class_column=0.0, Predicted_label='Iris-versicolor'),\n",
       " Row(Class='Iris-setosa', indexed_class_column=2.0, Predicted_label='Iris-setosa'),\n",
       " Row(Class='Iris-setosa', indexed_class_column=2.0, Predicted_label='Iris-setosa'),\n",
       " Row(Class='Iris-versicolor', indexed_class_column=0.0, Predicted_label='Iris-versicolor'),\n",
       " Row(Class='Iris-versicolor', indexed_class_column=0.0, Predicted_label='Iris-versicolor'),\n",
       " Row(Class='Iris-setosa', indexed_class_column=2.0, Predicted_label='Iris-setosa'),\n",
       " Row(Class='Iris-versicolor', indexed_class_column=0.0, Predicted_label='Iris-versicolor'),\n",
       " Row(Class='Iris-setosa', indexed_class_column=2.0, Predicted_label='Iris-setosa'),\n",
       " Row(Class='Iris-setosa', indexed_class_column=2.0, Predicted_label='Iris-setosa'),\n",
       " Row(Class='Iris-setosa', indexed_class_column=2.0, Predicted_label='Iris-setosa'),\n",
       " Row(Class='Iris-versicolor', indexed_class_column=0.0, Predicted_label='Iris-versicolor'),\n",
       " Row(Class='Iris-versicolor', indexed_class_column=0.0, Predicted_label='Iris-versicolor'),\n",
       " Row(Class='Iris-virginica', indexed_class_column=1.0, Predicted_label='Iris-virginica'),\n",
       " Row(Class='Iris-setosa', indexed_class_column=2.0, Predicted_label='Iris-setosa'),\n",
       " Row(Class='Iris-versicolor', indexed_class_column=0.0, Predicted_label='Iris-versicolor'),\n",
       " Row(Class='Iris-virginica', indexed_class_column=1.0, Predicted_label='Iris-virginica'),\n",
       " Row(Class='Iris-virginica', indexed_class_column=1.0, Predicted_label='Iris-virginica'),\n",
       " Row(Class='Iris-versicolor', indexed_class_column=0.0, Predicted_label='Iris-versicolor'),\n",
       " Row(Class='Iris-versicolor', indexed_class_column=0.0, Predicted_label='Iris-versicolor'),\n",
       " Row(Class='Iris-virginica', indexed_class_column=1.0, Predicted_label='Iris-virginica'),\n",
       " Row(Class='Iris-virginica', indexed_class_column=1.0, Predicted_label='Iris-virginica'),\n",
       " Row(Class='Iris-versicolor', indexed_class_column=0.0, Predicted_label='Iris-versicolor')]"
      ]
     },
     "execution_count": 116,
     "metadata": {},
     "output_type": "execute_result"
    }
   ],
   "source": [
    "# Convert indices back to labels\n",
    "in_to_label = IndexToString(inputCol='indexed_class_column', outputCol='Predicted_label').transform(predictions)\n",
    "in_to_label.select('Class','indexed_class_column', 'Predicted_label').head(30)"
   ]
  },
  {
   "cell_type": "code",
   "execution_count": 117,
   "metadata": {},
   "outputs": [
    {
     "name": "stdout",
     "output_type": "stream",
     "text": [
      "Accuracy of our DT model in predicting flowers is  0.9393939393939394\n"
     ]
    }
   ],
   "source": [
    "#*******************************************\n",
    "# EVALUATION\n",
    "#\n",
    "# evaluating the performance of our ML model\n",
    "#*******************************************\n",
    "\n",
    "eva = MulticlassClassificationEvaluator(labelCol='indexed_class_column', predictionCol='prediction', metricName='accuracy')\n",
    "\n",
    "accuracy = eva.evaluate(predictions)\n",
    "print(\"Accuracy of our DT model in predicting flowers is \", accuracy)"
   ]
  },
  {
   "cell_type": "code",
   "execution_count": null,
   "metadata": {},
   "outputs": [],
   "source": []
  },
  {
   "cell_type": "code",
   "execution_count": null,
   "metadata": {},
   "outputs": [],
   "source": [
    "spark.stop()"
   ]
  }
 ],
 "metadata": {
  "kernelspec": {
   "display_name": "Python 3",
   "language": "python",
   "name": "python3"
  },
  "language_info": {
   "codemirror_mode": {
    "name": "ipython",
    "version": 3
   },
   "file_extension": ".py",
   "mimetype": "text/x-python",
   "name": "python",
   "nbconvert_exporter": "python",
   "pygments_lexer": "ipython3",
   "version": "3.6.1"
  }
 },
 "nbformat": 4,
 "nbformat_minor": 2
}
