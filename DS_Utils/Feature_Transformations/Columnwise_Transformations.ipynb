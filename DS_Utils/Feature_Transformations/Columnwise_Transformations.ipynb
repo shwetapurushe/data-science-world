{
 "cells": [
  {
   "cell_type": "markdown",
   "metadata": {},
   "source": [
    "# Goal \n",
    "\n",
    "Ways to apply transformations to columns (all and subset) in PySpark. "
   ]
  },
  {
   "cell_type": "markdown",
   "metadata": {},
   "source": [
    "### Purpose\n",
    "Fundamental understanding and implementation"
   ]
  },
  {
   "cell_type": "code",
   "execution_count": 55,
   "metadata": {},
   "outputs": [],
   "source": [
    "import math;"
   ]
  },
  {
   "cell_type": "code",
   "execution_count": 28,
   "metadata": {},
   "outputs": [],
   "source": [
    "import findspark\n",
    "findspark.init()\n",
    "\n",
    "import pyspark;\n",
    "from pyspark.ml.feature import *\n",
    "from pyspark import SparkConf, SparkContext\n",
    "from pyspark.sql import SQLContext, SparkSession\n",
    "import pyspark.sql.functions as f\n",
    "import functools"
   ]
  },
  {
   "cell_type": "code",
   "execution_count": 2,
   "metadata": {},
   "outputs": [
    {
     "data": {
      "text/plain": [
       "<pyspark.sql.session.SparkSession.Builder at 0x1118c6278>"
      ]
     },
     "execution_count": 2,
     "metadata": {},
     "output_type": "execute_result"
    }
   ],
   "source": [
    "spark = SparkSession.builder.master('local').appName('playground').config('spark.driver.memory', '5G').getOrCreate()\n",
    "spark.builder.config('spark.executor.memory', '16G')\n",
    "spark.builder.config(\"spark.executor.cores\", \"4\")"
   ]
  },
  {
   "cell_type": "markdown",
   "metadata": {},
   "source": [
    "## 1. Using Pythons functools REDUCE"
   ]
  },
  {
   "cell_type": "code",
   "execution_count": 75,
   "metadata": {},
   "outputs": [
    {
     "name": "stdout",
     "output_type": "stream",
     "text": [
      "+-------+-------+\n",
      "|Column1|Column2|\n",
      "+-------+-------+\n",
      "|     10|    100|\n",
      "|  10000|1000000|\n",
      "+-------+-------+\n",
      "\n"
     ]
    }
   ],
   "source": [
    "# Delibrately simple to understand transformations quickly\n",
    "\n",
    "raw_df = spark.createDataFrame(\n",
    "    [\n",
    "        (10, 100),\n",
    "        (10000, 1000000)\n",
    "    ],\n",
    "    [\"Column1\", \"Column2\"] # column names\n",
    ")\n",
    "\n",
    "raw_df.show()"
   ]
  },
  {
   "cell_type": "code",
   "execution_count": 77,
   "metadata": {},
   "outputs": [
    {
     "name": "stdout",
     "output_type": "stream",
     "text": [
      "+-------+-------+\n",
      "|Column1|Column2|\n",
      "+-------+-------+\n",
      "|    1.0|    2.0|\n",
      "|    4.0|    6.0|\n",
      "+-------+-------+\n",
      "\n"
     ]
    }
   ],
   "source": [
    "using_reduce_df = functools.reduce(\n",
    "    \n",
    "    # 1. function \n",
    "    lambda df, column_name: df.withColumn(column_name, #col name\n",
    "                                              \n",
    "                                              # Apply transformation in Spark here\n",
    "                                              f.log10( \n",
    "                                                  \n",
    "                                               f.col(column_name) # retrieve actual column object values\n",
    "                                           \n",
    "                                            )# T end\n",
    "                                          ),\n",
    "    # 2. thing you want to iterate over (iterable)\n",
    "    raw_df.columns, \n",
    "    \n",
    "    # 3. raw sequence data\n",
    "    raw_df\n",
    ")\n",
    "\n",
    "using_reduce_df.show()"
   ]
  },
  {
   "cell_type": "code",
   "execution_count": 78,
   "metadata": {},
   "outputs": [],
   "source": [
    "spark.stop()"
   ]
  },
  {
   "cell_type": "code",
   "execution_count": null,
   "metadata": {},
   "outputs": [],
   "source": []
  }
 ],
 "metadata": {
  "kernelspec": {
   "display_name": "Python 3",
   "language": "python",
   "name": "python3"
  },
  "language_info": {
   "codemirror_mode": {
    "name": "ipython",
    "version": 3
   },
   "file_extension": ".py",
   "mimetype": "text/x-python",
   "name": "python",
   "nbconvert_exporter": "python",
   "pygments_lexer": "ipython3",
   "version": "3.6.1"
  }
 },
 "nbformat": 4,
 "nbformat_minor": 2
}
