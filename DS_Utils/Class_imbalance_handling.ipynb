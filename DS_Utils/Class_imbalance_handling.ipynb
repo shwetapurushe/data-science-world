{
 "cells": [
  {
   "cell_type": "markdown",
   "metadata": {},
   "source": [
    "# Goal \n",
    "\n",
    "Code to handle imbalance.   \n",
    "Need to substitute your data variables."
   ]
  },
  {
   "cell_type": "markdown",
   "metadata": {},
   "source": [
    "Lets look into our output variable a little bit. "
   ]
  },
  {
   "cell_type": "code",
   "execution_count": 210,
   "metadata": {},
   "outputs": [
    {
     "data": {
      "image/png": "[encoded data removed]",
      "text/plain": [
       "<Figure size 432x288 with 1 Axes>"
      ]
     },
     "metadata": {
      "needs_background": "light"
     },
     "output_type": "display_data"
    }
   ],
   "source": [
    "y = recipes_fil.dessert\n",
    "\n",
    "sns.countplot(x = y, palette='hls')\n",
    "\n",
    "plt.title(\"Distribution of the Dessert counts\")\n",
    "plt.show()"
   ]
  },
  {
   "cell_type": "markdown",
   "metadata": {},
   "source": [
    "### Handling class Imbalance. \n",
    "\n",
    "What we're trying to do in this topic is create a 1:1 ratio of the two types of target classes.  We do this so that our model can detect either class with equal power. If we don't balance our target variable our model will be trained to detect one one target class (guess which one) better than the other. In some cases this is what you may need as well. It all depends on what you want your model to do. \n",
    "  \n",
    "  \n",
    "#### <font color=RED>NOTE:</font> \n",
    "Always do the balancing AFTER the test train split, because in our test data (which the model never sees) the distribution of the target classes should be as REAL as possible. This will be the true test of how good our model performs and we should <font color=red>test</font> the model on an unaugmented, imbalanced _test_ dataset. \n",
    "  \n",
    "  \n",
    "  \n",
    "Here lets try 2 commonly used techniques \n",
    "* Undersampling -- reduces the number of training instances of the majority target class seen in the data \n",
    "* Oversampling -- increases the number of training instances of the minority target class seen in the data"
   ]
  },
  {
   "cell_type": "markdown",
   "metadata": {},
   "source": [
    "#### Undersampling"
   ]
  },
  {
   "cell_type": "code",
   "execution_count": 223,
   "metadata": {},
   "outputs": [
    {
     "name": "stdout",
     "output_type": "stream",
     "text": [
      "Count of minority class is :  2087\n",
      "Count of majority undersamples class is :  2087\n"
     ]
    }
   ],
   "source": [
    "# Lets shuffle the data before creating the subsamples\n",
    "train_X = train_X.sample(frac=1, random_state=0)\n",
    "\n",
    "# number of instances which are desserts in the training dataset\n",
    "is_dessert = train_X['dessert'].astype(int) == 1\n",
    "isnot_dessert = train_X['dessert'].astype(int) == 0\n",
    "\n",
    "\n",
    "desserts_df = train_X[is_dessert]\n",
    "non_desert_df = train_X[isnot_dessert]\n",
    "\n",
    "#Lets pick up the same number of records from the majority class\n",
    "non_desert_df_un = non_desert_df.iloc[:len(train_X[is_dessert])]\n",
    "\n",
    "# amount of minority class \n",
    "print(\"Count of minority class is : \", len(train_X[is_dessert]))\n",
    "\n",
    "#amount of majority class \n",
    "print(\"Count of majority undersamples class is : \", len(non_desert_df_un))"
   ]
  },
  {
   "cell_type": "code",
   "execution_count": 224,
   "metadata": {},
   "outputs": [
    {
     "data": {
      "image/png": "[encoded data removed]",
      "text/plain": [
       "<Figure size 432x288 with 1 Axes>"
      ]
     },
     "metadata": {
      "needs_background": "light"
     },
     "output_type": "display_data"
    }
   ],
   "source": [
    "#generating a balanced input dataset\n",
    "co_df = pd.concat([desserts_df, non_desert_df_un], axis=0)\n",
    "\n",
    "# Shuffle dataframe rows _un for undersampling\n",
    "ba_recipes_df_un = co_df.sample(frac= 1, random_state = 0)\n",
    "\n",
    "#lets confirm \n",
    "sns.countplot(x = ba_recipes_df_un.dessert, palette='hls')\n",
    "plt.title('Equal distrbution of both classes of the target variable achieved using Naive Random Undersampling')\n",
    "plt.show()"
   ]
  },
  {
   "cell_type": "markdown",
   "metadata": {},
   "source": [
    "The distribution now looks more even compared to earlier. Remember this dataset, we'll use it again while comparing models generated from different kinds of datasets (imbalanced, balanced using oversampling, balanced using undersampling etc...).  \n",
    "  \n",
    "\n",
    "**One problem** with the random undersampling is that we are underutilizing the potential of the dataset. We are throwing away all those extra instances of the majority class which could have helped train the model. So there is **'information loss'**. When we have a VERY large dataset, this is more acceptable."
   ]
  },
  {
   "cell_type": "markdown",
   "metadata": {},
   "source": [
    "#### Oversampling\n",
    "We will go over two (more in the future) commonly used kinds of oversampling :\n",
    "* Random Oversampling \n",
    "* Synthetic Minority Oversampling Technique (SMOTE)"
   ]
  },
  {
   "cell_type": "markdown",
   "metadata": {},
   "source": [
    "##### Random Oversampling \n",
    "This is the most naive strategy where we create new samples by simply using copies of existing samples, i.e. sampling using *replacement* of the current available minority class. The sample should match the number of instances of the majority class, so that the latter doesn't take over during training. "
   ]
  },
  {
   "cell_type": "code",
   "execution_count": 225,
   "metadata": {},
   "outputs": [],
   "source": [
    "from imblearn.over_sampling import RandomOverSampler"
   ]
  },
  {
   "cell_type": "code",
   "execution_count": 226,
   "metadata": {},
   "outputs": [],
   "source": [
    "r_osampler = RandomOverSampler(random_state = 0, sampling_strategy='minority')\n",
    "X_over , y_over = r_osampler.fit_resample(train_X, train_y)"
   ]
  },
  {
   "cell_type": "code",
   "execution_count": 227,
   "metadata": {},
   "outputs": [
    {
     "data": {
      "text/html": [
       "<div>\n",
       "<style scoped>\n",
       "    .dataframe tbody tr th:only-of-type {\n",
       "        vertical-align: middle;\n",
       "    }\n",
       "\n",
       "    .dataframe tbody tr th {\n",
       "        vertical-align: top;\n",
       "    }\n",
       "\n",
       "    .dataframe thead th {\n",
       "        text-align: right;\n",
       "    }\n",
       "</style>\n",
       "<table border=\"1\" class=\"dataframe\">\n",
       "  <thead>\n",
       "    <tr style=\"text-align: right;\">\n",
       "      <th></th>\n",
       "      <th>title</th>\n",
       "      <th>rating</th>\n",
       "      <th>calories</th>\n",
       "      <th>protein</th>\n",
       "      <th>fat</th>\n",
       "      <th>sodium</th>\n",
       "      <th>#cakeweek</th>\n",
       "      <th>#wasteless</th>\n",
       "      <th>22-minute meals</th>\n",
       "      <th>3-ingredient recipes</th>\n",
       "      <th>...</th>\n",
       "      <th>yellow squash</th>\n",
       "      <th>yogurt</th>\n",
       "      <th>yonkers</th>\n",
       "      <th>yuca</th>\n",
       "      <th>zucchini</th>\n",
       "      <th>cookbooks</th>\n",
       "      <th>leftovers</th>\n",
       "      <th>snack</th>\n",
       "      <th>snack week</th>\n",
       "      <th>turkey</th>\n",
       "    </tr>\n",
       "  </thead>\n",
       "  <tbody>\n",
       "    <tr>\n",
       "      <th>0</th>\n",
       "      <td>Grilled Corn and Shrimp Salad</td>\n",
       "      <td>4.375</td>\n",
       "      <td>298</td>\n",
       "      <td>15</td>\n",
       "      <td>14</td>\n",
       "      <td>450</td>\n",
       "      <td>0</td>\n",
       "      <td>0</td>\n",
       "      <td>0</td>\n",
       "      <td>0</td>\n",
       "      <td>...</td>\n",
       "      <td>0</td>\n",
       "      <td>0</td>\n",
       "      <td>0</td>\n",
       "      <td>0</td>\n",
       "      <td>0</td>\n",
       "      <td>0</td>\n",
       "      <td>0</td>\n",
       "      <td>0</td>\n",
       "      <td>0</td>\n",
       "      <td>0</td>\n",
       "    </tr>\n",
       "    <tr>\n",
       "      <th>1</th>\n",
       "      <td>Spiced Pear and Raisin Pie</td>\n",
       "      <td>3.75</td>\n",
       "      <td>246</td>\n",
       "      <td>2</td>\n",
       "      <td>1</td>\n",
       "      <td>17</td>\n",
       "      <td>0</td>\n",
       "      <td>0</td>\n",
       "      <td>0</td>\n",
       "      <td>0</td>\n",
       "      <td>...</td>\n",
       "      <td>0</td>\n",
       "      <td>0</td>\n",
       "      <td>0</td>\n",
       "      <td>0</td>\n",
       "      <td>0</td>\n",
       "      <td>0</td>\n",
       "      <td>0</td>\n",
       "      <td>0</td>\n",
       "      <td>0</td>\n",
       "      <td>0</td>\n",
       "    </tr>\n",
       "    <tr>\n",
       "      <th>2</th>\n",
       "      <td>Beets with Stout and Sauteed Beet Greens</td>\n",
       "      <td>4.375</td>\n",
       "      <td>176</td>\n",
       "      <td>12</td>\n",
       "      <td>7</td>\n",
       "      <td>1353</td>\n",
       "      <td>0</td>\n",
       "      <td>0</td>\n",
       "      <td>0</td>\n",
       "      <td>0</td>\n",
       "      <td>...</td>\n",
       "      <td>0</td>\n",
       "      <td>0</td>\n",
       "      <td>0</td>\n",
       "      <td>0</td>\n",
       "      <td>0</td>\n",
       "      <td>0</td>\n",
       "      <td>0</td>\n",
       "      <td>0</td>\n",
       "      <td>0</td>\n",
       "      <td>0</td>\n",
       "    </tr>\n",
       "    <tr>\n",
       "      <th>3</th>\n",
       "      <td>\"Virgin Mary\" Aspic</td>\n",
       "      <td>0</td>\n",
       "      <td>180</td>\n",
       "      <td>5</td>\n",
       "      <td>11</td>\n",
       "      <td>479</td>\n",
       "      <td>0</td>\n",
       "      <td>0</td>\n",
       "      <td>0</td>\n",
       "      <td>0</td>\n",
       "      <td>...</td>\n",
       "      <td>0</td>\n",
       "      <td>0</td>\n",
       "      <td>0</td>\n",
       "      <td>0</td>\n",
       "      <td>0</td>\n",
       "      <td>0</td>\n",
       "      <td>0</td>\n",
       "      <td>0</td>\n",
       "      <td>0</td>\n",
       "      <td>0</td>\n",
       "    </tr>\n",
       "    <tr>\n",
       "      <th>4</th>\n",
       "      <td>Wilted Red Cabbage and Bell Pepper Slaw</td>\n",
       "      <td>3.75</td>\n",
       "      <td>193</td>\n",
       "      <td>2</td>\n",
       "      <td>11</td>\n",
       "      <td>461</td>\n",
       "      <td>0</td>\n",
       "      <td>0</td>\n",
       "      <td>0</td>\n",
       "      <td>0</td>\n",
       "      <td>...</td>\n",
       "      <td>0</td>\n",
       "      <td>0</td>\n",
       "      <td>0</td>\n",
       "      <td>0</td>\n",
       "      <td>0</td>\n",
       "      <td>0</td>\n",
       "      <td>0</td>\n",
       "      <td>0</td>\n",
       "      <td>0</td>\n",
       "      <td>0</td>\n",
       "    </tr>\n",
       "  </tbody>\n",
       "</table>\n",
       "<p>5 rows × 680 columns</p>\n",
       "</div>"
      ],
      "text/plain": [
       "                                       title rating calories protein fat  \\\n",
       "0             Grilled Corn and Shrimp Salad   4.375      298      15  14   \n",
       "1                Spiced Pear and Raisin Pie    3.75      246       2   1   \n",
       "2  Beets with Stout and Sauteed Beet Greens   4.375      176      12   7   \n",
       "3                       \"Virgin Mary\" Aspic       0      180       5  11   \n",
       "4   Wilted Red Cabbage and Bell Pepper Slaw    3.75      193       2  11   \n",
       "\n",
       "  sodium #cakeweek #wasteless 22-minute meals 3-ingredient recipes  ...    \\\n",
       "0    450         0          0               0                    0  ...     \n",
       "1     17         0          0               0                    0  ...     \n",
       "2   1353         0          0               0                    0  ...     \n",
       "3    479         0          0               0                    0  ...     \n",
       "4    461         0          0               0                    0  ...     \n",
       "\n",
       "  yellow squash yogurt yonkers yuca zucchini cookbooks leftovers snack  \\\n",
       "0             0      0       0    0        0         0         0     0   \n",
       "1             0      0       0    0        0         0         0     0   \n",
       "2             0      0       0    0        0         0         0     0   \n",
       "3             0      0       0    0        0         0         0     0   \n",
       "4             0      0       0    0        0         0         0     0   \n",
       "\n",
       "  snack week turkey  \n",
       "0          0      0  \n",
       "1          0      0  \n",
       "2          0      0  \n",
       "3          0      0  \n",
       "4          0      0  \n",
       "\n",
       "[5 rows x 680 columns]"
      ]
     },
     "execution_count": 227,
     "metadata": {},
     "output_type": "execute_result"
    }
   ],
   "source": [
    "X_over = pd.DataFrame(X_over, columns = train_X.columns)\n",
    "X_over.head()\n",
    "# Looking good. "
   ]
  },
  {
   "cell_type": "code",
   "execution_count": 228,
   "metadata": {},
   "outputs": [
    {
     "data": {
      "image/png": "[encoded data removed]",
      "text/plain": [
       "<Figure size 432x288 with 1 Axes>"
      ]
     },
     "metadata": {
      "needs_background": "light"
     },
     "output_type": "display_data"
    }
   ],
   "source": [
    "sns.countplot(x = pd.Series(y_over))\n",
    "plt.title('Equal distrbution of both classes of the target variable achieved using Naive Random Oversampling')\n",
    "plt.xlabel('Dessert')\n",
    "plt.show()"
   ]
  },
  {
   "cell_type": "markdown",
   "metadata": {},
   "source": [
    "Neat, the oversampling increased the sampling of our minority class!!  \n",
    "However, remember that resampling with replacement will invariably lead to some duplicates. So our model is being trained on the many identical instances.  This may work, but when the test data has instances that are similar and not identical, will it perform that well? \n",
    "  \n",
    "This is why we will now look into SMOTE as another technique for over sampling. "
   ]
  },
  {
   "cell_type": "markdown",
   "metadata": {},
   "source": [
    "#### SMOTE\n",
    "What this technique does is create synthetic a.k.a. fake data samples following a particular distribution which is inherent in the data. So it generates simialr but not identical fake samples. And it leverages the data to create these fake instances. "
   ]
  },
  {
   "cell_type": "code",
   "execution_count": 229,
   "metadata": {},
   "outputs": [],
   "source": [
    "from imblearn.over_sampling import SMOTE\n",
    "\n",
    "# Look at SmoteNC when using continous and nominal data. \n",
    "# Right now we're looking at calories alone, which is a continuous variable, so lets stick with SMOTE. "
   ]
  },
  {
   "cell_type": "code",
   "execution_count": 230,
   "metadata": {},
   "outputs": [
    {
     "data": {
      "image/png": "[encoded data removed]",
      "text/plain": [
       "<Figure size 432x288 with 1 Axes>"
      ]
     },
     "metadata": {
      "needs_background": "light"
     },
     "output_type": "display_data"
    }
   ],
   "source": [
    "num_train_X = train_X.drop(['title'], axis = 1)\n",
    "\n",
    "#SMOTE\n",
    "sm_sampler = SMOTE(random_state=0, sampling_strategy='minority')\n",
    "X_sm, y_sm = sm_sampler.fit_resample(num_train_X, train_y)\n",
    "X_sm = pd.DataFrame(X_sm, columns=num_train_X.columns)\n",
    "\n",
    "\n",
    "#PLOT to see sampling output\n",
    "sns.countplot(x = pd.Series(y_sm))\n",
    "plt.title('Equal distrbution of both classes of the target variable achieved using SMOTE')\n",
    "plt.xlabel('Dessert')\n",
    "\n",
    "plt.show()"
   ]
  },
  {
   "cell_type": "code",
   "execution_count": null,
   "metadata": {},
   "outputs": [],
   "source": []
  }
 ],
 "metadata": {
  "kernelspec": {
   "display_name": "Python 3",
   "language": "python",
   "name": "python3"
  },
  "language_info": {
   "codemirror_mode": {
    "name": "ipython",
    "version": 3
   },
   "file_extension": ".py",
   "mimetype": "text/x-python",
   "name": "python",
   "nbconvert_exporter": "python",
   "pygments_lexer": "ipython3",
   "version": "3.6.1"
  }
 },
 "nbformat": 4,
 "nbformat_minor": 2
}
